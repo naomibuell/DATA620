{
 "cells": [
  {
   "cell_type": "markdown",
   "id": "c2aea98f",
   "metadata": {},
   "source": [
    "# Week Six - Assignment Data Sets\n",
    "\n",
    "*Instructions*\n",
    "*Here is a dataset that shows a simple 2-node network:  the attendance of 18 Southern Women at 14 social events:*\n",
    "\n",
    "1. *[Brief Description](http://vlado.fmf.uni-lj.si/pub/networks/data/ucinet/ucidata.htm#davis). Small “musty” datasets like that from this 1941 study have proven very valuable in testing and comparing new network algorithms.*\n",
    "2. *[Dataset](http://vlado.fmf.uni-lj.si/pub/networks/data/Ucinet/davis.dat).*\n",
    "3. *Python code to create dataset: https://networkx.github.io/documentation/stable/auto_examples/algorithms/plot_davis_club.html*\n",
    "\n",
    "*What can you infer about the relationships between (1) the women, and (2) the social events?*  "
   ]
  },
  {
   "cell_type": "code",
   "execution_count": null,
   "id": "e2cca68f",
   "metadata": {},
   "outputs": [],
   "source": []
  }
 ],
 "metadata": {
  "language_info": {
   "name": "python"
  }
 },
 "nbformat": 4,
 "nbformat_minor": 5
}
