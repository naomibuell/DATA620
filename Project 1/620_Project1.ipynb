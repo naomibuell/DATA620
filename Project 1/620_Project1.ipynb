{
 "cells": [
  {
   "cell_type": "markdown",
   "id": "479b90d1",
   "metadata": {},
   "source": [
    "# Project 1\n",
    "\n",
    "Authors: Naomi Buell and Richie Rivera\n",
    "\n",
    "## Instructions\n",
    "\n",
    "*For your first project, you are asked to*\n",
    "\n",
    "*1. Identify and load a network dataset that has some categorical information available for each node.*\n",
    "\n",
    "*2. For each of the nodes in the dataset, calculate degree centrality and eigenvector centrality.*\n",
    "\n",
    "*3. Compare your centrality measures across your categorical groups.*\n",
    "\n",
    "*For example, using the dataset from a study of romantic relationships among high school students in Columbus, Ohio [http://researchnews.osu.edu/archive/chains.htm], you might want to determine if there are any differences in your calculated centrality measures between the two sexes.  You might use a t-test or another statistical measure to support your findings.*"
   ]
  },
  {
   "cell_type": "markdown",
   "id": "6ab6a2a9",
   "metadata": {},
   "source": [
    "## Step 1: Identify and load One Piece interactionnetwork dataset\n",
    "\n",
    "For this assignment, we use the [One Piece Interaction](https://github.com/jonaszeu/one-piece-interaction-data) dataset from jonaszeu on github. It was created by scraping a wiki of the show and documenting every interaction between two characters and categorizes it into an interaction type (Communication, Confrontation, Cooperation, etc). This dataset is available in a few different ways but we will be using the `.csv` that is created as our data source.\n",
    "\n",
    "In this dataset, each row corresponds to one interaction (edge) between two characters (nodes). For each node, the available categorical variables are: \n",
    "- `Interaction`, which describes the type of interaction between the two characters (e.g. Perception, Communication, Confrontation, Cooperation, Emotional, Indirect, Physical, or Other),\n",
    "- `Saga`, which describes the saga in which the interaction took place (e.g. East Blue, Alabasta, Sky Island, etc.),\n",
    "- `Arc`, which describes the smaller story arc in which the interaction took place (e.g. Romance Dawn, Orange Town, Syrup Village, etc.), and\n",
    "- `Filler`, which indicates whether the interaction took place in a filler episode (True or False).\n",
    "\n",
    "Below, we outline a high-level analysis plan for loading the data described above and calculating characters' degree centrality to predicting whether they are a central character for a given story arc.\n",
    "\n",
    "1. Import Libraries: Use NetworkX for graph analysis, pandas for data manipulation, and matplotlib for visualization.\n",
    "\n",
    "2. Load the Dataset: Read the CSV file directly from the GitHub repository (using the following url: 'https://raw.githubusercontent.com/jonaszeu/one-piece-interaction-data/refs/heads/main/one_piece_interactions_1-1085.csv') into a pandas DataFrame.\n",
    "\n",
    "3. Visualize the Data: Use NetworkX to visualize the data in a graph, with characters as nodes and interactions as edges, including displaying `Saga` and `Arc` attributes with different colors or shapes, and weighting edges based on interaction frequency.\n",
    "\n",
    "5. Calculate Degree Centrality with NetworkX: \n",
    "    - Calculate degree centrality of each node/character using `NetworkX.degree()`.\n",
    "    - Aggregate and group scores across categorical variables `Saga` and `Arc`.\n",
    "    - Aggregate and group scores across `Interaction` to see how characters rely on specific types of communication types (e.g., some characters may solely rely on confrontation).\n",
    "\n",
    "6. Determine main characters in each saga and arc: \n",
    "    - By comparing degree centrality scores we can find out who the main characters are in each saga and arc and how they interact with other main characters.\n",
    "    - By comparing the degree centrality scores across `Interaction`, we can see how characters rely on different communication styles."
   ]
  },
  {
   "cell_type": "code",
   "execution_count": null,
   "id": "e46ae355",
   "metadata": {},
   "outputs": [],
   "source": []
  },
  {
   "cell_type": "markdown",
   "id": "dbe579da",
   "metadata": {},
   "source": [
    "## Step 2: Calculate degree centrality and eigenvector centrality\n"
   ]
  },
  {
   "cell_type": "code",
   "execution_count": null,
   "id": "1f4f9e6d",
   "metadata": {},
   "outputs": [],
   "source": []
  },
  {
   "cell_type": "markdown",
   "id": "2772633c",
   "metadata": {},
   "source": [
    "## Step 3: Compare centrality measures across Saga, Arc, and Interaction type\n"
   ]
  },
  {
   "cell_type": "markdown",
   "id": "8dd31ec8",
   "metadata": {},
   "source": [
    "## Presentation Video\n",
    "\n",
    "Link to presentation video: [insert]."
   ]
  }
 ],
 "metadata": {
  "kernelspec": {
   "display_name": "Python 3",
   "language": "python",
   "name": "python3"
  },
  "language_info": {
   "codemirror_mode": {
    "name": "ipython",
    "version": 3
   },
   "file_extension": ".py",
   "mimetype": "text/x-python",
   "name": "python",
   "nbconvert_exporter": "python",
   "pygments_lexer": "ipython3",
   "version": "3.11.9"
  }
 },
 "nbformat": 4,
 "nbformat_minor": 5
}
