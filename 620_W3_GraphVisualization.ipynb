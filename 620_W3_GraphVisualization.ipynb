{
 "cells": [
  {
   "cell_type": "markdown",
   "id": "479b90d1",
   "metadata": {},
   "source": [
    "# Week Three - Assignment Graph Visualization\n",
    "*1. Load a graph database of your choosing from a text file or other source.  If you take a large network dataset from the web (such as from [Stanford Large Network Dataset Collection](https://snap.stanford.edu/data/)), please feel free at this point to load just a small subset of the nodes and edges.*\n",
    "\n",
    "*2. Create basic analysis on the graph, including the graph’s diameter, and at least one other metric of your choosing. You may either code the functions by hand (to build your intuition and insight), or use functions in an existing package.*\n",
    "\n",
    "*3. Use a visualization tool of your choice (Neo4j, Gephi, etc.) to display information.*\n",
    "\n",
    "*4. Please record a short video (~ 5 minutes), and submit a link to the video in advance of our meet-up.*"
   ]
  },
  {
   "cell_type": "markdown",
   "id": "c3e2a3f2",
   "metadata": {},
   "source": [
    "First, we import the NetworkX library."
   ]
  },
  {
   "cell_type": "code",
   "execution_count": 1,
   "id": "f8da86ab",
   "metadata": {},
   "outputs": [],
   "source": [
    "# Import libraries\n",
    "import networkx as nx"
   ]
  }
 ],
 "metadata": {
  "kernelspec": {
   "display_name": "base",
   "language": "python",
   "name": "python3"
  },
  "language_info": {
   "codemirror_mode": {
    "name": "ipython",
    "version": 3
   },
   "file_extension": ".py",
   "mimetype": "text/x-python",
   "name": "python",
   "nbconvert_exporter": "python",
   "pygments_lexer": "ipython3",
   "version": "3.13.5"
  }
 },
 "nbformat": 4,
 "nbformat_minor": 5
}
