{
 "cells": [
  {
   "cell_type": "markdown",
   "id": "64a57085",
   "metadata": {},
   "source": [
    "# Assignment – High Frequency Words\n",
    "Authors: Naomi Buell and Richie Rivera\n",
    "\n",
    "*Please answer the following questions in an IPython Notebook, posted to GitHub.*\n",
    "1. *Choose a corpus of interest.*\n",
    "2. *How many total unique words are in the corpus? (Please feel free to define unique words in any interesting, defensible way).*\n",
    "3. *Taking the most common words, how many unique words represent half of the total words in the corpus?*\n",
    "4. *Identify the 200 highest frequency words in this corpus.*\n",
    "5. *Create a graph that shows the relative frequency of these 200 words.*\n",
    "6. *Does the observed relative frequency of these words follow Zipf’s law? Explain.*\n",
    "7. *In what ways do you think the frequency of the words in this corpus differ from “all words in all corpora.”*"
   ]
  },
  {
   "cell_type": "markdown",
   "id": "16d8df7f",
   "metadata": {},
   "source": [
    "We chose the *One Piece Transcripts Dataset (Episodes 382–777)*, which can be found here: https://huggingface.co/datasets/mramazan/One-Piece-Transcripts-with-Character-Names-382-777. This dataset contains all dialogue lines from One Piece episodes 382 to 777.\n",
    "\n",
    "First, we import libraries and load the dataset from online."
   ]
  },
  {
   "cell_type": "code",
   "execution_count": 13,
   "id": "02aaeda4",
   "metadata": {},
   "outputs": [],
   "source": [
    "# Import packages\n",
    "from datasets import load_dataset\n",
    "import nltk, re, pprint\n",
    "from nltk import word_tokenize\n",
    "import numpy as np\n",
    "import pandas as pd"
   ]
  },
  {
   "cell_type": "code",
   "execution_count": null,
   "id": "2e4531d3",
   "metadata": {},
   "outputs": [
    {
     "name": "stderr",
     "output_type": "stream",
     "text": [
      "C:\\Users\\nbuell\\AppData\\Local\\Packages\\PythonSoftwareFoundation.Python.3.11_qbz5n2kfra8p0\\LocalCache\\local-packages\\Python311\\site-packages\\tqdm\\auto.py:21: TqdmWarning: IProgress not found. Please update jupyter and ipywidgets. See https://ipywidgets.readthedocs.io/en/stable/user_install.html\n",
      "  from .autonotebook import tqdm as notebook_tqdm\n",
      "C:\\Users\\nbuell\\AppData\\Local\\Packages\\PythonSoftwareFoundation.Python.3.11_qbz5n2kfra8p0\\LocalCache\\local-packages\\Python311\\site-packages\\huggingface_hub\\file_download.py:143: UserWarning: `huggingface_hub` cache-system uses symlinks by default to efficiently store duplicated files but your machine does not support them in C:\\Users\\nbuell\\.cache\\huggingface\\hub\\datasets--mramazan--One-Piece-Transcripts-with-Character-Names-382-777. Caching files will still work but in a degraded version that might require more space on your disk. This warning can be disabled by setting the `HF_HUB_DISABLE_SYMLINKS_WARNING` environment variable. For more details, see https://huggingface.co/docs/huggingface_hub/how-to-cache#limitations.\n",
      "To support symlinks on Windows, you either need to activate Developer Mode or to run Python as an administrator. In order to activate developer mode, see this article: https://docs.microsoft.com/en-us/windows/apps/get-started/enable-your-device-for-development\n",
      "  warnings.warn(message)\n",
      "Generating train split: 100%|██████████| 100259/100259 [00:00<00:00, 295853.73 examples/s]\n"
     ]
    }
   ],
   "source": [
    "# Login using e.g. `huggingface-cli login` to access this dataset\n",
    "ds = load_dataset(\"mramazan/One-Piece-Transcripts-with-Character-Names-382-777\")"
   ]
  },
  {
   "cell_type": "markdown",
   "id": "26b4a958",
   "metadata": {},
   "source": [
    "We preview the data below. It has 5 columns: `episode`, `start`, `end`, `character`, and `text`. We will be working with the `text` column, which contains the dialogue lines spoken by characters in the episodes."
   ]
  },
  {
   "cell_type": "code",
   "execution_count": 37,
   "id": "9a36e547",
   "metadata": {},
   "outputs": [
    {
     "data": {
      "application/vnd.microsoft.datawrangler.viewer.v0+json": {
       "columns": [
        {
         "name": "index",
         "rawType": "int64",
         "type": "integer"
        },
        {
         "name": "episode",
         "rawType": "int64",
         "type": "integer"
        },
        {
         "name": "start",
         "rawType": "object",
         "type": "string"
        },
        {
         "name": "end",
         "rawType": "object",
         "type": "string"
        },
        {
         "name": "character",
         "rawType": "object",
         "type": "string"
        },
        {
         "name": "text",
         "rawType": "object",
         "type": "string"
        }
       ],
       "ref": "164bccdd-a378-43ec-a634-e52989bdf639",
       "rows": [
        [
         "0",
         "384",
         "0:02:31.76",
         "0:02:32.73",
         "Narrator",
         "Wealth."
        ],
        [
         "1",
         "384",
         "0:02:32.73",
         "0:02:33.99",
         "Narrator",
         "Fame."
        ],
        [
         "2",
         "384",
         "0:02:33.99",
         "0:02:34.79",
         "Narrator",
         "Power."
        ],
        [
         "3",
         "384",
         "0:02:36.01",
         "0:02:38.75",
         "Narrator",
         "The man who once owned everything,"
        ],
        [
         "4",
         "384",
         "0:02:38.75",
         "0:02:39.92",
         "Narrator",
         "The Pirate King,"
        ]
       ],
       "shape": {
        "columns": 5,
        "rows": 5
       }
      },
      "text/html": [
       "<div>\n",
       "<style scoped>\n",
       "    .dataframe tbody tr th:only-of-type {\n",
       "        vertical-align: middle;\n",
       "    }\n",
       "\n",
       "    .dataframe tbody tr th {\n",
       "        vertical-align: top;\n",
       "    }\n",
       "\n",
       "    .dataframe thead th {\n",
       "        text-align: right;\n",
       "    }\n",
       "</style>\n",
       "<table border=\"1\" class=\"dataframe\">\n",
       "  <thead>\n",
       "    <tr style=\"text-align: right;\">\n",
       "      <th></th>\n",
       "      <th>episode</th>\n",
       "      <th>start</th>\n",
       "      <th>end</th>\n",
       "      <th>character</th>\n",
       "      <th>text</th>\n",
       "    </tr>\n",
       "  </thead>\n",
       "  <tbody>\n",
       "    <tr>\n",
       "      <th>0</th>\n",
       "      <td>384</td>\n",
       "      <td>0:02:31.76</td>\n",
       "      <td>0:02:32.73</td>\n",
       "      <td>Narrator</td>\n",
       "      <td>Wealth.</td>\n",
       "    </tr>\n",
       "    <tr>\n",
       "      <th>1</th>\n",
       "      <td>384</td>\n",
       "      <td>0:02:32.73</td>\n",
       "      <td>0:02:33.99</td>\n",
       "      <td>Narrator</td>\n",
       "      <td>Fame.</td>\n",
       "    </tr>\n",
       "    <tr>\n",
       "      <th>2</th>\n",
       "      <td>384</td>\n",
       "      <td>0:02:33.99</td>\n",
       "      <td>0:02:34.79</td>\n",
       "      <td>Narrator</td>\n",
       "      <td>Power.</td>\n",
       "    </tr>\n",
       "    <tr>\n",
       "      <th>3</th>\n",
       "      <td>384</td>\n",
       "      <td>0:02:36.01</td>\n",
       "      <td>0:02:38.75</td>\n",
       "      <td>Narrator</td>\n",
       "      <td>The man who once owned everything,</td>\n",
       "    </tr>\n",
       "    <tr>\n",
       "      <th>4</th>\n",
       "      <td>384</td>\n",
       "      <td>0:02:38.75</td>\n",
       "      <td>0:02:39.92</td>\n",
       "      <td>Narrator</td>\n",
       "      <td>The Pirate King,</td>\n",
       "    </tr>\n",
       "  </tbody>\n",
       "</table>\n",
       "</div>"
      ],
      "text/plain": [
       "   episode       start         end character  \\\n",
       "0      384  0:02:31.76  0:02:32.73  Narrator   \n",
       "1      384  0:02:32.73  0:02:33.99  Narrator   \n",
       "2      384  0:02:33.99  0:02:34.79  Narrator   \n",
       "3      384  0:02:36.01  0:02:38.75  Narrator   \n",
       "4      384  0:02:38.75  0:02:39.92  Narrator   \n",
       "\n",
       "                                 text  \n",
       "0                             Wealth.  \n",
       "1                               Fame.  \n",
       "2                              Power.  \n",
       "3  The man who once owned everything,  \n",
       "4                    The Pirate King,  "
      ]
     },
     "execution_count": 37,
     "metadata": {},
     "output_type": "execute_result"
    }
   ],
   "source": [
    "# Preview the data\n",
    "# Convert the Hugging Face Dataset to a pandas DataFrame\n",
    "df = ds['train'].to_pandas()\n",
    "df.head()\n"
   ]
  }
 ],
 "metadata": {
  "kernelspec": {
   "display_name": "Python 3",
   "language": "python",
   "name": "python3"
  },
  "language_info": {
   "codemirror_mode": {
    "name": "ipython",
    "version": 3
   },
   "file_extension": ".py",
   "mimetype": "text/x-python",
   "name": "python",
   "nbconvert_exporter": "python",
   "pygments_lexer": "ipython3",
   "version": "3.11.9"
  }
 },
 "nbformat": 4,
 "nbformat_minor": 5
}
