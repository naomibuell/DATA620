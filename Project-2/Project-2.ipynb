{
 "cells": [
  {
   "cell_type": "markdown",
   "id": "f93291a4",
   "metadata": {},
   "source": [
    "# Project 2\n",
    "Authors: Richie Rivera and Naomi Buell\n",
    "\n",
    "*Instructions*\n",
    "1. *Identify a large 2-node network dataset—you can start with a dataset in a repository.  Your data should meet the criteria that it consists of ties between and not within two (or more) distinct groups.*\n",
    "2. *Reduce the size of the network using a method such as the island method described in chapter 4 of social network analysis.*\n",
    "3. *What can you infer about each of the distinct groups?*"
   ]
  },
  {
   "cell_type": "markdown",
   "id": "b301bb60",
   "metadata": {},
   "source": [
    "## 1. Identify and load data"
   ]
  },
  {
   "cell_type": "markdown",
   "id": "dac866de",
   "metadata": {},
   "source": [
    "First, we load the necessary libraries."
   ]
  },
  {
   "cell_type": "code",
   "execution_count": 1,
   "id": "69a0aecd",
   "metadata": {},
   "outputs": [],
   "source": [
    "# Import libraries\n",
    "import networkx as nx\n",
    "from networkx.algorithms import bipartite as bi\n",
    "import pandas as pd\n",
    "import numpy as np\n",
    "import requests\n",
    "import zipfile\n",
    "import io"
   ]
  },
  {
   "cell_type": "markdown",
   "id": "e02c454d",
   "metadata": {},
   "source": [
    "We identified a bipartite One Piece character network dataset used by Sugashita and Masuda (2023).[^1] The data is available on GitHub here: https://github.com/KS-92/Manga. The unprojected data are equivalent to a temporal bipartite graph in which the two types of nodes are characters and pages, and an edge connects a character and a page in which the character appears. Note that the characters are anonymized. \n",
    "\n",
    "[^1]: [Sugishita, K., Masuda, N. Social network analysis of manga: similarities to real-world social networks and trends over decades. Appl Netw Sci 8, 79 (2023). https://doi.org/10.1007/s41109-023-00604-0](#references)"
   ]
  },
  {
   "cell_type": "code",
   "execution_count": 2,
   "id": "9192214f",
   "metadata": {},
   "outputs": [
    {
     "name": "stdout",
     "output_type": "stream",
     "text": [
      "Biadjacency matrix\n",
      "<Compressed Sparse Row sparse array of dtype 'int64'\n",
      "\twith 1039 stored elements and shape (34, 475)>\n",
      "  Coords\tValues\n",
      "  (0, 0)\t1\n",
      "  (0, 1)\t1\n",
      "  (0, 2)\t1\n",
      "  (0, 3)\t1\n",
      "  (0, 4)\t1\n",
      "  (0, 5)\t1\n",
      "  (0, 6)\t1\n",
      "  (0, 7)\t1\n",
      "  (0, 8)\t1\n",
      "  (0, 10)\t1\n",
      "  (0, 13)\t1\n",
      "  (0, 14)\t1\n",
      "  (0, 15)\t1\n",
      "  (0, 16)\t1\n",
      "  (0, 17)\t1\n",
      "  (0, 18)\t1\n",
      "  (0, 19)\t1\n",
      "  (0, 20)\t1\n",
      "  (0, 21)\t1\n",
      "  (0, 22)\t1\n",
      "  (0, 23)\t1\n",
      "  (0, 24)\t1\n",
      "  (0, 25)\t1\n",
      "  (0, 26)\t1\n",
      "  (0, 27)\t1\n",
      "  :\t:\n",
      "  (30, 437)\t1\n",
      "  (30, 438)\t1\n",
      "  (30, 439)\t1\n",
      "  (30, 441)\t1\n",
      "  (30, 442)\t1\n",
      "  (30, 443)\t1\n",
      "  (30, 444)\t1\n",
      "  (30, 445)\t1\n",
      "  (30, 446)\t1\n",
      "  (30, 447)\t1\n",
      "  (30, 448)\t1\n",
      "  (30, 474)\t1\n",
      "  (31, 458)\t1\n",
      "  (31, 459)\t1\n",
      "  (31, 460)\t1\n",
      "  (31, 461)\t1\n",
      "  (31, 462)\t1\n",
      "  (31, 463)\t1\n",
      "  (31, 464)\t1\n",
      "  (31, 465)\t1\n",
      "  (31, 466)\t1\n",
      "  (31, 468)\t1\n",
      "  (31, 469)\t1\n",
      "  (31, 470)\t1\n",
      "  (31, 471)\t1\n"
     ]
    }
   ],
   "source": [
    "from networkx.algorithms import bipartite\n",
    "\n",
    "# Download the zip file\n",
    "zip_url = 'https://github.com/KS-92/Manga/raw/main/Manga_network_data.zip'\n",
    "response = requests.get(zip_url)\n",
    "with zipfile.ZipFile(io.BytesIO(response.content)) as z:\n",
    "    # Extract the required files to memory\n",
    "    with z.open('Manga_network_data/Temporal/Temporal_One_Piece.csv') as f:\n",
    "        temporal_one_piece = pd.read_csv(f)\n",
    "    with z.open('Manga_network_data/Static/Static_One_Piece.edgelist') as f:\n",
    "        static_one_piece = nx.read_weighted_edgelist(f, nodetype=int)\n",
    "        static_one_piece_df = nx.to_pandas_edgelist(static_one_piece)\n",
    "        \n",
    "# Create the bipartite graph: nodes are characters and pages, edges connect characters to pages they appear on\n",
    "B = nx.Graph()\n",
    "characters = set(temporal_one_piece['i']).union(set(temporal_one_piece['j']))\n",
    "pages = set(temporal_one_piece['t'])\n",
    "\n",
    "for _, row in temporal_one_piece.iterrows():\n",
    "    B.add_edge(row['i'], row['t'])\n",
    "\n",
    "# Get the character and page node lists (as in the bipartite sets)\n",
    "character_list = sorted(characters)\n",
    "page_list = sorted(pages)\n",
    "\n",
    "print(\"Biadjacency matrix\")\n",
    "print(bi.biadjacency_matrix(B, character_list, page_list))"
   ]
  },
  {
   "cell_type": "markdown",
   "id": "e9b172d1",
   "metadata": {},
   "source": [
    "The biadjacency matrix shows there are 34 characters (represented as rows) and 475 pages (represented as columns) in the dataset. There are 1,039 edges between characters and pages. Coord (0,0) with a value of 1 (binary indicator that the character appeared on that page) respresents character 0 appearing on page 0, for e.g.\n",
    "\n",
    "The character network is constructed by projecting the bipartite graph onto the space of character nodes. I.e., in the character network, two characters are connected by an edge if and only if they appear on the same page at least once. We read in two projected datasets:\n",
    "\n",
    "1. A time-stamped copresence of characters in One Piece volumes one through three, which we read in as `temporal_once_piece` below. The copresence of characters on each page were recorded as interaction between the characters. "
   ]
  },
  {
   "cell_type": "code",
   "execution_count": 3,
   "id": "840fe6a6",
   "metadata": {},
   "outputs": [
    {
     "data": {
      "application/vnd.microsoft.datawrangler.viewer.v0+json": {
       "columns": [
        {
         "name": "index",
         "rawType": "int64",
         "type": "integer"
        },
        {
         "name": "i",
         "rawType": "int64",
         "type": "integer"
        },
        {
         "name": "j",
         "rawType": "int64",
         "type": "integer"
        },
        {
         "name": "t",
         "rawType": "int64",
         "type": "integer"
        }
       ],
       "ref": "716ac263-30f2-41ff-82d2-08e54a2eae27",
       "rows": [
        [
         "0",
         "1",
         "2",
         "3"
        ],
        [
         "1",
         "1",
         "2",
         "4"
        ],
        [
         "2",
         "1",
         "2",
         "5"
        ],
        [
         "3",
         "1",
         "2",
         "6"
        ],
        [
         "4",
         "1",
         "2",
         "7"
        ]
       ],
       "shape": {
        "columns": 3,
        "rows": 5
       }
      },
      "text/html": [
       "<div>\n",
       "<style scoped>\n",
       "    .dataframe tbody tr th:only-of-type {\n",
       "        vertical-align: middle;\n",
       "    }\n",
       "\n",
       "    .dataframe tbody tr th {\n",
       "        vertical-align: top;\n",
       "    }\n",
       "\n",
       "    .dataframe thead th {\n",
       "        text-align: right;\n",
       "    }\n",
       "</style>\n",
       "<table border=\"1\" class=\"dataframe\">\n",
       "  <thead>\n",
       "    <tr style=\"text-align: right;\">\n",
       "      <th></th>\n",
       "      <th>i</th>\n",
       "      <th>j</th>\n",
       "      <th>t</th>\n",
       "    </tr>\n",
       "  </thead>\n",
       "  <tbody>\n",
       "    <tr>\n",
       "      <th>0</th>\n",
       "      <td>1</td>\n",
       "      <td>2</td>\n",
       "      <td>3</td>\n",
       "    </tr>\n",
       "    <tr>\n",
       "      <th>1</th>\n",
       "      <td>1</td>\n",
       "      <td>2</td>\n",
       "      <td>4</td>\n",
       "    </tr>\n",
       "    <tr>\n",
       "      <th>2</th>\n",
       "      <td>1</td>\n",
       "      <td>2</td>\n",
       "      <td>5</td>\n",
       "    </tr>\n",
       "    <tr>\n",
       "      <th>3</th>\n",
       "      <td>1</td>\n",
       "      <td>2</td>\n",
       "      <td>6</td>\n",
       "    </tr>\n",
       "    <tr>\n",
       "      <th>4</th>\n",
       "      <td>1</td>\n",
       "      <td>2</td>\n",
       "      <td>7</td>\n",
       "    </tr>\n",
       "  </tbody>\n",
       "</table>\n",
       "</div>"
      ],
      "text/plain": [
       "   i  j  t\n",
       "0  1  2  3\n",
       "1  1  2  4\n",
       "2  1  2  5\n",
       "3  1  2  6\n",
       "4  1  2  7"
      ]
     },
     "execution_count": 3,
     "metadata": {},
     "output_type": "execute_result"
    }
   ],
   "source": [
    "# Show the first few rows of each dataframe\n",
    "temporal_one_piece.head()"
   ]
  },
  {
   "cell_type": "markdown",
   "id": "12fef525",
   "metadata": {},
   "source": [
    "2. A static character network, which we read in as `static_one_piece` below. The static character network is an aggregate of the temporal character network over time, where the weight of an edge is the number of pages on which the two characters are copresent. Because we are interested in interaction between the characters, the isolated nodes in the character networks are excluded from the analysis."
   ]
  },
  {
   "cell_type": "code",
   "execution_count": 4,
   "id": "d3ca5f7e",
   "metadata": {},
   "outputs": [
    {
     "data": {
      "application/vnd.microsoft.datawrangler.viewer.v0+json": {
       "columns": [
        {
         "name": "index",
         "rawType": "int64",
         "type": "integer"
        },
        {
         "name": "source",
         "rawType": "int64",
         "type": "integer"
        },
        {
         "name": "target",
         "rawType": "int64",
         "type": "integer"
        },
        {
         "name": "weight",
         "rawType": "float64",
         "type": "float"
        }
       ],
       "ref": "ed0deee9-bca1-4413-bed8-6288dda7b87d",
       "rows": [
        [
         "0",
         "1",
         "2",
         "31.0"
        ],
        [
         "1",
         "1",
         "4",
         "16.0"
        ],
        [
         "2",
         "1",
         "26",
         "19.0"
        ],
        [
         "3",
         "1",
         "33",
         "9.0"
        ],
        [
         "4",
         "1",
         "30",
         "13.0"
        ]
       ],
       "shape": {
        "columns": 3,
        "rows": 5
       }
      },
      "text/html": [
       "<div>\n",
       "<style scoped>\n",
       "    .dataframe tbody tr th:only-of-type {\n",
       "        vertical-align: middle;\n",
       "    }\n",
       "\n",
       "    .dataframe tbody tr th {\n",
       "        vertical-align: top;\n",
       "    }\n",
       "\n",
       "    .dataframe thead th {\n",
       "        text-align: right;\n",
       "    }\n",
       "</style>\n",
       "<table border=\"1\" class=\"dataframe\">\n",
       "  <thead>\n",
       "    <tr style=\"text-align: right;\">\n",
       "      <th></th>\n",
       "      <th>source</th>\n",
       "      <th>target</th>\n",
       "      <th>weight</th>\n",
       "    </tr>\n",
       "  </thead>\n",
       "  <tbody>\n",
       "    <tr>\n",
       "      <th>0</th>\n",
       "      <td>1</td>\n",
       "      <td>2</td>\n",
       "      <td>31.0</td>\n",
       "    </tr>\n",
       "    <tr>\n",
       "      <th>1</th>\n",
       "      <td>1</td>\n",
       "      <td>4</td>\n",
       "      <td>16.0</td>\n",
       "    </tr>\n",
       "    <tr>\n",
       "      <th>2</th>\n",
       "      <td>1</td>\n",
       "      <td>26</td>\n",
       "      <td>19.0</td>\n",
       "    </tr>\n",
       "    <tr>\n",
       "      <th>3</th>\n",
       "      <td>1</td>\n",
       "      <td>33</td>\n",
       "      <td>9.0</td>\n",
       "    </tr>\n",
       "    <tr>\n",
       "      <th>4</th>\n",
       "      <td>1</td>\n",
       "      <td>30</td>\n",
       "      <td>13.0</td>\n",
       "    </tr>\n",
       "  </tbody>\n",
       "</table>\n",
       "</div>"
      ],
      "text/plain": [
       "   source  target  weight\n",
       "0       1       2    31.0\n",
       "1       1       4    16.0\n",
       "2       1      26    19.0\n",
       "3       1      33     9.0\n",
       "4       1      30    13.0"
      ]
     },
     "execution_count": 4,
     "metadata": {},
     "output_type": "execute_result"
    }
   ],
   "source": [
    "static_one_piece_df.head()"
   ]
  },
  {
   "cell_type": "markdown",
   "id": "4f04a549",
   "metadata": {},
   "source": []
  },
  {
   "cell_type": "markdown",
   "id": "9852a1d0",
   "metadata": {},
   "source": [
    "## 2. Perform island method"
   ]
  },
  {
   "cell_type": "code",
   "execution_count": null,
   "id": "36e15a1a",
   "metadata": {},
   "outputs": [],
   "source": []
  },
  {
   "cell_type": "markdown",
   "id": "e9ec413a",
   "metadata": {},
   "source": [
    "## 3. Inference"
   ]
  },
  {
   "cell_type": "markdown",
   "id": "9eb19d7a",
   "metadata": {},
   "source": [
    "We can infer that..."
   ]
  }
 ],
 "metadata": {
  "kernelspec": {
   "display_name": "Python 3",
   "language": "python",
   "name": "python3"
  },
  "language_info": {
   "codemirror_mode": {
    "name": "ipython",
    "version": 3
   },
   "file_extension": ".py",
   "mimetype": "text/x-python",
   "name": "python",
   "nbconvert_exporter": "python",
   "pygments_lexer": "ipython3",
   "version": "3.11.9"
  }
 },
 "nbformat": 4,
 "nbformat_minor": 5
}
