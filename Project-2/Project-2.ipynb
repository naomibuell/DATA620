{
 "cells": [
  {
   "cell_type": "markdown",
   "id": "f93291a4",
   "metadata": {},
   "source": [
    "# Project 2\n",
    "Authors: Richie Rivera and Naomi Buell\n",
    "\n",
    "*Instructions*\n",
    "1. *Identify a large 2-node network dataset—you can start with a dataset in a repository.  Your data should meet the criteria that it consists of ties between and not within two (or more) distinct groups.*\n",
    "2. *Reduce the size of the network using a method such as the island method described in chapter 4 of social network analysis.*\n",
    "3. *What can you infer about each of the distinct groups?*"
   ]
  },
  {
   "cell_type": "markdown",
   "id": "b301bb60",
   "metadata": {},
   "source": [
    "## 1. Identify and load data"
   ]
  },
  {
   "cell_type": "code",
   "execution_count": 6,
   "id": "69a0aecd",
   "metadata": {},
   "outputs": [],
   "source": [
    "# Import libraries\n",
    "import networkx as nx\n",
    "import pandas as pd\n",
    "import numpy as np\n",
    "import requests\n",
    "import zipfile\n",
    "import io"
   ]
  },
  {
   "cell_type": "code",
   "execution_count": null,
   "id": "d3ca5f7e",
   "metadata": {},
   "outputs": [
    {
     "name": "stdout",
     "output_type": "stream",
     "text": [
      "   i  j  t\n",
      "0  1  2  3\n",
      "1  1  2  4\n",
      "2  1  2  5\n",
      "3  1  2  6\n",
      "4  1  2  7\n",
      "   source  target  weight\n",
      "0       1       2    31.0\n",
      "1       1       4    16.0\n",
      "2       1      26    19.0\n",
      "3       1      33     9.0\n",
      "4       1      30    13.0\n"
     ]
    }
   ],
   "source": [
    "# Download the zip file\n",
    "zip_url = 'https://github.com/KS-92/Manga/raw/main/Manga_network_data.zip'\n",
    "response = requests.get(zip_url)\n",
    "with zipfile.ZipFile(io.BytesIO(response.content)) as z:\n",
    "    # Extract the required files to memory\n",
    "    with z.open('Manga_network_data/Temporal/Temporal_One_Piece.csv') as f:\n",
    "        temporal_df = pd.read_csv(f)\n",
    "    with z.open('Manga_network_data/Static/Static_One_Piece.edgelist') as f:\n",
    "        G_static = nx.read_weighted_edgelist(f, nodetype=int)\n",
    "        static_edges = nx.to_pandas_edgelist(G_static)\n",
    "\n",
    "# Show the first few rows of each dataframe\n",
    "print(temporal_df.head())\n",
    "print(static_edges.head())"
   ]
  },
  {
   "cell_type": "markdown",
   "id": "9852a1d0",
   "metadata": {},
   "source": [
    "## 2. Perform island method"
   ]
  },
  {
   "cell_type": "code",
   "execution_count": null,
   "id": "36e15a1a",
   "metadata": {},
   "outputs": [],
   "source": []
  },
  {
   "cell_type": "markdown",
   "id": "e9ec413a",
   "metadata": {},
   "source": [
    "## 3. Inference"
   ]
  },
  {
   "cell_type": "markdown",
   "id": "9eb19d7a",
   "metadata": {},
   "source": [
    "We can infer that..."
   ]
  },
  {
   "cell_type": "markdown",
   "id": "eb806bef",
   "metadata": {},
   "source": [
    "## References\n",
    "Sugishita, K. and Masuda, N., Social network analysis of manga: similarities to real-world social networks and trends over decades, Applied Network Science, 8, 79, 2023."
   ]
  }
 ],
 "metadata": {
  "kernelspec": {
   "display_name": "base",
   "language": "python",
   "name": "python3"
  },
  "language_info": {
   "codemirror_mode": {
    "name": "ipython",
    "version": 3
   },
   "file_extension": ".py",
   "mimetype": "text/x-python",
   "name": "python",
   "nbconvert_exporter": "python",
   "pygments_lexer": "ipython3",
   "version": "3.13.5"
  }
 },
 "nbformat": 4,
 "nbformat_minor": 5
}
