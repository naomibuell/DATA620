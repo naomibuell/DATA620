{
 "cells": [
  {
   "cell_type": "markdown",
   "id": "57d0d02f",
   "metadata": {},
   "source": [
    "# Project 3\n",
    "## Instructions\n",
    "\n",
    "Using any of the three classifiers described in chapter 6 of Natural Language Processing with Python, and any features you can think of, build the best name gender classifier you can. Begin by splitting the Names Corpus into three subsets: 500 words for the test set, 500 words for the dev-test set, and the remaining 6900 words for the training set. Then, starting with the example name gender classifier, make incremental improvements. Use the dev-test set to check your progress. Once you are satisfied with your classifier, check its final performance on the test set. How does the performance on the test set compare to the performance on the dev-test set? Is this what you'd expect?\n",
    "\n",
    "Source: Natural Language Processing with Python, exercise 6.10.2.\n",
    "\n",
    "This is NOT a team project as it was stated before.\n"
   ]
  },
  {
   "cell_type": "markdown",
   "id": "8299facc",
   "metadata": {},
   "source": [
    "### 1. Import the Names Corpus"
   ]
  },
  {
   "cell_type": "code",
   "execution_count": 3,
   "id": "4c4d8fec",
   "metadata": {},
   "outputs": [],
   "source": [
    "import nltk\n",
    "try:\n",
    "    nltk.data.find('corpora/names')\n",
    "except:\n",
    "    nltk.download('names')\n",
    "\n",
    "from nltk.corpus import names"
   ]
  },
  {
   "cell_type": "markdown",
   "id": "227c513a",
   "metadata": {},
   "source": [
    "### 2. Splitting names into male and female"
   ]
  },
  {
   "cell_type": "code",
   "execution_count": 4,
   "id": "d8f88af0",
   "metadata": {},
   "outputs": [],
   "source": [
    "names = ([(name, 'male') for name in names.words('male.txt')] + [(name, 'female') for name in names.words('female.txt')])"
   ]
  },
  {
   "cell_type": "code",
   "execution_count": null,
   "id": "c5d5b236",
   "metadata": {},
   "outputs": [],
   "source": []
  }
 ],
 "metadata": {
  "kernelspec": {
   "display_name": "data620env",
   "language": "python",
   "name": "python3"
  },
  "language_info": {
   "codemirror_mode": {
    "name": "ipython",
    "version": 3
   },
   "file_extension": ".py",
   "mimetype": "text/x-python",
   "name": "python",
   "nbconvert_exporter": "python",
   "pygments_lexer": "ipython3",
   "version": "3.12.3"
  }
 },
 "nbformat": 4,
 "nbformat_minor": 5
}
