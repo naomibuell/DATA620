{
 "cells": [
  {
   "cell_type": "markdown",
   "id": "57d0d02f",
   "metadata": {},
   "source": [
    "# Project 3\n",
    "## *Instructions*\n",
    "\n",
    "*Using any of the three classifiers described in chapter 6 of Natural Language Processing with Python, and any features you can think of, build the best name gender classifier you can.*\n",
    "\n",
    "*Begin by splitting the Names Corpus into three subsets: 500 words for the test set, 500 words for the dev-test set, and the remaining 6900 words for the training set. Then, starting with the example name gender classifier, make incremental improvements. Use the dev-test set to check your progress. Once you are satisfied with your classifier, check its final performance on the test set.*\n",
    "\n",
    "*How does the performance on the test set compare to the performance on the dev-test set? Is this what you'd expect?*"
   ]
  },
  {
   "cell_type": "markdown",
   "id": "8299facc",
   "metadata": {},
   "source": [
    "## Import the Names Corpus"
   ]
  },
  {
   "cell_type": "code",
   "execution_count": 20,
   "id": "4c4d8fec",
   "metadata": {},
   "outputs": [],
   "source": [
    "import nltk\n",
    "import pandas as pd\n",
    "import seaborn as sns\n",
    "import matplotlib.pyplot as plt\n",
    "from sklearn.model_selection import train_test_split\n",
    "from imblearn.under_sampling import RandomUnderSampler\n",
    "from collections import Counter\n",
    "try:\n",
    "    nltk.data.find('corpora/names')\n",
    "except:\n",
    "    nltk.download('names')\n",
    "\n",
    "from nltk.corpus import names"
   ]
  },
  {
   "cell_type": "markdown",
   "id": "227c513a",
   "metadata": {},
   "source": [
    "## Feature Engineering Iteration 1: Vowel Proportion and Last Two Letters\n",
    "\n",
    "Starting by creating a list of sets where each set is (name, gender) and then turning it into a pandas dataframe."
   ]
  },
  {
   "cell_type": "code",
   "execution_count": 21,
   "id": "d8f88af0",
   "metadata": {},
   "outputs": [
    {
     "data": {
      "application/vnd.microsoft.datawrangler.viewer.v0+json": {
       "columns": [
        {
         "name": "index",
         "rawType": "int64",
         "type": "integer"
        },
        {
         "name": "name",
         "rawType": "object",
         "type": "string"
        },
        {
         "name": "gender",
         "rawType": "object",
         "type": "string"
        }
       ],
       "ref": "ff369079-4c3b-4918-96cb-2b735d5b846c",
       "rows": [
        [
         "0",
         "Aamir",
         "male"
        ],
        [
         "1",
         "Aaron",
         "male"
        ],
        [
         "2",
         "Abbey",
         "male"
        ],
        [
         "3",
         "Abbie",
         "male"
        ],
        [
         "4",
         "Abbot",
         "male"
        ]
       ],
       "shape": {
        "columns": 2,
        "rows": 5
       }
      },
      "text/html": [
       "<div>\n",
       "<style scoped>\n",
       "    .dataframe tbody tr th:only-of-type {\n",
       "        vertical-align: middle;\n",
       "    }\n",
       "\n",
       "    .dataframe tbody tr th {\n",
       "        vertical-align: top;\n",
       "    }\n",
       "\n",
       "    .dataframe thead th {\n",
       "        text-align: right;\n",
       "    }\n",
       "</style>\n",
       "<table border=\"1\" class=\"dataframe\">\n",
       "  <thead>\n",
       "    <tr style=\"text-align: right;\">\n",
       "      <th></th>\n",
       "      <th>name</th>\n",
       "      <th>gender</th>\n",
       "    </tr>\n",
       "  </thead>\n",
       "  <tbody>\n",
       "    <tr>\n",
       "      <th>0</th>\n",
       "      <td>Aamir</td>\n",
       "      <td>male</td>\n",
       "    </tr>\n",
       "    <tr>\n",
       "      <th>1</th>\n",
       "      <td>Aaron</td>\n",
       "      <td>male</td>\n",
       "    </tr>\n",
       "    <tr>\n",
       "      <th>2</th>\n",
       "      <td>Abbey</td>\n",
       "      <td>male</td>\n",
       "    </tr>\n",
       "    <tr>\n",
       "      <th>3</th>\n",
       "      <td>Abbie</td>\n",
       "      <td>male</td>\n",
       "    </tr>\n",
       "    <tr>\n",
       "      <th>4</th>\n",
       "      <td>Abbot</td>\n",
       "      <td>male</td>\n",
       "    </tr>\n",
       "  </tbody>\n",
       "</table>\n",
       "</div>"
      ],
      "text/plain": [
       "    name gender\n",
       "0  Aamir   male\n",
       "1  Aaron   male\n",
       "2  Abbey   male\n",
       "3  Abbie   male\n",
       "4  Abbot   male"
      ]
     },
     "execution_count": 21,
     "metadata": {},
     "output_type": "execute_result"
    }
   ],
   "source": [
    "name_list = ([(name, 'male') for name in names.words('male.txt')] + [(name, 'female') for name in names.words('female.txt')])\n",
    "\n",
    "names_df = pd.DataFrame(name_list, columns=['name','gender'])\n",
    "names_df.head()"
   ]
  },
  {
   "cell_type": "markdown",
   "id": "c6e04598",
   "metadata": {},
   "source": [
    "Below we'll set up some functions to create features for our dataset. We generate the following features for each name:\n",
    "- `vowel_proportion`: the proportion of vowels in the name,\n",
    "- `first_last_letter`: the proportion of the first and last letters being vowels,\n",
    "- `longest_run_of_vowels`: the length of the longest run of vowels in the name,\n",
    "- `get_two_last_letters`: the last two letters of the name"
   ]
  },
  {
   "cell_type": "code",
   "execution_count": 22,
   "id": "c65fddaa",
   "metadata": {},
   "outputs": [],
   "source": [
    "# Create a feature that's the % of word that's vowels\n",
    "def vowel_proportion(series: pd.Series) -> pd.Series:\n",
    "    def _ratio(text):\n",
    "        if not isinstance(text, str) or not text:\n",
    "            return 0.0\n",
    "        \n",
    "        vowel_count = sum(1 for char in text.lower() if char in 'aeiou')\n",
    "        \n",
    "        return vowel_count / len(text)\n",
    "\n",
    "    return series.apply(_ratio)\n",
    "\n",
    "# Create a feature that's the % of the first and last letter being a vowel\n",
    "def first_last_letter(series: pd.Series) -> pd.Series:\n",
    "    def _check_ends(text):\n",
    "        if not isinstance(text, str) or not text:\n",
    "            return 0.0\n",
    "            \n",
    "        text_lower = text.lower()\n",
    "        vowels = 'aeiou'\n",
    "        vowel_endpoints = 0\n",
    "        \n",
    "        # Check first letter (index 0)\n",
    "        if len(text_lower) >= 1 and text_lower[0] in vowels:\n",
    "            vowel_endpoints += 1\n",
    "            \n",
    "        # Check last letter (index -1), but only if length is > 1 \n",
    "        # to avoid double-counting the single character\n",
    "        if len(text_lower) > 1 and text_lower[-1] in vowels:\n",
    "            vowel_endpoints += 1\n",
    "            \n",
    "        # Proportion is always out of 2 possible positions\n",
    "        return vowel_endpoints / 2.0\n",
    "\n",
    "    return series.apply(_check_ends)\n",
    "\n",
    "# Return an integer of the longest number of vowels in a name\n",
    "def longest_run_of_vowels(series: pd.Series) -> pd.Series:\n",
    "    def _max_run(text):\n",
    "        if not isinstance(text, str):\n",
    "            return 0\n",
    "        \n",
    "        text_lower = text.lower()\n",
    "        vowels = 'aeiou'\n",
    "        max_run = 0\n",
    "        current_run = 0\n",
    "        \n",
    "        for char in text_lower:\n",
    "            if char in vowels:\n",
    "                current_run += 1\n",
    "            else:\n",
    "                # Vowel run is broken, check if it was the longest\n",
    "                max_run = max(max_run, current_run)\n",
    "                current_run = 0\n",
    "                \n",
    "        # Final check in case the string ends with a vowel run\n",
    "        return max(max_run, current_run)\n",
    "\n",
    "    return series.apply(_max_run)\n",
    "\n",
    "def get_two_last_letters(series: pd.Series) -> pd.Series:\n",
    "    def _last_letter(text):\n",
    "        if not isinstance(text, str) or not text:\n",
    "            return ''\n",
    "        return text[-2:].lower()\n",
    "    return series.apply(_last_letter)"
   ]
  },
  {
   "cell_type": "code",
   "execution_count": 23,
   "id": "a2c1873b",
   "metadata": {},
   "outputs": [
    {
     "name": "stdout",
     "output_type": "stream",
     "text": [
      "gender\n",
      "female    5001\n",
      "male      2943\n",
      "Name: count, dtype: int64\n",
      "gender\n",
      "female    62.953172\n",
      "male      37.046828\n",
      "Name: proportion, dtype: float64\n"
     ]
    },
    {
     "data": {
      "application/vnd.microsoft.datawrangler.viewer.v0+json": {
       "columns": [
        {
         "name": "index",
         "rawType": "int64",
         "type": "integer"
        },
        {
         "name": "name",
         "rawType": "object",
         "type": "string"
        },
        {
         "name": "gender",
         "rawType": "object",
         "type": "string"
        },
        {
         "name": "vowel_proportion",
         "rawType": "float64",
         "type": "float"
        },
        {
         "name": "first_last_letter",
         "rawType": "float64",
         "type": "float"
        },
        {
         "name": "longest_run_of_vowels",
         "rawType": "int64",
         "type": "integer"
        },
        {
         "name": "get_two_last_letters",
         "rawType": "object",
         "type": "string"
        }
       ],
       "ref": "b5c595e4-bedb-421e-9736-380f5df393b7",
       "rows": [
        [
         "0",
         "Aamir",
         "male",
         "0.6",
         "0.5",
         "2",
         "ir"
        ],
        [
         "1",
         "Aaron",
         "male",
         "0.6",
         "0.5",
         "2",
         "on"
        ],
        [
         "2",
         "Abbey",
         "male",
         "0.4",
         "0.5",
         "1",
         "ey"
        ],
        [
         "3",
         "Abbie",
         "male",
         "0.6",
         "1.0",
         "2",
         "ie"
        ],
        [
         "4",
         "Abbot",
         "male",
         "0.4",
         "0.5",
         "1",
         "ot"
        ]
       ],
       "shape": {
        "columns": 6,
        "rows": 5
       }
      },
      "text/html": [
       "<div>\n",
       "<style scoped>\n",
       "    .dataframe tbody tr th:only-of-type {\n",
       "        vertical-align: middle;\n",
       "    }\n",
       "\n",
       "    .dataframe tbody tr th {\n",
       "        vertical-align: top;\n",
       "    }\n",
       "\n",
       "    .dataframe thead th {\n",
       "        text-align: right;\n",
       "    }\n",
       "</style>\n",
       "<table border=\"1\" class=\"dataframe\">\n",
       "  <thead>\n",
       "    <tr style=\"text-align: right;\">\n",
       "      <th></th>\n",
       "      <th>name</th>\n",
       "      <th>gender</th>\n",
       "      <th>vowel_proportion</th>\n",
       "      <th>first_last_letter</th>\n",
       "      <th>longest_run_of_vowels</th>\n",
       "      <th>get_two_last_letters</th>\n",
       "    </tr>\n",
       "  </thead>\n",
       "  <tbody>\n",
       "    <tr>\n",
       "      <th>0</th>\n",
       "      <td>Aamir</td>\n",
       "      <td>male</td>\n",
       "      <td>0.6</td>\n",
       "      <td>0.5</td>\n",
       "      <td>2</td>\n",
       "      <td>ir</td>\n",
       "    </tr>\n",
       "    <tr>\n",
       "      <th>1</th>\n",
       "      <td>Aaron</td>\n",
       "      <td>male</td>\n",
       "      <td>0.6</td>\n",
       "      <td>0.5</td>\n",
       "      <td>2</td>\n",
       "      <td>on</td>\n",
       "    </tr>\n",
       "    <tr>\n",
       "      <th>2</th>\n",
       "      <td>Abbey</td>\n",
       "      <td>male</td>\n",
       "      <td>0.4</td>\n",
       "      <td>0.5</td>\n",
       "      <td>1</td>\n",
       "      <td>ey</td>\n",
       "    </tr>\n",
       "    <tr>\n",
       "      <th>3</th>\n",
       "      <td>Abbie</td>\n",
       "      <td>male</td>\n",
       "      <td>0.6</td>\n",
       "      <td>1.0</td>\n",
       "      <td>2</td>\n",
       "      <td>ie</td>\n",
       "    </tr>\n",
       "    <tr>\n",
       "      <th>4</th>\n",
       "      <td>Abbot</td>\n",
       "      <td>male</td>\n",
       "      <td>0.4</td>\n",
       "      <td>0.5</td>\n",
       "      <td>1</td>\n",
       "      <td>ot</td>\n",
       "    </tr>\n",
       "  </tbody>\n",
       "</table>\n",
       "</div>"
      ],
      "text/plain": [
       "    name gender  vowel_proportion  first_last_letter  longest_run_of_vowels  \\\n",
       "0  Aamir   male               0.6                0.5                      2   \n",
       "1  Aaron   male               0.6                0.5                      2   \n",
       "2  Abbey   male               0.4                0.5                      1   \n",
       "3  Abbie   male               0.6                1.0                      2   \n",
       "4  Abbot   male               0.4                0.5                      1   \n",
       "\n",
       "  get_two_last_letters  \n",
       "0                   ir  \n",
       "1                   on  \n",
       "2                   ey  \n",
       "3                   ie  \n",
       "4                   ot  "
      ]
     },
     "execution_count": 23,
     "metadata": {},
     "output_type": "execute_result"
    }
   ],
   "source": [
    "def get_gender_features(df: pd.DataFrame) -> pd.DataFrame:\n",
    "    funciton_list = [\n",
    "        vowel_proportion,\n",
    "        first_last_letter,\n",
    "        longest_run_of_vowels,\n",
    "        get_two_last_letters\n",
    "    ]\n",
    "\n",
    "    # Iterate through each function and apply them to the dataset\n",
    "    for func in funciton_list:\n",
    "        feature_name = func.__name__\n",
    "        df[feature_name] = func(df['name'])\n",
    "    \n",
    "    return df\n",
    "\n",
    "feature_names_df = get_gender_features(names_df)\n",
    "\n",
    "# Print counts\n",
    "print(feature_names_df['gender'].value_counts())\n",
    "\n",
    "# Print percentage\n",
    "print(feature_names_df['gender'].value_counts(normalize=True) * 100)\n",
    "\n",
    "feature_names_df.head()"
   ]
  },
  {
   "cell_type": "markdown",
   "id": "b36f6b16",
   "metadata": {},
   "source": [
    "From the above, we can see our dataset is fairly unbalanced with females making up about 63% of the names.\n",
    "\n",
    "For these new numeric fields, we'll create histograms to visualize their distributions and color them based on gender."
   ]
  },
  {
   "cell_type": "code",
   "execution_count": 24,
   "id": "050b0334",
   "metadata": {},
   "outputs": [
    {
     "data": {
      "image/png": "[encoded data removed]",
      "text/plain": [
       "<Figure size 1600x600 with 1 Axes>"
      ]
     },
     "metadata": {},
     "output_type": "display_data"
    },
    {
     "data": {
      "image/png": "[encoded data removed]",
      "text/plain": [
       "<Figure size 1600x600 with 1 Axes>"
      ]
     },
     "metadata": {},
     "output_type": "display_data"
    },
    {
     "data": {
      "image/png": "[encoded data removed]",
      "text/plain": [
       "<Figure size 1600x600 with 1 Axes>"
      ]
     },
     "metadata": {},
     "output_type": "display_data"
    },
    {
     "data": {
      "image/png": "[encoded data removed]",
      "text/plain": [
       "<Figure size 1600x600 with 1 Axes>"
      ]
     },
     "metadata": {},
     "output_type": "display_data"
    }
   ],
   "source": [
    "custom_palette = {'male': 'blue', 'female': 'pink'}\n",
    "\n",
    "# Plot for vowel_proportion\n",
    "plt.figure(figsize=(16, 6))\n",
    "sns.histplot(\n",
    "    data=feature_names_df,\n",
    "    x='vowel_proportion',\n",
    "    hue='gender',\n",
    "    palette=custom_palette,\n",
    "    stat=\"proportion\",\n",
    "    #kde=True,\n",
    "    alpha=0.5,\n",
    "    bins=20,\n",
    "    common_norm=False,\n",
    "    multiple='dodge'\n",
    ")\n",
    "plt.title('Distribution of Proportion of Vowels in Name, by Gender')\n",
    "plt.xlabel('Vowel Proportion')\n",
    "plt.ylabel('Proportion of Gender')\n",
    "plt.gca().yaxis.set_major_formatter(plt.FuncFormatter(lambda y, _: '{:.0%}'.format(y)))\n",
    "plt.show()\n",
    "\n",
    "# Plot for first_last_letter\n",
    "plt.figure(figsize=(16, 6))\n",
    "sns.histplot(\n",
    "    data=feature_names_df,\n",
    "    x='first_last_letter',\n",
    "    hue='gender',\n",
    "    palette=custom_palette,\n",
    "    stat=\"proportion\",\n",
    "    #kde=True,\n",
    "    alpha=0.5,\n",
    "    bins=3,\n",
    "    common_norm=False,\n",
    "    multiple='dodge'\n",
    ")\n",
    "plt.xticks([0, 0.5, 1], ['0%', '50%', '100%'])\n",
    "plt.title('Distribution of Proportion of Vowels in First and Last Letters of Name, by Gender')\n",
    "plt.xlabel('Vowel Proportion in First and Last Letters')\n",
    "plt.ylabel('Proportion of Gender')\n",
    "plt.gca().yaxis.set_major_formatter(plt.FuncFormatter(lambda y, _: '{:.0%}'.format(y)))\n",
    "plt.show()\n",
    "\n",
    "# Plot for longest_run_of_vowels\n",
    "plt.figure(figsize=(16, 6))\n",
    "sns.histplot(\n",
    "    data=feature_names_df,\n",
    "    x='longest_run_of_vowels',\n",
    "    hue='gender',\n",
    "    palette=custom_palette,\n",
    "    stat=\"proportion\",\n",
    "    #kde=True,\n",
    "    alpha=0.5,\n",
    "    bins=range(int(feature_names_df['longest_run_of_vowels'].min()), int(feature_names_df['longest_run_of_vowels'].max()) + 2),\n",
    "    common_norm=False,\n",
    "    multiple='dodge'\n",
    ")\n",
    "plt.title('Distribution of Longest Run of Vowels in Name, by Gender')\n",
    "plt.xlabel('Length of Longest Run of Vowels')\n",
    "plt.ylabel('Proportion of Gender')\n",
    "plt.gca().yaxis.set_major_formatter(plt.FuncFormatter(lambda y, _: '{:.0%}'.format(y)))\n",
    "plt.xticks(\n",
    "    range(\n",
    "        int(feature_names_df['longest_run_of_vowels'].min()),\n",
    "        int(feature_names_df['longest_run_of_vowels'].max()) + 1\n",
    "    )\n",
    ")\n",
    "plt.show()\n",
    "\n",
    "# Plot for get_two_last_letters\n",
    "plt.figure(figsize=(16, 6))\n",
    "top_10 = feature_names_df['get_two_last_letters'].value_counts().nlargest(10).index\n",
    "sns.histplot(\n",
    "    data=feature_names_df[feature_names_df['get_two_last_letters'].isin(top_10)],\n",
    "    x='get_two_last_letters',\n",
    "    hue='gender',\n",
    "    palette=custom_palette,\n",
    "    stat=\"proportion\",\n",
    "    alpha=0.5,\n",
    "    multiple='dodge'\n",
    ")\n",
    "plt.title('Top 10 Most Common Last Two Letters, by Gender')\n",
    "plt.xlabel('Last Two Letters')\n",
    "plt.ylabel('Proportion of Gender')\n",
    "plt.gca().yaxis.set_major_formatter(plt.FuncFormatter(lambda y, _: '{:.0%}'.format(y)))\n",
    "plt.show()"
   ]
  },
  {
   "cell_type": "markdown",
   "id": "7171bd83",
   "metadata": {},
   "source": [
    "From our above histograms we can see that there is a slight difference in the distributions of vowel proportions and in the first and last letter. Although the longest run of vowels does not seem to differ much between genders.\n",
    "\n",
    "Additionally, see that certain two-letter name endings are common with girls than with boys (e.g., \"la\", \"ta\", \"na\", and \"ia\") and vice versa (e.g., \"on\" and \"in\")."
   ]
  },
  {
   "cell_type": "markdown",
   "id": "23c5c287",
   "metadata": {},
   "source": [
    "## Splitting our data\n",
    "\n",
    "For our project, we'll split our data into a training and test dataset and balance the data so that there are equal numbers of male and female names. We split data into 500 words for the test set, 500 words for the dev-test set, and the remaining 6900 words for the training set."
   ]
  },
  {
   "cell_type": "code",
   "execution_count": 25,
   "id": "e05b6f4a",
   "metadata": {},
   "outputs": [
    {
     "name": "stdout",
     "output_type": "stream",
     "text": [
      "\n",
      "--- Distribution after Stratified Split ---\n",
      "Training set size: 6944\n",
      "Dev-test set size: 500\n",
      "Test set size: 500\n",
      "\n",
      "Training set counts: Counter({'female': 4371, 'male': 2573})\n",
      "Dev-test set counts: Counter({'female': 315, 'male': 185})\n",
      "Test set counts: Counter({'female': 315, 'male': 185})\n",
      "\n",
      "--- Distribution after Undersampling Training Set ---\n",
      "New (Balanced) Training set counts: Counter({'female': 2573, 'male': 2573})\n",
      "Total balanced training samples: 5146\n",
      "\n",
      "Dev-test and Test sets (Unmodified for evaluation):\n",
      "Dev-test set counts: Counter({'female': 315, 'male': 185})\n",
      "Test set counts: Counter({'female': 315, 'male': 185})\n"
     ]
    }
   ],
   "source": [
    "def split_data_for_nltk(df, verbose=True):\n",
    "    # I turned this into a function because we're going to be doing this more and more\n",
    "    x = df.drop('gender', axis=1)\n",
    "    y = df['gender']\n",
    "\n",
    "    # Split into test (500), dev-test (500), and training (remaining)\n",
    "    # Stratify to keep gender balance\n",
    "    x_temp, x_test, y_temp, y_test = train_test_split(\n",
    "        x, y, test_size=500, random_state=1, stratify=y\n",
    "    )\n",
    "    x_train, x_devtest, y_train, y_devtest = train_test_split(\n",
    "        x_temp, y_temp, test_size=500, random_state=1, stratify=y_temp\n",
    "    )\n",
    "\n",
    "    # Print a summary of the split data (only if verbose=True)\n",
    "    if verbose:\n",
    "        print(\"\\n--- Distribution after Stratified Split ---\")\n",
    "        print(\"Training set size:\", len(y_train))\n",
    "        print(\"Dev-test set size:\", len(y_devtest))\n",
    "        print(\"Test set size:\", len(y_test))\n",
    "        print(\"\\nTraining set counts:\", Counter(y_train))\n",
    "        print(\"Dev-test set counts:\", Counter(y_devtest))\n",
    "        print(\"Test set counts:\", Counter(y_test))\n",
    "\n",
    "    rus = RandomUnderSampler(random_state=1)\n",
    "\n",
    "    # Apply the sampling only to the training set\n",
    "    x_train_resampled, y_train_resampled = rus.fit_resample(x_train, y_train)\n",
    "\n",
    "    # Print a summary of the final data (only if verbose=True)\n",
    "    if verbose:\n",
    "        print(\"\\n--- Distribution after Undersampling Training Set ---\")\n",
    "        print(\"New (Balanced) Training set counts:\", Counter(y_train_resampled))\n",
    "        print(f\"Total balanced training samples: {len(y_train_resampled)}\")\n",
    "        print(\"\\nDev-test and Test sets (Unmodified for evaluation):\")\n",
    "        print(\"Dev-test set counts:\", Counter(y_devtest))\n",
    "        print(\"Test set counts:\", Counter(y_test))\n",
    "    \n",
    "    # Return all three sets including dev-test\n",
    "    return x_train_resampled, x_devtest, x_test, y_train_resampled, y_devtest, y_test\n",
    "\n",
    "x_train_resampled, x_devtest, x_test, y_train_resampled, y_devtest, y_test = split_data_for_nltk(names_df)"
   ]
  },
  {
   "cell_type": "markdown",
   "id": "6010e9c2",
   "metadata": {},
   "source": [
    "With our datasets prepared, we'll need to convert it into the format expected by NLTK classifiers, which is a list of tuples where each tuple is (feature_dict, label)"
   ]
  },
  {
   "cell_type": "code",
   "execution_count": 26,
   "id": "11552a44",
   "metadata": {},
   "outputs": [],
   "source": [
    "def prepare_data_for_nltk(X_df, y_series):\n",
    "    \"\"\"Converts Pandas DataFrame/Series to NLTK's required list of (dict, label) tuples.\"\"\"\n",
    "    # Convert feature rows into a list of feature dictionaries\n",
    "    feature_dicts = X_df.to_dict(orient='records')\n",
    "    # Zip the feature dictionaries with the corresponding labels\n",
    "    nltk_set = list(zip(feature_dicts, y_series))\n",
    "    return nltk_set\n",
    "\n",
    "test_nltk_data = prepare_data_for_nltk(x_test, y_test)  # Save for final evaluation\n",
    "train_nltk_data = prepare_data_for_nltk(x_train_resampled, y_train_resampled)\n",
    "devtest_nltk_data = prepare_data_for_nltk(x_devtest, y_devtest)  "
   ]
  },
  {
   "cell_type": "markdown",
   "id": "cb03b8b0",
   "metadata": {},
   "source": [
    "## Building our models\n",
    "\n",
    "We'll try the following three models:\n",
    "1. Naive Bayes Classifier\n",
    "2. Decision Tree Classifier\n",
    "3. Maxent Classifier"
   ]
  },
  {
   "cell_type": "code",
   "execution_count": 27,
   "id": "64119a2c",
   "metadata": {},
   "outputs": [
    {
     "name": "stdout",
     "output_type": "stream",
     "text": [
      "\n",
      "--- Evaluating on dev-test set ---\n",
      "NaiveBayes Dev-Test Accuracy: 75.20%\n",
      "DecisionTree Dev-Test Accuracy: 34.20%\n",
      "MaxentClassifier Dev-Test Accuracy: 74.60%\n"
     ]
    }
   ],
   "source": [
    "def train_nltk_classifiers(training_data):\n",
    "    # I turned this into a function since we'll be iterating\n",
    "    return(\n",
    "        {\n",
    "            'NaiveBayes': nltk.NaiveBayesClassifier.train(training_data),\n",
    "            'DecisionTree': nltk.DecisionTreeClassifier.train(training_data),\n",
    "            'MaxentClassifier': nltk.MaxentClassifier.train(training_data, max_iter=10, trace=0)\n",
    "        }\n",
    "    )\n",
    "\n",
    "first_round_bathroom_classifiers = train_nltk_classifiers(train_nltk_data)\n",
    "\n",
    "print(\"\\n--- Evaluating on dev-test set ---\")\n",
    "for name, classifier in first_round_bathroom_classifiers.items():\n",
    "    accuracy = nltk.classify.accuracy(classifier, devtest_nltk_data)\n",
    "    print(f\"{name} Dev-Test Accuracy: {accuracy * 100:.2f}%\")"
   ]
  },
  {
   "cell_type": "markdown",
   "id": "3c8a991f",
   "metadata": {},
   "source": [
    "On the first round of models with our feature we find that the Naive Bayes classifier is the best performing with an accuracy of 75.2%."
   ]
  },
  {
   "cell_type": "code",
   "execution_count": 28,
   "id": "ca77ae4c",
   "metadata": {},
   "outputs": [
    {
     "name": "stdout",
     "output_type": "stream",
     "text": [
      "Most Informative Features\n",
      "    get_two_last_letters = 'na'           female : male   =     90.6 : 1.0\n",
      "    get_two_last_letters = 'la'           female : male   =     69.0 : 1.0\n",
      "    get_two_last_letters = 'ia'           female : male   =     52.6 : 1.0\n",
      "    get_two_last_letters = 'us'             male : female =     36.3 : 1.0\n",
      "    get_two_last_letters = 'sa'           female : male   =     33.7 : 1.0\n",
      "    get_two_last_letters = 'ra'           female : male   =     23.6 : 1.0\n",
      "    get_two_last_letters = 'rd'             male : female =     23.0 : 1.0\n",
      "    get_two_last_letters = 'ta'           female : male   =     21.4 : 1.0\n",
      "    get_two_last_letters = 'ld'             male : female =     18.3 : 1.0\n",
      "    get_two_last_letters = 'do'             male : female =     16.3 : 1.0\n",
      "    get_two_last_letters = 'io'             male : female =     15.0 : 1.0\n",
      "    get_two_last_letters = 'ka'           female : male   =     12.3 : 1.0\n",
      "    get_two_last_letters = 'os'             male : female =     12.3 : 1.0\n",
      "    get_two_last_letters = 'im'             male : female =      9.7 : 1.0\n",
      "    get_two_last_letters = 'ch'             male : female =      9.0 : 1.0\n",
      "    get_two_last_letters = 'ee'           female : male   =      7.9 : 1.0\n",
      "    get_two_last_letters = 'on'             male : female =      7.8 : 1.0\n",
      "    get_two_last_letters = 'as'             male : female =      7.7 : 1.0\n",
      "    get_two_last_letters = 'ea'           female : male   =      7.4 : 1.0\n",
      "    get_two_last_letters = 'es'             male : female =      7.3 : 1.0\n",
      "    get_two_last_letters = 'or'             male : female =      6.7 : 1.0\n",
      "    get_two_last_letters = 'te'           female : male   =      6.6 : 1.0\n",
      "    get_two_last_letters = 'ke'             male : female =      6.4 : 1.0\n",
      "    get_two_last_letters = 'em'             male : female =      6.3 : 1.0\n",
      "    get_two_last_letters = 'ew'             male : female =      6.3 : 1.0\n",
      "    get_two_last_letters = 'ud'             male : female =      6.3 : 1.0\n",
      "        vowel_proportion = 0.625          female : male   =      6.3 : 1.0\n",
      "    get_two_last_letters = 'ed'             male : female =      6.2 : 1.0\n",
      "        vowel_proportion = 0.3              male : female =      6.2 : 1.0\n",
      "    get_two_last_letters = 'ar'             male : female =      6.1 : 1.0\n",
      "    get_two_last_letters = 'ni'           female : male   =      5.9 : 1.0\n",
      "    get_two_last_letters = 'di'           female : male   =      5.9 : 1.0\n",
      "    get_two_last_letters = 'er'             male : female =      5.8 : 1.0\n",
      "    get_two_last_letters = 'ff'             male : female =      5.7 : 1.0\n",
      "    get_two_last_letters = 'ig'             male : female =      5.7 : 1.0\n",
      "    get_two_last_letters = 'am'             male : female =      5.7 : 1.0\n",
      "    get_two_last_letters = 'ip'             male : female =      5.0 : 1.0\n",
      "    get_two_last_letters = 've'             male : female =      5.0 : 1.0\n",
      "    get_two_last_letters = 'lo'             male : female =      4.6 : 1.0\n",
      "    get_two_last_letters = 'ha'           female : male   =      4.3 : 1.0\n",
      "    get_two_last_letters = 'si'           female : male   =      4.2 : 1.0\n",
      "    get_two_last_letters = 'sy'           female : male   =      4.1 : 1.0\n",
      "    get_two_last_letters = 'nt'             male : female =      3.9 : 1.0\n",
      "    get_two_last_letters = 'ad'             male : female =      3.9 : 1.0\n",
      "    get_two_last_letters = 'bi'           female : male   =      3.8 : 1.0\n",
      "    get_two_last_letters = 'ne'           female : male   =      3.7 : 1.0\n",
      "    get_two_last_letters = 'fy'             male : female =      3.7 : 1.0\n",
      "    get_two_last_letters = 'oy'             male : female =      3.7 : 1.0\n",
      "    get_two_last_letters = 'an'             male : female =      3.5 : 1.0\n",
      "    get_two_last_letters = 'eo'             male : female =      3.4 : 1.0\n"
     ]
    }
   ],
   "source": [
    "first_round_bathroom_classifiers['NaiveBayes'].show_most_informative_features(50)"
   ]
  },
  {
   "cell_type": "markdown",
   "id": "0c05e086",
   "metadata": {},
   "source": [
    "Looking at the most important 20 features we can see that they're all related to the last two letters of the name. Extending the importance further to 50 features, we found that a vowel proportion of 62.5% also appear in the list.\n",
    "    \n",
    "To further improve our model, we can likely engineer more features related to the letters in the names."
   ]
  },
  {
   "cell_type": "markdown",
   "id": "3180ffff",
   "metadata": {},
   "source": [
    "## Feature Engineering Iteration 2: First Letter, Name Length, and Longest Consonant Chain\n",
    "First we saw that the numeric columns we assumed might be useful weren't very informative and thus decided to drop them from our feature set."
   ]
  },
  {
   "cell_type": "code",
   "execution_count": 29,
   "id": "4e9b7204",
   "metadata": {},
   "outputs": [
    {
     "data": {
      "application/vnd.microsoft.datawrangler.viewer.v0+json": {
       "columns": [
        {
         "name": "index",
         "rawType": "int64",
         "type": "integer"
        },
        {
         "name": "name",
         "rawType": "object",
         "type": "string"
        },
        {
         "name": "gender",
         "rawType": "object",
         "type": "string"
        },
        {
         "name": "get_two_last_letters",
         "rawType": "object",
         "type": "string"
        }
       ],
       "ref": "823d1577-7bec-4c96-9b42-bc65e68eee9c",
       "rows": [
        [
         "0",
         "Aamir",
         "male",
         "ir"
        ],
        [
         "1",
         "Aaron",
         "male",
         "on"
        ],
        [
         "2",
         "Abbey",
         "male",
         "ey"
        ],
        [
         "3",
         "Abbie",
         "male",
         "ie"
        ],
        [
         "4",
         "Abbot",
         "male",
         "ot"
        ]
       ],
       "shape": {
        "columns": 3,
        "rows": 5
       }
      },
      "text/html": [
       "<div>\n",
       "<style scoped>\n",
       "    .dataframe tbody tr th:only-of-type {\n",
       "        vertical-align: middle;\n",
       "    }\n",
       "\n",
       "    .dataframe tbody tr th {\n",
       "        vertical-align: top;\n",
       "    }\n",
       "\n",
       "    .dataframe thead th {\n",
       "        text-align: right;\n",
       "    }\n",
       "</style>\n",
       "<table border=\"1\" class=\"dataframe\">\n",
       "  <thead>\n",
       "    <tr style=\"text-align: right;\">\n",
       "      <th></th>\n",
       "      <th>name</th>\n",
       "      <th>gender</th>\n",
       "      <th>get_two_last_letters</th>\n",
       "    </tr>\n",
       "  </thead>\n",
       "  <tbody>\n",
       "    <tr>\n",
       "      <th>0</th>\n",
       "      <td>Aamir</td>\n",
       "      <td>male</td>\n",
       "      <td>ir</td>\n",
       "    </tr>\n",
       "    <tr>\n",
       "      <th>1</th>\n",
       "      <td>Aaron</td>\n",
       "      <td>male</td>\n",
       "      <td>on</td>\n",
       "    </tr>\n",
       "    <tr>\n",
       "      <th>2</th>\n",
       "      <td>Abbey</td>\n",
       "      <td>male</td>\n",
       "      <td>ey</td>\n",
       "    </tr>\n",
       "    <tr>\n",
       "      <th>3</th>\n",
       "      <td>Abbie</td>\n",
       "      <td>male</td>\n",
       "      <td>ie</td>\n",
       "    </tr>\n",
       "    <tr>\n",
       "      <th>4</th>\n",
       "      <td>Abbot</td>\n",
       "      <td>male</td>\n",
       "      <td>ot</td>\n",
       "    </tr>\n",
       "  </tbody>\n",
       "</table>\n",
       "</div>"
      ],
      "text/plain": [
       "    name gender get_two_last_letters\n",
       "0  Aamir   male                   ir\n",
       "1  Aaron   male                   on\n",
       "2  Abbey   male                   ey\n",
       "3  Abbie   male                   ie\n",
       "4  Abbot   male                   ot"
      ]
     },
     "execution_count": 29,
     "metadata": {},
     "output_type": "execute_result"
    }
   ],
   "source": [
    "iteration_2_df = feature_names_df.drop(columns = ['vowel_proportion', 'first_last_letter', 'longest_run_of_vowels'], errors='ignore')\n",
    "iteration_2_df.head()"
   ]
  },
  {
   "cell_type": "markdown",
   "id": "c18e23b2",
   "metadata": {},
   "source": [
    "For a new set of features, we'll use the first letter of the word and we'll also add in the length of the name as a feature. For the new numeric value, we'll also plot a histogram as we did before."
   ]
  },
  {
   "cell_type": "code",
   "execution_count": 41,
   "id": "f3f1400a",
   "metadata": {},
   "outputs": [
    {
     "data": {
      "application/vnd.microsoft.datawrangler.viewer.v0+json": {
       "columns": [
        {
         "name": "index",
         "rawType": "int64",
         "type": "integer"
        },
        {
         "name": "name",
         "rawType": "object",
         "type": "string"
        },
        {
         "name": "gender",
         "rawType": "object",
         "type": "string"
        },
        {
         "name": "get_two_last_letters",
         "rawType": "object",
         "type": "string"
        },
        {
         "name": "first_letter",
         "rawType": "object",
         "type": "string"
        },
        {
         "name": "name_length",
         "rawType": "int64",
         "type": "integer"
        }
       ],
       "ref": "56cdb2db-b696-4630-bd2e-dd7324995f5a",
       "rows": [
        [
         "0",
         "Aamir",
         "male",
         "ir",
         "a",
         "5"
        ],
        [
         "1",
         "Aaron",
         "male",
         "on",
         "a",
         "5"
        ],
        [
         "2",
         "Abbey",
         "male",
         "ey",
         "a",
         "5"
        ],
        [
         "3",
         "Abbie",
         "male",
         "ie",
         "a",
         "5"
        ],
        [
         "4",
         "Abbot",
         "male",
         "ot",
         "a",
         "5"
        ]
       ],
       "shape": {
        "columns": 5,
        "rows": 5
       }
      },
      "text/html": [
       "<div>\n",
       "<style scoped>\n",
       "    .dataframe tbody tr th:only-of-type {\n",
       "        vertical-align: middle;\n",
       "    }\n",
       "\n",
       "    .dataframe tbody tr th {\n",
       "        vertical-align: top;\n",
       "    }\n",
       "\n",
       "    .dataframe thead th {\n",
       "        text-align: right;\n",
       "    }\n",
       "</style>\n",
       "<table border=\"1\" class=\"dataframe\">\n",
       "  <thead>\n",
       "    <tr style=\"text-align: right;\">\n",
       "      <th></th>\n",
       "      <th>name</th>\n",
       "      <th>gender</th>\n",
       "      <th>get_two_last_letters</th>\n",
       "      <th>first_letter</th>\n",
       "      <th>name_length</th>\n",
       "    </tr>\n",
       "  </thead>\n",
       "  <tbody>\n",
       "    <tr>\n",
       "      <th>0</th>\n",
       "      <td>Aamir</td>\n",
       "      <td>male</td>\n",
       "      <td>ir</td>\n",
       "      <td>a</td>\n",
       "      <td>5</td>\n",
       "    </tr>\n",
       "    <tr>\n",
       "      <th>1</th>\n",
       "      <td>Aaron</td>\n",
       "      <td>male</td>\n",
       "      <td>on</td>\n",
       "      <td>a</td>\n",
       "      <td>5</td>\n",
       "    </tr>\n",
       "    <tr>\n",
       "      <th>2</th>\n",
       "      <td>Abbey</td>\n",
       "      <td>male</td>\n",
       "      <td>ey</td>\n",
       "      <td>a</td>\n",
       "      <td>5</td>\n",
       "    </tr>\n",
       "    <tr>\n",
       "      <th>3</th>\n",
       "      <td>Abbie</td>\n",
       "      <td>male</td>\n",
       "      <td>ie</td>\n",
       "      <td>a</td>\n",
       "      <td>5</td>\n",
       "    </tr>\n",
       "    <tr>\n",
       "      <th>4</th>\n",
       "      <td>Abbot</td>\n",
       "      <td>male</td>\n",
       "      <td>ot</td>\n",
       "      <td>a</td>\n",
       "      <td>5</td>\n",
       "    </tr>\n",
       "  </tbody>\n",
       "</table>\n",
       "</div>"
      ],
      "text/plain": [
       "    name gender get_two_last_letters first_letter  name_length\n",
       "0  Aamir   male                   ir            a            5\n",
       "1  Aaron   male                   on            a            5\n",
       "2  Abbey   male                   ey            a            5\n",
       "3  Abbie   male                   ie            a            5\n",
       "4  Abbot   male                   ot            a            5"
      ]
     },
     "execution_count": 41,
     "metadata": {},
     "output_type": "execute_result"
    }
   ],
   "source": [
    "iteration_2_df['name_length'] = iteration_2_df['name'].apply(len)\n",
    "iteration_2_df['first_letter'] = iteration_2_df['name'].str[0].str.lower()\n",
    "iteration_2_df.head()"
   ]
  },
  {
   "cell_type": "code",
   "execution_count": 42,
   "id": "e03d44b0",
   "metadata": {},
   "outputs": [
    {
     "data": {
      "image/png": "[encoded data removed]",
      "text/plain": [
       "<Figure size 1600x600 with 1 Axes>"
      ]
     },
     "metadata": {},
     "output_type": "display_data"
    },
    {
     "data": {
      "image/png": "[encoded data removed]",
      "text/plain": [
       "<Figure size 1600x600 with 1 Axes>"
      ]
     },
     "metadata": {},
     "output_type": "display_data"
    }
   ],
   "source": [
    "plt.figure(figsize=(16, 6))\n",
    "\n",
    "sns.histplot(\n",
    "    data=iteration_2_df,\n",
    "    x='name_length',\n",
    "    hue='gender',\n",
    "    palette=custom_palette,\n",
    "    stat=\"proportion\",\n",
    "    multiple='dodge',\n",
    "    #kde=True,\n",
    "    alpha=0.5,\n",
    "    bins=13,\n",
    "    common_norm=False\n",
    ")\n",
    "plt.title('Distribution of Name Length, by Gender')\n",
    "plt.xlabel('Name Length')\n",
    "plt.xticks(range(iteration_2_df['name_length'].min(), iteration_2_df['name_length'].max() + 1))\n",
    "plt.ylabel('Proportion of Gender')\n",
    "plt.gca().yaxis.set_major_formatter(plt.FuncFormatter(lambda y, _: '{:.0%}'.format(y)))\n",
    "plt.show()\n",
    "\n",
    "# Plot for first_letter\n",
    "plt.figure(figsize=(16, 6))\n",
    "top_10 = iteration_2_df['first_letter'].value_counts().nlargest(10).index\n",
    "sns.histplot(\n",
    "    data=iteration_2_df[iteration_2_df['first_letter'].isin(top_10)],\n",
    "    x='first_letter',\n",
    "    hue='gender',\n",
    "    palette=custom_palette,\n",
    "    stat=\"proportion\",\n",
    "    alpha=0.5,\n",
    "    multiple='dodge'\n",
    ")\n",
    "plt.title('Top 10 Most Common First Letters, by Gender')\n",
    "plt.xlabel('First Letters')\n",
    "plt.ylabel('Proportion of Gender')\n",
    "plt.gca().yaxis.set_major_formatter(plt.FuncFormatter(lambda y, _: '{:.0%}'.format(y)))\n",
    "\n",
    "plt.show()"
   ]
  },
  {
   "cell_type": "markdown",
   "id": "288bc59b",
   "metadata": {},
   "source": [
    "Name length doesn't seem to provide any information so we'll drop it from our dataset. The first letter seems to have some differences between gender so we'll keep it as a feature."
   ]
  },
  {
   "cell_type": "code",
   "execution_count": 32,
   "id": "6fcf2837",
   "metadata": {},
   "outputs": [
    {
     "data": {
      "application/vnd.microsoft.datawrangler.viewer.v0+json": {
       "columns": [
        {
         "name": "index",
         "rawType": "int64",
         "type": "integer"
        },
        {
         "name": "name",
         "rawType": "object",
         "type": "string"
        },
        {
         "name": "gender",
         "rawType": "object",
         "type": "string"
        },
        {
         "name": "get_two_last_letters",
         "rawType": "object",
         "type": "string"
        },
        {
         "name": "first_letter",
         "rawType": "object",
         "type": "string"
        }
       ],
       "ref": "6c2db58f-1ef4-445c-987b-eb8c64b4e91f",
       "rows": [
        [
         "0",
         "Aamir",
         "male",
         "ir",
         "a"
        ],
        [
         "1",
         "Aaron",
         "male",
         "on",
         "a"
        ],
        [
         "2",
         "Abbey",
         "male",
         "ey",
         "a"
        ],
        [
         "3",
         "Abbie",
         "male",
         "ie",
         "a"
        ],
        [
         "4",
         "Abbot",
         "male",
         "ot",
         "a"
        ]
       ],
       "shape": {
        "columns": 4,
        "rows": 5
       }
      },
      "text/html": [
       "<div>\n",
       "<style scoped>\n",
       "    .dataframe tbody tr th:only-of-type {\n",
       "        vertical-align: middle;\n",
       "    }\n",
       "\n",
       "    .dataframe tbody tr th {\n",
       "        vertical-align: top;\n",
       "    }\n",
       "\n",
       "    .dataframe thead th {\n",
       "        text-align: right;\n",
       "    }\n",
       "</style>\n",
       "<table border=\"1\" class=\"dataframe\">\n",
       "  <thead>\n",
       "    <tr style=\"text-align: right;\">\n",
       "      <th></th>\n",
       "      <th>name</th>\n",
       "      <th>gender</th>\n",
       "      <th>get_two_last_letters</th>\n",
       "      <th>first_letter</th>\n",
       "    </tr>\n",
       "  </thead>\n",
       "  <tbody>\n",
       "    <tr>\n",
       "      <th>0</th>\n",
       "      <td>Aamir</td>\n",
       "      <td>male</td>\n",
       "      <td>ir</td>\n",
       "      <td>a</td>\n",
       "    </tr>\n",
       "    <tr>\n",
       "      <th>1</th>\n",
       "      <td>Aaron</td>\n",
       "      <td>male</td>\n",
       "      <td>on</td>\n",
       "      <td>a</td>\n",
       "    </tr>\n",
       "    <tr>\n",
       "      <th>2</th>\n",
       "      <td>Abbey</td>\n",
       "      <td>male</td>\n",
       "      <td>ey</td>\n",
       "      <td>a</td>\n",
       "    </tr>\n",
       "    <tr>\n",
       "      <th>3</th>\n",
       "      <td>Abbie</td>\n",
       "      <td>male</td>\n",
       "      <td>ie</td>\n",
       "      <td>a</td>\n",
       "    </tr>\n",
       "    <tr>\n",
       "      <th>4</th>\n",
       "      <td>Abbot</td>\n",
       "      <td>male</td>\n",
       "      <td>ot</td>\n",
       "      <td>a</td>\n",
       "    </tr>\n",
       "  </tbody>\n",
       "</table>\n",
       "</div>"
      ],
      "text/plain": [
       "    name gender get_two_last_letters first_letter\n",
       "0  Aamir   male                   ir            a\n",
       "1  Aaron   male                   on            a\n",
       "2  Abbey   male                   ey            a\n",
       "3  Abbie   male                   ie            a\n",
       "4  Abbot   male                   ot            a"
      ]
     },
     "execution_count": 32,
     "metadata": {},
     "output_type": "execute_result"
    }
   ],
   "source": [
    "iteration_2_df = iteration_2_df.drop(columns=['name_length'], errors='ignore')\n",
    "iteration_2_df.head()"
   ]
  },
  {
   "cell_type": "markdown",
   "id": "b8a8505d",
   "metadata": {},
   "source": [
    "In the spirit of trying something new, let's get the longest consonant chain."
   ]
  },
  {
   "cell_type": "code",
   "execution_count": 33,
   "id": "49686424",
   "metadata": {},
   "outputs": [
    {
     "data": {
      "application/vnd.microsoft.datawrangler.viewer.v0+json": {
       "columns": [
        {
         "name": "index",
         "rawType": "int64",
         "type": "integer"
        },
        {
         "name": "name",
         "rawType": "object",
         "type": "string"
        },
        {
         "name": "gender",
         "rawType": "object",
         "type": "string"
        },
        {
         "name": "get_two_last_letters",
         "rawType": "object",
         "type": "string"
        },
        {
         "name": "first_letter",
         "rawType": "object",
         "type": "string"
        },
        {
         "name": "longest_consonant_chain",
         "rawType": "object",
         "type": "string"
        }
       ],
       "ref": "8ebbc78c-6f38-4f46-a48b-2ae6c60da5cc",
       "rows": [
        [
         "0",
         "Aamir",
         "male",
         "ir",
         "a",
         "m"
        ],
        [
         "1",
         "Aaron",
         "male",
         "on",
         "a",
         "r"
        ],
        [
         "2",
         "Abbey",
         "male",
         "ey",
         "a",
         "bb"
        ],
        [
         "3",
         "Abbie",
         "male",
         "ie",
         "a",
         "bb"
        ],
        [
         "4",
         "Abbot",
         "male",
         "ot",
         "a",
         "bb"
        ]
       ],
       "shape": {
        "columns": 5,
        "rows": 5
       }
      },
      "text/html": [
       "<div>\n",
       "<style scoped>\n",
       "    .dataframe tbody tr th:only-of-type {\n",
       "        vertical-align: middle;\n",
       "    }\n",
       "\n",
       "    .dataframe tbody tr th {\n",
       "        vertical-align: top;\n",
       "    }\n",
       "\n",
       "    .dataframe thead th {\n",
       "        text-align: right;\n",
       "    }\n",
       "</style>\n",
       "<table border=\"1\" class=\"dataframe\">\n",
       "  <thead>\n",
       "    <tr style=\"text-align: right;\">\n",
       "      <th></th>\n",
       "      <th>name</th>\n",
       "      <th>gender</th>\n",
       "      <th>get_two_last_letters</th>\n",
       "      <th>first_letter</th>\n",
       "      <th>longest_consonant_chain</th>\n",
       "    </tr>\n",
       "  </thead>\n",
       "  <tbody>\n",
       "    <tr>\n",
       "      <th>0</th>\n",
       "      <td>Aamir</td>\n",
       "      <td>male</td>\n",
       "      <td>ir</td>\n",
       "      <td>a</td>\n",
       "      <td>m</td>\n",
       "    </tr>\n",
       "    <tr>\n",
       "      <th>1</th>\n",
       "      <td>Aaron</td>\n",
       "      <td>male</td>\n",
       "      <td>on</td>\n",
       "      <td>a</td>\n",
       "      <td>r</td>\n",
       "    </tr>\n",
       "    <tr>\n",
       "      <th>2</th>\n",
       "      <td>Abbey</td>\n",
       "      <td>male</td>\n",
       "      <td>ey</td>\n",
       "      <td>a</td>\n",
       "      <td>bb</td>\n",
       "    </tr>\n",
       "    <tr>\n",
       "      <th>3</th>\n",
       "      <td>Abbie</td>\n",
       "      <td>male</td>\n",
       "      <td>ie</td>\n",
       "      <td>a</td>\n",
       "      <td>bb</td>\n",
       "    </tr>\n",
       "    <tr>\n",
       "      <th>4</th>\n",
       "      <td>Abbot</td>\n",
       "      <td>male</td>\n",
       "      <td>ot</td>\n",
       "      <td>a</td>\n",
       "      <td>bb</td>\n",
       "    </tr>\n",
       "  </tbody>\n",
       "</table>\n",
       "</div>"
      ],
      "text/plain": [
       "    name gender get_two_last_letters first_letter longest_consonant_chain\n",
       "0  Aamir   male                   ir            a                       m\n",
       "1  Aaron   male                   on            a                       r\n",
       "2  Abbey   male                   ey            a                      bb\n",
       "3  Abbie   male                   ie            a                      bb\n",
       "4  Abbot   male                   ot            a                      bb"
      ]
     },
     "execution_count": 33,
     "metadata": {},
     "output_type": "execute_result"
    }
   ],
   "source": [
    "def gimme_the_longest_consonant_chain(name: pd.Series) -> pd.Series:\n",
    "    if not isinstance(name, str):\n",
    "        return '' # Return empty string for non-string input\n",
    "    \n",
    "    consonants = set('bcdfghjklmnpqrstvwxyz')\n",
    "    name_lower = name.lower()\n",
    "    \n",
    "    max_chain_str = \"\"\n",
    "    current_chain_str = \"\"\n",
    "    \n",
    "    for char in name_lower:\n",
    "        if char.isalpha() and char in consonants:\n",
    "            # Character is a consonant, append it to the current chain string\n",
    "            current_chain_str += char\n",
    "        else:\n",
    "            # Character is a vowel, 'y', or non-alphabetic\n",
    "            # Check if the current chain is the longest found so far\n",
    "            if len(current_chain_str) > len(max_chain_str):\n",
    "                max_chain_str = current_chain_str\n",
    "            # Reset the current chain string\n",
    "            current_chain_str = \"\"\n",
    "            \n",
    "    # Important: Check one last time after the loop finishes \n",
    "    # (in case the longest chain ends the string)\n",
    "    if len(current_chain_str) > len(max_chain_str):\n",
    "        max_chain_str = current_chain_str\n",
    "\n",
    "    return max_chain_str\n",
    "\n",
    "iteration_3_df = iteration_2_df.copy()\n",
    "iteration_3_df['longest_consonant_chain'] = iteration_3_df['name'].apply(gimme_the_longest_consonant_chain)\n",
    "iteration_3_df.head()\n"
   ]
  },
  {
   "cell_type": "markdown",
   "id": "e8633bff",
   "metadata": {},
   "source": [
    "We plot this below."
   ]
  },
  {
   "cell_type": "code",
   "execution_count": 37,
   "id": "fa564acd",
   "metadata": {},
   "outputs": [
    {
     "data": {
      "image/png": "[encoded data removed]",
      "text/plain": [
       "<Figure size 1600x600 with 1 Axes>"
      ]
     },
     "metadata": {},
     "output_type": "display_data"
    }
   ],
   "source": [
    "# Plot for longest_consonant_chain\n",
    "plt.figure(figsize=(16, 6))\n",
    "top_10 = iteration_3_df[iteration_3_df['longest_consonant_chain'].str.len() > 1]['longest_consonant_chain'].value_counts().nlargest(10).index\n",
    "sns.histplot(\n",
    "    data=iteration_3_df[iteration_3_df['longest_consonant_chain'].isin(top_10)],\n",
    "    x='longest_consonant_chain',\n",
    "    hue='gender',\n",
    "    palette=custom_palette,\n",
    "    stat=\"proportion\",\n",
    "    alpha=0.5,\n",
    "    multiple='dodge'\n",
    ")\n",
    "plt.title('Top 10 Most Common Chains of Consonants, by Gender')\n",
    "plt.xlabel('Consonant Chains')\n",
    "plt.ylabel('Proportion of Gender')\n",
    "plt.gca().yaxis.set_major_formatter(plt.FuncFormatter(lambda y, _: '{:.0%}'.format(y)))\n",
    "plt.show()"
   ]
  },
  {
   "cell_type": "markdown",
   "id": "fb31f441",
   "metadata": {},
   "source": [
    "There appear to be a high proportion of girls names with two \"l\"s or \"n\"s in a row. \n",
    "\n",
    "With these new features, we'll try classifying the names again and see how well the models perform."
   ]
  },
  {
   "cell_type": "code",
   "execution_count": 35,
   "id": "b2d70602",
   "metadata": {},
   "outputs": [
    {
     "name": "stdout",
     "output_type": "stream",
     "text": [
      "\n",
      "--- Results for Last Two Letters, First Letter, & Longest Consonant Chain (on DEV-TEST set) ---\n",
      "NaiveBayes Dev-Test Accuracy: 79.60%\n",
      "DecisionTree Dev-Test Accuracy: 34.20%\n",
      "MaxentClassifier Dev-Test Accuracy: 78.00%\n",
      "\n",
      "The best classifier is NaiveBayes with a dev-test accuracy of 79.60%\n",
      "\n",
      "Most Informative Features\n",
      "    get_two_last_letters = 'na'           female : male   =     90.6 : 1.0\n",
      "    get_two_last_letters = 'la'           female : male   =     69.0 : 1.0\n",
      "    get_two_last_letters = 'ia'           female : male   =     52.6 : 1.0\n",
      "    get_two_last_letters = 'us'             male : female =     36.3 : 1.0\n",
      "    get_two_last_letters = 'sa'           female : male   =     33.7 : 1.0\n",
      "    get_two_last_letters = 'ra'           female : male   =     23.6 : 1.0\n",
      "    get_two_last_letters = 'rd'             male : female =     23.0 : 1.0\n",
      "    get_two_last_letters = 'ta'           female : male   =     21.4 : 1.0\n",
      "    get_two_last_letters = 'ld'             male : female =     18.3 : 1.0\n",
      "    get_two_last_letters = 'do'             male : female =     16.3 : 1.0\n",
      "    get_two_last_letters = 'io'             male : female =     15.0 : 1.0\n",
      " longest_consonant_chain = 'rv'             male : female =     15.0 : 1.0\n",
      "    get_two_last_letters = 'ka'           female : male   =     12.3 : 1.0\n",
      "    get_two_last_letters = 'os'             male : female =     12.3 : 1.0\n",
      " longest_consonant_chain = 'rk'             male : female =     11.0 : 1.0\n",
      "    get_two_last_letters = 'im'             male : female =      9.7 : 1.0\n",
      " longest_consonant_chain = 'lt'             male : female =      9.0 : 1.0\n",
      "    get_two_last_letters = 'ch'             male : female =      9.0 : 1.0\n",
      " longest_consonant_chain = 'lyn'          female : male   =      8.6 : 1.0\n",
      "    get_two_last_letters = 'ee'           female : male   =      7.9 : 1.0\n"
     ]
    }
   ],
   "source": [
    "# We'll define a new function to just pass the dataframe and do all of the previous steps\n",
    "def dataframe_to_classifiers(df, training_cycle_name):\n",
    "    # Split the data (suppress verbose output)\n",
    "    x_train_resampled, x_devtest, x_test, y_train_resampled, y_devtest, y_test = split_data_for_nltk(df, verbose=False)\n",
    "    \n",
    "    # Convert to NLTK format\n",
    "    train_nltk_data = prepare_data_for_nltk(x_train_resampled, y_train_resampled)\n",
    "    devtest_nltk_data = prepare_data_for_nltk(x_devtest, y_devtest)\n",
    "    test_nltk_data = prepare_data_for_nltk(x_test, y_test)\n",
    "\n",
    "    # Train all three classifiers with the new features\n",
    "    classifiers = train_nltk_classifiers(train_nltk_data)\n",
    "    \n",
    "    print(f\"\\n--- Results for {training_cycle_name} (on DEV-TEST set) ---\")\n",
    "\n",
    "    best_classifier = None\n",
    "    best_classifier_name = None\n",
    "    best_accuracy = 0\n",
    "\n",
    "    # Evaluate each classifier on dev-test set\n",
    "    for name, classifier in classifiers.items():\n",
    "        accuracy = nltk.classify.accuracy(classifier, devtest_nltk_data)\n",
    "        print(f\"{name} Dev-Test Accuracy: {accuracy * 100:.2f}%\")\n",
    "        \n",
    "        if accuracy > best_accuracy:\n",
    "            best_classifier = classifier\n",
    "            best_classifier_name = name\n",
    "            best_accuracy = accuracy\n",
    "\n",
    "    print(f\"\\nThe best classifier is {best_classifier_name} with a dev-test accuracy of {best_accuracy * 100:.2f}%\\n\")\n",
    "    best_classifier.show_most_informative_features(20)\n",
    "    \n",
    "    return test_nltk_data, best_classifier\n",
    "\n",
    "# Run iteration 3 with new features\n",
    "test_data_final, best_classifier = dataframe_to_classifiers(iteration_3_df, \"Last Two Letters, First Letter, & Longest Consonant Chain\")"
   ]
  },
  {
   "cell_type": "markdown",
   "id": "1abaa8be",
   "metadata": {},
   "source": [
    "The Naive Bayes Classifier remains the best model choice, performing slightly better than our first model with a minor improvement in accuracy from correctly predicting 75.2% of genders in the test set to 79.6%. The last 2 letters remain the most informative feature in the data, but we can now see that consonant runs like \"rv\", \"rk\", and \"lt\" are important for predicting male names, and \"lyn\" can help predict female names.\n",
    "\n",
    "## Final Evaluation on Test Set\n",
    "\n",
    "Now that we're satisfied with our best model from the two dev test iterations, we evaluate it on the held-out test set to get a final estimate of \"real-world\" performance."
   ]
  },
  {
   "cell_type": "code",
   "execution_count": 36,
   "id": "2f64fa48",
   "metadata": {},
   "outputs": [
    {
     "name": "stdout",
     "output_type": "stream",
     "text": [
      "\n",
      "Dev-Test Accuracy: 78.20%\n",
      "Test Accuracy: 79.60%\n",
      "\n",
      "Difference (Test - Dev-Test): 1.40 percentage points\n"
     ]
    }
   ],
   "source": [
    "# Final evaluation on the test set\n",
    "# Accuracy baased on dev-test set (same what's reported above)\n",
    "devtest_accuracy = nltk.classify.accuracy(best_classifier, devtest_nltk_data)\n",
    "print(f\"\\nDev-Test Accuracy: {devtest_accuracy * 100:.2f}%\")\n",
    "\n",
    "# Accuracy based on test set\n",
    "test_accuracy = nltk.classify.accuracy(best_classifier, test_data_final)\n",
    "print(f\"Test Accuracy: {test_accuracy * 100:.2f}%\")\n",
    "\n",
    "# Compare the two\n",
    "difference = test_accuracy - devtest_accuracy\n",
    "print(f\"\\nDifference (Test - Dev-Test): {difference * 100:.2f} percentage points\")"
   ]
  },
  {
   "cell_type": "markdown",
   "id": "5d45746b",
   "metadata": {},
   "source": [
    "The dev-test and test accuracy are similar--within 1.4 percentage points of eachother--indicating that our model generalizes well and is not overfitted. This is in line with our expectations."
   ]
  }
 ],
 "metadata": {
  "kernelspec": {
   "display_name": "data620env",
   "language": "python",
   "name": "python3"
  },
  "language_info": {
   "codemirror_mode": {
    "name": "ipython",
    "version": 3
   },
   "file_extension": ".py",
   "mimetype": "text/x-python",
   "name": "python",
   "nbconvert_exporter": "python",
   "pygments_lexer": "ipython3",
   "version": "3.11.9"
  }
 },
 "nbformat": 4,
 "nbformat_minor": 5
}
