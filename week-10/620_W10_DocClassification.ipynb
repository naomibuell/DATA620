{
 "cells": [
  {
   "cell_type": "markdown",
   "id": "57d0d02f",
   "metadata": {},
   "source": [
    "# Week Ten - Assignment: Document Classification\n",
    " \n",
    "## *Instructions*\n",
    "\n",
    "*It can be useful to be able to classify new \"test\" documents using already classified \"training\" documents.  A common example is using a corpus of labeled spam and ham (non-spam) e-mails to predict whether or not a new document is spam.  Here is one example of such data:  [UCI Machine Learning Repository: Spambase Data Set](http://archive.ics.uci.edu/ml/datasets/Spambase).*\n",
    "\n",
    "*For this project, you can either use the above dataset to predict the class of new documents (either withheld from the training dataset or from another source such as your own spam folder).*\n",
    "\n",
    "*For more adventurous students, you are welcome (encouraged!) to come up a different set of documents (including scraped web pages!?) that have already been classified (e.g. tagged), then analyze these documents to predict how new documents should be classified.*"
   ]
  },
  {
   "cell_type": "code",
   "execution_count": 86,
   "id": "4c4d8fec",
   "metadata": {},
   "outputs": [],
   "source": [
    "# Load libraries\n",
    "import pandas as pd\n",
    "import numpy as np\n",
    "\n",
    "import seaborn as sns\n",
    "import matplotlib.pyplot as plt\n",
    "\n",
    "import zipfile\n",
    "import io\n",
    "import requests\n",
    "\n",
    "from sklearn.model_selection import train_test_split\n",
    "from sklearn.linear_model import LogisticRegression\n",
    "from sklearn.model_selection import train_test_split, GridSearchCV\n",
    "from sklearn.ensemble import RandomForestClassifier, AdaBoostClassifier\n",
    "from sklearn import tree\n",
    "from sklearn.metrics import accuracy_score, recall_score, classification_report\n",
    "from sklearn.tree import plot_tree\n",
    "\n",
    "from imblearn.under_sampling import RandomUnderSampler\n",
    "\n",
    "import xgboost as xgb\n",
    "import graphviz\n",
    "\n",
    "from collections import Counter"
   ]
  },
  {
   "cell_type": "markdown",
   "id": "8299facc",
   "metadata": {},
   "source": [
    "## Import the Spambase Dataset"
   ]
  },
  {
   "cell_type": "code",
   "execution_count": 75,
   "id": "bd135698",
   "metadata": {},
   "outputs": [
    {
     "data": {
      "application/vnd.microsoft.datawrangler.viewer.v0+json": {
       "columns": [
        {
         "name": "index",
         "rawType": "int64",
         "type": "integer"
        },
        {
         "name": "0",
         "rawType": "float64",
         "type": "float"
        },
        {
         "name": "1",
         "rawType": "float64",
         "type": "float"
        },
        {
         "name": "2",
         "rawType": "float64",
         "type": "float"
        },
        {
         "name": "3",
         "rawType": "float64",
         "type": "float"
        },
        {
         "name": "4",
         "rawType": "float64",
         "type": "float"
        },
        {
         "name": "5",
         "rawType": "float64",
         "type": "float"
        },
        {
         "name": "6",
         "rawType": "float64",
         "type": "float"
        },
        {
         "name": "7",
         "rawType": "float64",
         "type": "float"
        },
        {
         "name": "8",
         "rawType": "float64",
         "type": "float"
        },
        {
         "name": "9",
         "rawType": "float64",
         "type": "float"
        },
        {
         "name": "10",
         "rawType": "float64",
         "type": "float"
        },
        {
         "name": "11",
         "rawType": "float64",
         "type": "float"
        },
        {
         "name": "12",
         "rawType": "float64",
         "type": "float"
        },
        {
         "name": "13",
         "rawType": "float64",
         "type": "float"
        },
        {
         "name": "14",
         "rawType": "float64",
         "type": "float"
        },
        {
         "name": "15",
         "rawType": "float64",
         "type": "float"
        },
        {
         "name": "16",
         "rawType": "float64",
         "type": "float"
        },
        {
         "name": "17",
         "rawType": "float64",
         "type": "float"
        },
        {
         "name": "18",
         "rawType": "float64",
         "type": "float"
        },
        {
         "name": "19",
         "rawType": "float64",
         "type": "float"
        },
        {
         "name": "20",
         "rawType": "float64",
         "type": "float"
        },
        {
         "name": "21",
         "rawType": "float64",
         "type": "float"
        },
        {
         "name": "22",
         "rawType": "float64",
         "type": "float"
        },
        {
         "name": "23",
         "rawType": "float64",
         "type": "float"
        },
        {
         "name": "24",
         "rawType": "float64",
         "type": "float"
        },
        {
         "name": "25",
         "rawType": "float64",
         "type": "float"
        },
        {
         "name": "26",
         "rawType": "float64",
         "type": "float"
        },
        {
         "name": "27",
         "rawType": "float64",
         "type": "float"
        },
        {
         "name": "28",
         "rawType": "float64",
         "type": "float"
        },
        {
         "name": "29",
         "rawType": "float64",
         "type": "float"
        },
        {
         "name": "30",
         "rawType": "float64",
         "type": "float"
        },
        {
         "name": "31",
         "rawType": "float64",
         "type": "float"
        },
        {
         "name": "32",
         "rawType": "float64",
         "type": "float"
        },
        {
         "name": "33",
         "rawType": "float64",
         "type": "float"
        },
        {
         "name": "34",
         "rawType": "float64",
         "type": "float"
        },
        {
         "name": "35",
         "rawType": "float64",
         "type": "float"
        },
        {
         "name": "36",
         "rawType": "float64",
         "type": "float"
        },
        {
         "name": "37",
         "rawType": "float64",
         "type": "float"
        },
        {
         "name": "38",
         "rawType": "float64",
         "type": "float"
        },
        {
         "name": "39",
         "rawType": "float64",
         "type": "float"
        },
        {
         "name": "40",
         "rawType": "float64",
         "type": "float"
        },
        {
         "name": "41",
         "rawType": "float64",
         "type": "float"
        },
        {
         "name": "42",
         "rawType": "float64",
         "type": "float"
        },
        {
         "name": "43",
         "rawType": "float64",
         "type": "float"
        },
        {
         "name": "44",
         "rawType": "float64",
         "type": "float"
        },
        {
         "name": "45",
         "rawType": "float64",
         "type": "float"
        },
        {
         "name": "46",
         "rawType": "float64",
         "type": "float"
        },
        {
         "name": "47",
         "rawType": "float64",
         "type": "float"
        },
        {
         "name": "48",
         "rawType": "float64",
         "type": "float"
        },
        {
         "name": "49",
         "rawType": "float64",
         "type": "float"
        },
        {
         "name": "50",
         "rawType": "float64",
         "type": "float"
        },
        {
         "name": "51",
         "rawType": "float64",
         "type": "float"
        },
        {
         "name": "52",
         "rawType": "float64",
         "type": "float"
        },
        {
         "name": "53",
         "rawType": "float64",
         "type": "float"
        },
        {
         "name": "54",
         "rawType": "float64",
         "type": "float"
        },
        {
         "name": "55",
         "rawType": "int64",
         "type": "integer"
        },
        {
         "name": "56",
         "rawType": "int64",
         "type": "integer"
        },
        {
         "name": "57",
         "rawType": "int64",
         "type": "integer"
        }
       ],
       "ref": "382c6b02-ec27-46e0-a8ac-0586fbf86eb4",
       "rows": [
        [
         "0",
         "0.0",
         "0.64",
         "0.64",
         "0.0",
         "0.32",
         "0.0",
         "0.0",
         "0.0",
         "0.0",
         "0.0",
         "0.0",
         "0.64",
         "0.0",
         "0.0",
         "0.0",
         "0.32",
         "0.0",
         "1.29",
         "1.93",
         "0.0",
         "0.96",
         "0.0",
         "0.0",
         "0.0",
         "0.0",
         "0.0",
         "0.0",
         "0.0",
         "0.0",
         "0.0",
         "0.0",
         "0.0",
         "0.0",
         "0.0",
         "0.0",
         "0.0",
         "0.0",
         "0.0",
         "0.0",
         "0.0",
         "0.0",
         "0.0",
         "0.0",
         "0.0",
         "0.0",
         "0.0",
         "0.0",
         "0.0",
         "0.0",
         "0.0",
         "0.0",
         "0.778",
         "0.0",
         "0.0",
         "3.756",
         "61",
         "278",
         "1"
        ],
        [
         "1",
         "0.21",
         "0.28",
         "0.5",
         "0.0",
         "0.14",
         "0.28",
         "0.21",
         "0.07",
         "0.0",
         "0.94",
         "0.21",
         "0.79",
         "0.65",
         "0.21",
         "0.14",
         "0.14",
         "0.07",
         "0.28",
         "3.47",
         "0.0",
         "1.59",
         "0.0",
         "0.43",
         "0.43",
         "0.0",
         "0.0",
         "0.0",
         "0.0",
         "0.0",
         "0.0",
         "0.0",
         "0.0",
         "0.0",
         "0.0",
         "0.0",
         "0.0",
         "0.07",
         "0.0",
         "0.0",
         "0.0",
         "0.0",
         "0.0",
         "0.0",
         "0.0",
         "0.0",
         "0.0",
         "0.0",
         "0.0",
         "0.0",
         "0.132",
         "0.0",
         "0.372",
         "0.18",
         "0.048",
         "5.114",
         "101",
         "1028",
         "1"
        ],
        [
         "2",
         "0.06",
         "0.0",
         "0.71",
         "0.0",
         "1.23",
         "0.19",
         "0.19",
         "0.12",
         "0.64",
         "0.25",
         "0.38",
         "0.45",
         "0.12",
         "0.0",
         "1.75",
         "0.06",
         "0.06",
         "1.03",
         "1.36",
         "0.32",
         "0.51",
         "0.0",
         "1.16",
         "0.06",
         "0.0",
         "0.0",
         "0.0",
         "0.0",
         "0.0",
         "0.0",
         "0.0",
         "0.0",
         "0.0",
         "0.0",
         "0.0",
         "0.0",
         "0.0",
         "0.0",
         "0.0",
         "0.06",
         "0.0",
         "0.0",
         "0.12",
         "0.0",
         "0.06",
         "0.06",
         "0.0",
         "0.0",
         "0.01",
         "0.143",
         "0.0",
         "0.276",
         "0.184",
         "0.01",
         "9.821",
         "485",
         "2259",
         "1"
        ],
        [
         "3",
         "0.0",
         "0.0",
         "0.0",
         "0.0",
         "0.63",
         "0.0",
         "0.31",
         "0.63",
         "0.31",
         "0.63",
         "0.31",
         "0.31",
         "0.31",
         "0.0",
         "0.0",
         "0.31",
         "0.0",
         "0.0",
         "3.18",
         "0.0",
         "0.31",
         "0.0",
         "0.0",
         "0.0",
         "0.0",
         "0.0",
         "0.0",
         "0.0",
         "0.0",
         "0.0",
         "0.0",
         "0.0",
         "0.0",
         "0.0",
         "0.0",
         "0.0",
         "0.0",
         "0.0",
         "0.0",
         "0.0",
         "0.0",
         "0.0",
         "0.0",
         "0.0",
         "0.0",
         "0.0",
         "0.0",
         "0.0",
         "0.0",
         "0.137",
         "0.0",
         "0.137",
         "0.0",
         "0.0",
         "3.537",
         "40",
         "191",
         "1"
        ],
        [
         "4",
         "0.0",
         "0.0",
         "0.0",
         "0.0",
         "0.63",
         "0.0",
         "0.31",
         "0.63",
         "0.31",
         "0.63",
         "0.31",
         "0.31",
         "0.31",
         "0.0",
         "0.0",
         "0.31",
         "0.0",
         "0.0",
         "3.18",
         "0.0",
         "0.31",
         "0.0",
         "0.0",
         "0.0",
         "0.0",
         "0.0",
         "0.0",
         "0.0",
         "0.0",
         "0.0",
         "0.0",
         "0.0",
         "0.0",
         "0.0",
         "0.0",
         "0.0",
         "0.0",
         "0.0",
         "0.0",
         "0.0",
         "0.0",
         "0.0",
         "0.0",
         "0.0",
         "0.0",
         "0.0",
         "0.0",
         "0.0",
         "0.0",
         "0.135",
         "0.0",
         "0.135",
         "0.0",
         "0.0",
         "3.537",
         "40",
         "191",
         "1"
        ]
       ],
       "shape": {
        "columns": 58,
        "rows": 5
       }
      },
      "text/html": [
       "<div>\n",
       "<style scoped>\n",
       "    .dataframe tbody tr th:only-of-type {\n",
       "        vertical-align: middle;\n",
       "    }\n",
       "\n",
       "    .dataframe tbody tr th {\n",
       "        vertical-align: top;\n",
       "    }\n",
       "\n",
       "    .dataframe thead th {\n",
       "        text-align: right;\n",
       "    }\n",
       "</style>\n",
       "<table border=\"1\" class=\"dataframe\">\n",
       "  <thead>\n",
       "    <tr style=\"text-align: right;\">\n",
       "      <th></th>\n",
       "      <th>0</th>\n",
       "      <th>1</th>\n",
       "      <th>2</th>\n",
       "      <th>3</th>\n",
       "      <th>4</th>\n",
       "      <th>5</th>\n",
       "      <th>6</th>\n",
       "      <th>7</th>\n",
       "      <th>8</th>\n",
       "      <th>9</th>\n",
       "      <th>...</th>\n",
       "      <th>48</th>\n",
       "      <th>49</th>\n",
       "      <th>50</th>\n",
       "      <th>51</th>\n",
       "      <th>52</th>\n",
       "      <th>53</th>\n",
       "      <th>54</th>\n",
       "      <th>55</th>\n",
       "      <th>56</th>\n",
       "      <th>57</th>\n",
       "    </tr>\n",
       "  </thead>\n",
       "  <tbody>\n",
       "    <tr>\n",
       "      <th>0</th>\n",
       "      <td>0.00</td>\n",
       "      <td>0.64</td>\n",
       "      <td>0.64</td>\n",
       "      <td>0.0</td>\n",
       "      <td>0.32</td>\n",
       "      <td>0.00</td>\n",
       "      <td>0.00</td>\n",
       "      <td>0.00</td>\n",
       "      <td>0.00</td>\n",
       "      <td>0.00</td>\n",
       "      <td>...</td>\n",
       "      <td>0.00</td>\n",
       "      <td>0.000</td>\n",
       "      <td>0.0</td>\n",
       "      <td>0.778</td>\n",
       "      <td>0.000</td>\n",
       "      <td>0.000</td>\n",
       "      <td>3.756</td>\n",
       "      <td>61</td>\n",
       "      <td>278</td>\n",
       "      <td>1</td>\n",
       "    </tr>\n",
       "    <tr>\n",
       "      <th>1</th>\n",
       "      <td>0.21</td>\n",
       "      <td>0.28</td>\n",
       "      <td>0.50</td>\n",
       "      <td>0.0</td>\n",
       "      <td>0.14</td>\n",
       "      <td>0.28</td>\n",
       "      <td>0.21</td>\n",
       "      <td>0.07</td>\n",
       "      <td>0.00</td>\n",
       "      <td>0.94</td>\n",
       "      <td>...</td>\n",
       "      <td>0.00</td>\n",
       "      <td>0.132</td>\n",
       "      <td>0.0</td>\n",
       "      <td>0.372</td>\n",
       "      <td>0.180</td>\n",
       "      <td>0.048</td>\n",
       "      <td>5.114</td>\n",
       "      <td>101</td>\n",
       "      <td>1028</td>\n",
       "      <td>1</td>\n",
       "    </tr>\n",
       "    <tr>\n",
       "      <th>2</th>\n",
       "      <td>0.06</td>\n",
       "      <td>0.00</td>\n",
       "      <td>0.71</td>\n",
       "      <td>0.0</td>\n",
       "      <td>1.23</td>\n",
       "      <td>0.19</td>\n",
       "      <td>0.19</td>\n",
       "      <td>0.12</td>\n",
       "      <td>0.64</td>\n",
       "      <td>0.25</td>\n",
       "      <td>...</td>\n",
       "      <td>0.01</td>\n",
       "      <td>0.143</td>\n",
       "      <td>0.0</td>\n",
       "      <td>0.276</td>\n",
       "      <td>0.184</td>\n",
       "      <td>0.010</td>\n",
       "      <td>9.821</td>\n",
       "      <td>485</td>\n",
       "      <td>2259</td>\n",
       "      <td>1</td>\n",
       "    </tr>\n",
       "    <tr>\n",
       "      <th>3</th>\n",
       "      <td>0.00</td>\n",
       "      <td>0.00</td>\n",
       "      <td>0.00</td>\n",
       "      <td>0.0</td>\n",
       "      <td>0.63</td>\n",
       "      <td>0.00</td>\n",
       "      <td>0.31</td>\n",
       "      <td>0.63</td>\n",
       "      <td>0.31</td>\n",
       "      <td>0.63</td>\n",
       "      <td>...</td>\n",
       "      <td>0.00</td>\n",
       "      <td>0.137</td>\n",
       "      <td>0.0</td>\n",
       "      <td>0.137</td>\n",
       "      <td>0.000</td>\n",
       "      <td>0.000</td>\n",
       "      <td>3.537</td>\n",
       "      <td>40</td>\n",
       "      <td>191</td>\n",
       "      <td>1</td>\n",
       "    </tr>\n",
       "    <tr>\n",
       "      <th>4</th>\n",
       "      <td>0.00</td>\n",
       "      <td>0.00</td>\n",
       "      <td>0.00</td>\n",
       "      <td>0.0</td>\n",
       "      <td>0.63</td>\n",
       "      <td>0.00</td>\n",
       "      <td>0.31</td>\n",
       "      <td>0.63</td>\n",
       "      <td>0.31</td>\n",
       "      <td>0.63</td>\n",
       "      <td>...</td>\n",
       "      <td>0.00</td>\n",
       "      <td>0.135</td>\n",
       "      <td>0.0</td>\n",
       "      <td>0.135</td>\n",
       "      <td>0.000</td>\n",
       "      <td>0.000</td>\n",
       "      <td>3.537</td>\n",
       "      <td>40</td>\n",
       "      <td>191</td>\n",
       "      <td>1</td>\n",
       "    </tr>\n",
       "  </tbody>\n",
       "</table>\n",
       "<p>5 rows × 58 columns</p>\n",
       "</div>"
      ],
      "text/plain": [
       "     0     1     2    3     4     5     6     7     8     9   ...    48  \\\n",
       "0  0.00  0.64  0.64  0.0  0.32  0.00  0.00  0.00  0.00  0.00  ...  0.00   \n",
       "1  0.21  0.28  0.50  0.0  0.14  0.28  0.21  0.07  0.00  0.94  ...  0.00   \n",
       "2  0.06  0.00  0.71  0.0  1.23  0.19  0.19  0.12  0.64  0.25  ...  0.01   \n",
       "3  0.00  0.00  0.00  0.0  0.63  0.00  0.31  0.63  0.31  0.63  ...  0.00   \n",
       "4  0.00  0.00  0.00  0.0  0.63  0.00  0.31  0.63  0.31  0.63  ...  0.00   \n",
       "\n",
       "      49   50     51     52     53     54   55    56  57  \n",
       "0  0.000  0.0  0.778  0.000  0.000  3.756   61   278   1  \n",
       "1  0.132  0.0  0.372  0.180  0.048  5.114  101  1028   1  \n",
       "2  0.143  0.0  0.276  0.184  0.010  9.821  485  2259   1  \n",
       "3  0.137  0.0  0.137  0.000  0.000  3.537   40   191   1  \n",
       "4  0.135  0.0  0.135  0.000  0.000  3.537   40   191   1  \n",
       "\n",
       "[5 rows x 58 columns]"
      ]
     },
     "execution_count": 75,
     "metadata": {},
     "output_type": "execute_result"
    }
   ],
   "source": [
    "# Download the zip file from the internet\n",
    "url = \"https://archive.ics.uci.edu/static/public/94/spambase.zip\"\n",
    "response = requests.get(url)\n",
    "\n",
    "# Extract spambase.zip from the downloaded zip\n",
    "with zipfile.ZipFile(io.BytesIO(response.content)) as z:\n",
    "    # Extract spambase.data from spambase.zip\n",
    "    with z.open('spambase.data') as csvfile:\n",
    "        spambase_data = pd.read_csv(csvfile, sep=',', header=None)\n",
    "        \n",
    "spambase_data.head()"
   ]
  },
  {
   "cell_type": "code",
   "execution_count": 76,
   "id": "2336af76",
   "metadata": {},
   "outputs": [
    {
     "data": {
      "application/vnd.microsoft.datawrangler.viewer.v0+json": {
       "columns": [
        {
         "name": "index",
         "rawType": "int64",
         "type": "integer"
        },
        {
         "name": "word_freq_make",
         "rawType": "float64",
         "type": "float"
        },
        {
         "name": "word_freq_address",
         "rawType": "float64",
         "type": "float"
        },
        {
         "name": "word_freq_all",
         "rawType": "float64",
         "type": "float"
        },
        {
         "name": "word_freq_3d",
         "rawType": "float64",
         "type": "float"
        },
        {
         "name": "word_freq_our",
         "rawType": "float64",
         "type": "float"
        },
        {
         "name": "word_freq_over",
         "rawType": "float64",
         "type": "float"
        },
        {
         "name": "word_freq_remove",
         "rawType": "float64",
         "type": "float"
        },
        {
         "name": "word_freq_internet",
         "rawType": "float64",
         "type": "float"
        },
        {
         "name": "word_freq_order",
         "rawType": "float64",
         "type": "float"
        },
        {
         "name": "word_freq_mail",
         "rawType": "float64",
         "type": "float"
        },
        {
         "name": "word_freq_receive",
         "rawType": "float64",
         "type": "float"
        },
        {
         "name": "word_freq_will",
         "rawType": "float64",
         "type": "float"
        },
        {
         "name": "word_freq_people",
         "rawType": "float64",
         "type": "float"
        },
        {
         "name": "word_freq_report",
         "rawType": "float64",
         "type": "float"
        },
        {
         "name": "word_freq_addresses",
         "rawType": "float64",
         "type": "float"
        },
        {
         "name": "word_freq_free",
         "rawType": "float64",
         "type": "float"
        },
        {
         "name": "word_freq_business",
         "rawType": "float64",
         "type": "float"
        },
        {
         "name": "word_freq_email",
         "rawType": "float64",
         "type": "float"
        },
        {
         "name": "word_freq_you",
         "rawType": "float64",
         "type": "float"
        },
        {
         "name": "word_freq_credit",
         "rawType": "float64",
         "type": "float"
        },
        {
         "name": "word_freq_your",
         "rawType": "float64",
         "type": "float"
        },
        {
         "name": "word_freq_font",
         "rawType": "float64",
         "type": "float"
        },
        {
         "name": "word_freq_000",
         "rawType": "float64",
         "type": "float"
        },
        {
         "name": "word_freq_money",
         "rawType": "float64",
         "type": "float"
        },
        {
         "name": "word_freq_hp",
         "rawType": "float64",
         "type": "float"
        },
        {
         "name": "word_freq_hpl",
         "rawType": "float64",
         "type": "float"
        },
        {
         "name": "word_freq_george",
         "rawType": "float64",
         "type": "float"
        },
        {
         "name": "word_freq_650",
         "rawType": "float64",
         "type": "float"
        },
        {
         "name": "word_freq_lab",
         "rawType": "float64",
         "type": "float"
        },
        {
         "name": "word_freq_labs",
         "rawType": "float64",
         "type": "float"
        },
        {
         "name": "word_freq_telnet",
         "rawType": "float64",
         "type": "float"
        },
        {
         "name": "word_freq_857",
         "rawType": "float64",
         "type": "float"
        },
        {
         "name": "word_freq_data",
         "rawType": "float64",
         "type": "float"
        },
        {
         "name": "word_freq_415",
         "rawType": "float64",
         "type": "float"
        },
        {
         "name": "word_freq_85",
         "rawType": "float64",
         "type": "float"
        },
        {
         "name": "word_freq_technology",
         "rawType": "float64",
         "type": "float"
        },
        {
         "name": "word_freq_1999",
         "rawType": "float64",
         "type": "float"
        },
        {
         "name": "word_freq_parts",
         "rawType": "float64",
         "type": "float"
        },
        {
         "name": "word_freq_pm",
         "rawType": "float64",
         "type": "float"
        },
        {
         "name": "word_freq_direct",
         "rawType": "float64",
         "type": "float"
        },
        {
         "name": "word_freq_cs",
         "rawType": "float64",
         "type": "float"
        },
        {
         "name": "word_freq_meeting",
         "rawType": "float64",
         "type": "float"
        },
        {
         "name": "word_freq_original",
         "rawType": "float64",
         "type": "float"
        },
        {
         "name": "word_freq_project",
         "rawType": "float64",
         "type": "float"
        },
        {
         "name": "word_freq_re",
         "rawType": "float64",
         "type": "float"
        },
        {
         "name": "word_freq_edu",
         "rawType": "float64",
         "type": "float"
        },
        {
         "name": "word_freq_table",
         "rawType": "float64",
         "type": "float"
        },
        {
         "name": "word_freq_conference",
         "rawType": "float64",
         "type": "float"
        },
        {
         "name": "char_freq_;",
         "rawType": "float64",
         "type": "float"
        },
        {
         "name": "char_freq_(",
         "rawType": "float64",
         "type": "float"
        },
        {
         "name": "char_freq_sq_bracket",
         "rawType": "float64",
         "type": "float"
        },
        {
         "name": "char_freq_!",
         "rawType": "float64",
         "type": "float"
        },
        {
         "name": "char_freq_$",
         "rawType": "float64",
         "type": "float"
        },
        {
         "name": "char_freq_#",
         "rawType": "float64",
         "type": "float"
        },
        {
         "name": "capital_run_length_average",
         "rawType": "float64",
         "type": "float"
        },
        {
         "name": "capital_run_length_longest",
         "rawType": "int64",
         "type": "integer"
        },
        {
         "name": "capital_run_length_total",
         "rawType": "int64",
         "type": "integer"
        },
        {
         "name": "spam",
         "rawType": "int64",
         "type": "integer"
        }
       ],
       "ref": "946ba4e4-b94a-4dcf-9e05-95353887320f",
       "rows": [
        [
         "0",
         "0.0",
         "0.64",
         "0.64",
         "0.0",
         "0.32",
         "0.0",
         "0.0",
         "0.0",
         "0.0",
         "0.0",
         "0.0",
         "0.64",
         "0.0",
         "0.0",
         "0.0",
         "0.32",
         "0.0",
         "1.29",
         "1.93",
         "0.0",
         "0.96",
         "0.0",
         "0.0",
         "0.0",
         "0.0",
         "0.0",
         "0.0",
         "0.0",
         "0.0",
         "0.0",
         "0.0",
         "0.0",
         "0.0",
         "0.0",
         "0.0",
         "0.0",
         "0.0",
         "0.0",
         "0.0",
         "0.0",
         "0.0",
         "0.0",
         "0.0",
         "0.0",
         "0.0",
         "0.0",
         "0.0",
         "0.0",
         "0.0",
         "0.0",
         "0.0",
         "0.778",
         "0.0",
         "0.0",
         "3.756",
         "61",
         "278",
         "1"
        ],
        [
         "1",
         "0.21",
         "0.28",
         "0.5",
         "0.0",
         "0.14",
         "0.28",
         "0.21",
         "0.07",
         "0.0",
         "0.94",
         "0.21",
         "0.79",
         "0.65",
         "0.21",
         "0.14",
         "0.14",
         "0.07",
         "0.28",
         "3.47",
         "0.0",
         "1.59",
         "0.0",
         "0.43",
         "0.43",
         "0.0",
         "0.0",
         "0.0",
         "0.0",
         "0.0",
         "0.0",
         "0.0",
         "0.0",
         "0.0",
         "0.0",
         "0.0",
         "0.0",
         "0.07",
         "0.0",
         "0.0",
         "0.0",
         "0.0",
         "0.0",
         "0.0",
         "0.0",
         "0.0",
         "0.0",
         "0.0",
         "0.0",
         "0.0",
         "0.132",
         "0.0",
         "0.372",
         "0.18",
         "0.048",
         "5.114",
         "101",
         "1028",
         "1"
        ],
        [
         "2",
         "0.06",
         "0.0",
         "0.71",
         "0.0",
         "1.23",
         "0.19",
         "0.19",
         "0.12",
         "0.64",
         "0.25",
         "0.38",
         "0.45",
         "0.12",
         "0.0",
         "1.75",
         "0.06",
         "0.06",
         "1.03",
         "1.36",
         "0.32",
         "0.51",
         "0.0",
         "1.16",
         "0.06",
         "0.0",
         "0.0",
         "0.0",
         "0.0",
         "0.0",
         "0.0",
         "0.0",
         "0.0",
         "0.0",
         "0.0",
         "0.0",
         "0.0",
         "0.0",
         "0.0",
         "0.0",
         "0.06",
         "0.0",
         "0.0",
         "0.12",
         "0.0",
         "0.06",
         "0.06",
         "0.0",
         "0.0",
         "0.01",
         "0.143",
         "0.0",
         "0.276",
         "0.184",
         "0.01",
         "9.821",
         "485",
         "2259",
         "1"
        ],
        [
         "3",
         "0.0",
         "0.0",
         "0.0",
         "0.0",
         "0.63",
         "0.0",
         "0.31",
         "0.63",
         "0.31",
         "0.63",
         "0.31",
         "0.31",
         "0.31",
         "0.0",
         "0.0",
         "0.31",
         "0.0",
         "0.0",
         "3.18",
         "0.0",
         "0.31",
         "0.0",
         "0.0",
         "0.0",
         "0.0",
         "0.0",
         "0.0",
         "0.0",
         "0.0",
         "0.0",
         "0.0",
         "0.0",
         "0.0",
         "0.0",
         "0.0",
         "0.0",
         "0.0",
         "0.0",
         "0.0",
         "0.0",
         "0.0",
         "0.0",
         "0.0",
         "0.0",
         "0.0",
         "0.0",
         "0.0",
         "0.0",
         "0.0",
         "0.137",
         "0.0",
         "0.137",
         "0.0",
         "0.0",
         "3.537",
         "40",
         "191",
         "1"
        ],
        [
         "4",
         "0.0",
         "0.0",
         "0.0",
         "0.0",
         "0.63",
         "0.0",
         "0.31",
         "0.63",
         "0.31",
         "0.63",
         "0.31",
         "0.31",
         "0.31",
         "0.0",
         "0.0",
         "0.31",
         "0.0",
         "0.0",
         "3.18",
         "0.0",
         "0.31",
         "0.0",
         "0.0",
         "0.0",
         "0.0",
         "0.0",
         "0.0",
         "0.0",
         "0.0",
         "0.0",
         "0.0",
         "0.0",
         "0.0",
         "0.0",
         "0.0",
         "0.0",
         "0.0",
         "0.0",
         "0.0",
         "0.0",
         "0.0",
         "0.0",
         "0.0",
         "0.0",
         "0.0",
         "0.0",
         "0.0",
         "0.0",
         "0.0",
         "0.135",
         "0.0",
         "0.135",
         "0.0",
         "0.0",
         "3.537",
         "40",
         "191",
         "1"
        ]
       ],
       "shape": {
        "columns": 58,
        "rows": 5
       }
      },
      "text/html": [
       "<div>\n",
       "<style scoped>\n",
       "    .dataframe tbody tr th:only-of-type {\n",
       "        vertical-align: middle;\n",
       "    }\n",
       "\n",
       "    .dataframe tbody tr th {\n",
       "        vertical-align: top;\n",
       "    }\n",
       "\n",
       "    .dataframe thead th {\n",
       "        text-align: right;\n",
       "    }\n",
       "</style>\n",
       "<table border=\"1\" class=\"dataframe\">\n",
       "  <thead>\n",
       "    <tr style=\"text-align: right;\">\n",
       "      <th></th>\n",
       "      <th>word_freq_make</th>\n",
       "      <th>word_freq_address</th>\n",
       "      <th>word_freq_all</th>\n",
       "      <th>word_freq_3d</th>\n",
       "      <th>word_freq_our</th>\n",
       "      <th>word_freq_over</th>\n",
       "      <th>word_freq_remove</th>\n",
       "      <th>word_freq_internet</th>\n",
       "      <th>word_freq_order</th>\n",
       "      <th>word_freq_mail</th>\n",
       "      <th>...</th>\n",
       "      <th>char_freq_;</th>\n",
       "      <th>char_freq_(</th>\n",
       "      <th>char_freq_sq_bracket</th>\n",
       "      <th>char_freq_!</th>\n",
       "      <th>char_freq_$</th>\n",
       "      <th>char_freq_#</th>\n",
       "      <th>capital_run_length_average</th>\n",
       "      <th>capital_run_length_longest</th>\n",
       "      <th>capital_run_length_total</th>\n",
       "      <th>spam</th>\n",
       "    </tr>\n",
       "  </thead>\n",
       "  <tbody>\n",
       "    <tr>\n",
       "      <th>0</th>\n",
       "      <td>0.00</td>\n",
       "      <td>0.64</td>\n",
       "      <td>0.64</td>\n",
       "      <td>0.0</td>\n",
       "      <td>0.32</td>\n",
       "      <td>0.00</td>\n",
       "      <td>0.00</td>\n",
       "      <td>0.00</td>\n",
       "      <td>0.00</td>\n",
       "      <td>0.00</td>\n",
       "      <td>...</td>\n",
       "      <td>0.00</td>\n",
       "      <td>0.000</td>\n",
       "      <td>0.0</td>\n",
       "      <td>0.778</td>\n",
       "      <td>0.000</td>\n",
       "      <td>0.000</td>\n",
       "      <td>3.756</td>\n",
       "      <td>61</td>\n",
       "      <td>278</td>\n",
       "      <td>1</td>\n",
       "    </tr>\n",
       "    <tr>\n",
       "      <th>1</th>\n",
       "      <td>0.21</td>\n",
       "      <td>0.28</td>\n",
       "      <td>0.50</td>\n",
       "      <td>0.0</td>\n",
       "      <td>0.14</td>\n",
       "      <td>0.28</td>\n",
       "      <td>0.21</td>\n",
       "      <td>0.07</td>\n",
       "      <td>0.00</td>\n",
       "      <td>0.94</td>\n",
       "      <td>...</td>\n",
       "      <td>0.00</td>\n",
       "      <td>0.132</td>\n",
       "      <td>0.0</td>\n",
       "      <td>0.372</td>\n",
       "      <td>0.180</td>\n",
       "      <td>0.048</td>\n",
       "      <td>5.114</td>\n",
       "      <td>101</td>\n",
       "      <td>1028</td>\n",
       "      <td>1</td>\n",
       "    </tr>\n",
       "    <tr>\n",
       "      <th>2</th>\n",
       "      <td>0.06</td>\n",
       "      <td>0.00</td>\n",
       "      <td>0.71</td>\n",
       "      <td>0.0</td>\n",
       "      <td>1.23</td>\n",
       "      <td>0.19</td>\n",
       "      <td>0.19</td>\n",
       "      <td>0.12</td>\n",
       "      <td>0.64</td>\n",
       "      <td>0.25</td>\n",
       "      <td>...</td>\n",
       "      <td>0.01</td>\n",
       "      <td>0.143</td>\n",
       "      <td>0.0</td>\n",
       "      <td>0.276</td>\n",
       "      <td>0.184</td>\n",
       "      <td>0.010</td>\n",
       "      <td>9.821</td>\n",
       "      <td>485</td>\n",
       "      <td>2259</td>\n",
       "      <td>1</td>\n",
       "    </tr>\n",
       "    <tr>\n",
       "      <th>3</th>\n",
       "      <td>0.00</td>\n",
       "      <td>0.00</td>\n",
       "      <td>0.00</td>\n",
       "      <td>0.0</td>\n",
       "      <td>0.63</td>\n",
       "      <td>0.00</td>\n",
       "      <td>0.31</td>\n",
       "      <td>0.63</td>\n",
       "      <td>0.31</td>\n",
       "      <td>0.63</td>\n",
       "      <td>...</td>\n",
       "      <td>0.00</td>\n",
       "      <td>0.137</td>\n",
       "      <td>0.0</td>\n",
       "      <td>0.137</td>\n",
       "      <td>0.000</td>\n",
       "      <td>0.000</td>\n",
       "      <td>3.537</td>\n",
       "      <td>40</td>\n",
       "      <td>191</td>\n",
       "      <td>1</td>\n",
       "    </tr>\n",
       "    <tr>\n",
       "      <th>4</th>\n",
       "      <td>0.00</td>\n",
       "      <td>0.00</td>\n",
       "      <td>0.00</td>\n",
       "      <td>0.0</td>\n",
       "      <td>0.63</td>\n",
       "      <td>0.00</td>\n",
       "      <td>0.31</td>\n",
       "      <td>0.63</td>\n",
       "      <td>0.31</td>\n",
       "      <td>0.63</td>\n",
       "      <td>...</td>\n",
       "      <td>0.00</td>\n",
       "      <td>0.135</td>\n",
       "      <td>0.0</td>\n",
       "      <td>0.135</td>\n",
       "      <td>0.000</td>\n",
       "      <td>0.000</td>\n",
       "      <td>3.537</td>\n",
       "      <td>40</td>\n",
       "      <td>191</td>\n",
       "      <td>1</td>\n",
       "    </tr>\n",
       "  </tbody>\n",
       "</table>\n",
       "<p>5 rows × 58 columns</p>\n",
       "</div>"
      ],
      "text/plain": [
       "   word_freq_make  word_freq_address  word_freq_all  word_freq_3d  \\\n",
       "0            0.00               0.64           0.64           0.0   \n",
       "1            0.21               0.28           0.50           0.0   \n",
       "2            0.06               0.00           0.71           0.0   \n",
       "3            0.00               0.00           0.00           0.0   \n",
       "4            0.00               0.00           0.00           0.0   \n",
       "\n",
       "   word_freq_our  word_freq_over  word_freq_remove  word_freq_internet  \\\n",
       "0           0.32            0.00              0.00                0.00   \n",
       "1           0.14            0.28              0.21                0.07   \n",
       "2           1.23            0.19              0.19                0.12   \n",
       "3           0.63            0.00              0.31                0.63   \n",
       "4           0.63            0.00              0.31                0.63   \n",
       "\n",
       "   word_freq_order  word_freq_mail  ...  char_freq_;  char_freq_(  \\\n",
       "0             0.00            0.00  ...         0.00        0.000   \n",
       "1             0.00            0.94  ...         0.00        0.132   \n",
       "2             0.64            0.25  ...         0.01        0.143   \n",
       "3             0.31            0.63  ...         0.00        0.137   \n",
       "4             0.31            0.63  ...         0.00        0.135   \n",
       "\n",
       "   char_freq_sq_bracket  char_freq_!  char_freq_$  char_freq_#  \\\n",
       "0                   0.0        0.778        0.000        0.000   \n",
       "1                   0.0        0.372        0.180        0.048   \n",
       "2                   0.0        0.276        0.184        0.010   \n",
       "3                   0.0        0.137        0.000        0.000   \n",
       "4                   0.0        0.135        0.000        0.000   \n",
       "\n",
       "   capital_run_length_average  capital_run_length_longest  \\\n",
       "0                       3.756                          61   \n",
       "1                       5.114                         101   \n",
       "2                       9.821                         485   \n",
       "3                       3.537                          40   \n",
       "4                       3.537                          40   \n",
       "\n",
       "   capital_run_length_total  spam  \n",
       "0                       278     1  \n",
       "1                      1028     1  \n",
       "2                      2259     1  \n",
       "3                       191     1  \n",
       "4                       191     1  \n",
       "\n",
       "[5 rows x 58 columns]"
      ]
     },
     "execution_count": 76,
     "metadata": {},
     "output_type": "execute_result"
    }
   ],
   "source": [
    "# Rename columns\n",
    "column_names = [\n",
    "    \"word_freq_make\",\n",
    "    \"word_freq_address\",\n",
    "    \"word_freq_all\",\n",
    "    \"word_freq_3d\",\n",
    "    \"word_freq_our\",\n",
    "    \"word_freq_over\",\n",
    "    \"word_freq_remove\",\n",
    "    \"word_freq_internet\",\n",
    "    \"word_freq_order\",\n",
    "    \"word_freq_mail\",\n",
    "    \"word_freq_receive\",\n",
    "    \"word_freq_will\",\n",
    "    \"word_freq_people\",\n",
    "    \"word_freq_report\",\n",
    "    \"word_freq_addresses\",\n",
    "    \"word_freq_free\",\n",
    "    \"word_freq_business\",\n",
    "    \"word_freq_email\",\n",
    "    \"word_freq_you\",\n",
    "    \"word_freq_credit\",\n",
    "    \"word_freq_your\",\n",
    "    \"word_freq_font\",\n",
    "    \"word_freq_000\",\n",
    "    \"word_freq_money\",\n",
    "    \"word_freq_hp\",\n",
    "    \"word_freq_hpl\",\n",
    "    \"word_freq_george\",\n",
    "    \"word_freq_650\",\n",
    "    \"word_freq_lab\",\n",
    "    \"word_freq_labs\",\n",
    "    \"word_freq_telnet\",\n",
    "    \"word_freq_857\",\n",
    "    \"word_freq_data\",\n",
    "    \"word_freq_415\",\n",
    "    \"word_freq_85\",\n",
    "    \"word_freq_technology\",\n",
    "    \"word_freq_1999\",\n",
    "    \"word_freq_parts\",\n",
    "    \"word_freq_pm\",\n",
    "    \"word_freq_direct\",\n",
    "    \"word_freq_cs\",\n",
    "    \"word_freq_meeting\",\n",
    "    \"word_freq_original\",\n",
    "    \"word_freq_project\",\n",
    "    \"word_freq_re\",\n",
    "    \"word_freq_edu\",\n",
    "    \"word_freq_table\",\n",
    "    \"word_freq_conference\",\n",
    "    \"char_freq_;\",\n",
    "    \"char_freq_(\",\n",
    "    \"char_freq_sq_bracket\", # feature_names must be string, and may not contain [, ] or <\n",
    "    \"char_freq_!\",\n",
    "    \"char_freq_$\",\n",
    "    \"char_freq_#\",\n",
    "    \"capital_run_length_average\",\n",
    "    \"capital_run_length_longest\",\n",
    "    \"capital_run_length_total\",\n",
    "    \"spam\"\n",
    "]\n",
    "\n",
    "spambase_data.columns = column_names\n",
    "spambase_data.head()\n"
   ]
  },
  {
   "cell_type": "markdown",
   "id": "0287a948",
   "metadata": {},
   "source": [
    "## Exploratory Data Analysis (EDA)"
   ]
  },
  {
   "cell_type": "code",
   "execution_count": 77,
   "id": "96de2dce",
   "metadata": {},
   "outputs": [
    {
     "data": {
      "application/vnd.microsoft.datawrangler.viewer.v0+json": {
       "columns": [
        {
         "name": "index",
         "rawType": "object",
         "type": "string"
        },
        {
         "name": "0",
         "rawType": "int64",
         "type": "integer"
        }
       ],
       "ref": "7765c2c3-8b26-4931-ae6d-f2424f9e41ce",
       "rows": [
        [
         "word_freq_make",
         "0"
        ],
        [
         "word_freq_address",
         "0"
        ],
        [
         "word_freq_all",
         "0"
        ],
        [
         "word_freq_3d",
         "0"
        ],
        [
         "word_freq_our",
         "0"
        ],
        [
         "word_freq_over",
         "0"
        ],
        [
         "word_freq_remove",
         "0"
        ],
        [
         "word_freq_internet",
         "0"
        ],
        [
         "word_freq_order",
         "0"
        ],
        [
         "word_freq_mail",
         "0"
        ],
        [
         "word_freq_receive",
         "0"
        ],
        [
         "word_freq_will",
         "0"
        ],
        [
         "word_freq_people",
         "0"
        ],
        [
         "word_freq_report",
         "0"
        ],
        [
         "word_freq_addresses",
         "0"
        ],
        [
         "word_freq_free",
         "0"
        ],
        [
         "word_freq_business",
         "0"
        ],
        [
         "word_freq_email",
         "0"
        ],
        [
         "word_freq_you",
         "0"
        ],
        [
         "word_freq_credit",
         "0"
        ],
        [
         "word_freq_your",
         "0"
        ],
        [
         "word_freq_font",
         "0"
        ],
        [
         "word_freq_000",
         "0"
        ],
        [
         "word_freq_money",
         "0"
        ],
        [
         "word_freq_hp",
         "0"
        ],
        [
         "word_freq_hpl",
         "0"
        ],
        [
         "word_freq_george",
         "0"
        ],
        [
         "word_freq_650",
         "0"
        ],
        [
         "word_freq_lab",
         "0"
        ],
        [
         "word_freq_labs",
         "0"
        ],
        [
         "word_freq_telnet",
         "0"
        ],
        [
         "word_freq_857",
         "0"
        ],
        [
         "word_freq_data",
         "0"
        ],
        [
         "word_freq_415",
         "0"
        ],
        [
         "word_freq_85",
         "0"
        ],
        [
         "word_freq_technology",
         "0"
        ],
        [
         "word_freq_1999",
         "0"
        ],
        [
         "word_freq_parts",
         "0"
        ],
        [
         "word_freq_pm",
         "0"
        ],
        [
         "word_freq_direct",
         "0"
        ],
        [
         "word_freq_cs",
         "0"
        ],
        [
         "word_freq_meeting",
         "0"
        ],
        [
         "word_freq_original",
         "0"
        ],
        [
         "word_freq_project",
         "0"
        ],
        [
         "word_freq_re",
         "0"
        ],
        [
         "word_freq_edu",
         "0"
        ],
        [
         "word_freq_table",
         "0"
        ],
        [
         "word_freq_conference",
         "0"
        ],
        [
         "char_freq_;",
         "0"
        ],
        [
         "char_freq_(",
         "0"
        ]
       ],
       "shape": {
        "columns": 1,
        "rows": 58
       }
      },
      "text/plain": [
       "word_freq_make                0\n",
       "word_freq_address             0\n",
       "word_freq_all                 0\n",
       "word_freq_3d                  0\n",
       "word_freq_our                 0\n",
       "word_freq_over                0\n",
       "word_freq_remove              0\n",
       "word_freq_internet            0\n",
       "word_freq_order               0\n",
       "word_freq_mail                0\n",
       "word_freq_receive             0\n",
       "word_freq_will                0\n",
       "word_freq_people              0\n",
       "word_freq_report              0\n",
       "word_freq_addresses           0\n",
       "word_freq_free                0\n",
       "word_freq_business            0\n",
       "word_freq_email               0\n",
       "word_freq_you                 0\n",
       "word_freq_credit              0\n",
       "word_freq_your                0\n",
       "word_freq_font                0\n",
       "word_freq_000                 0\n",
       "word_freq_money               0\n",
       "word_freq_hp                  0\n",
       "word_freq_hpl                 0\n",
       "word_freq_george              0\n",
       "word_freq_650                 0\n",
       "word_freq_lab                 0\n",
       "word_freq_labs                0\n",
       "word_freq_telnet              0\n",
       "word_freq_857                 0\n",
       "word_freq_data                0\n",
       "word_freq_415                 0\n",
       "word_freq_85                  0\n",
       "word_freq_technology          0\n",
       "word_freq_1999                0\n",
       "word_freq_parts               0\n",
       "word_freq_pm                  0\n",
       "word_freq_direct              0\n",
       "word_freq_cs                  0\n",
       "word_freq_meeting             0\n",
       "word_freq_original            0\n",
       "word_freq_project             0\n",
       "word_freq_re                  0\n",
       "word_freq_edu                 0\n",
       "word_freq_table               0\n",
       "word_freq_conference          0\n",
       "char_freq_;                   0\n",
       "char_freq_(                   0\n",
       "char_freq_sq_bracket          0\n",
       "char_freq_!                   0\n",
       "char_freq_$                   0\n",
       "char_freq_#                   0\n",
       "capital_run_length_average    0\n",
       "capital_run_length_longest    0\n",
       "capital_run_length_total      0\n",
       "spam                          0\n",
       "dtype: int64"
      ]
     },
     "execution_count": 77,
     "metadata": {},
     "output_type": "execute_result"
    }
   ],
   "source": [
    "# Check missingness\n",
    "spambase_data.isnull().sum()"
   ]
  },
  {
   "cell_type": "markdown",
   "id": "89fa98e6",
   "metadata": {},
   "source": [
    "No missingness found."
   ]
  },
  {
   "cell_type": "code",
   "execution_count": 78,
   "id": "42155481",
   "metadata": {},
   "outputs": [
    {
     "data": {
      "image/png": "[encoded data removed]",
      "text/plain": [
       "<Figure size 1200x1000 with 2 Axes>"
      ]
     },
     "metadata": {},
     "output_type": "display_data"
    },
    {
     "name": "stdout",
     "output_type": "stream",
     "text": [
      "`word_freq_857` is highly positively correlated with `word_freq_415` (1.00).\n",
      "`word_freq_857` is highly positively correlated with `word_freq_direct` (0.85).\n",
      "`word_freq_415` is highly positively correlated with `word_freq_direct` (0.85).\n",
      "`word_freq_telnet` is highly positively correlated with `word_freq_857` (0.74).\n",
      "`word_freq_telnet` is highly positively correlated with `word_freq_415` (0.74).\n",
      "`word_freq_857` is highly positively correlated with `word_freq_technology` (0.73).\n",
      "`word_freq_415` is highly positively correlated with `word_freq_technology` (0.73).\n",
      "`word_freq_telnet` is highly positively correlated with `word_freq_direct` (0.70).\n"
     ]
    }
   ],
   "source": [
    "# Create correlation matrix for numeric columns only\n",
    "corr_matrix = spambase_data.select_dtypes(include=[np.number]).corr()\n",
    "\n",
    "# Plot the correlation matrix\n",
    "plt.figure(figsize=(12, 10))\n",
    "mask = np.triu(np.ones_like(corr_matrix, dtype=bool)) \n",
    "cols = corr_matrix.columns\n",
    "ax = sns.heatmap(\n",
    "    corr_matrix,\n",
    "    mask=mask,\n",
    "    cmap='coolwarm',\n",
    "    vmin=-1, vmax=1,\n",
    "    center=0,\n",
    "    square=True,\n",
    "    linewidths=0.1,\n",
    "    cbar_kws={'shrink': 0.6}\n",
    ")\n",
    "ax.set_xticks(np.arange(len(cols)) + 0.5) # Ensure every tick/label is shown \n",
    "ax.set_yticks(np.arange(len(cols)) + 0.5)\n",
    "ax.set_xticklabels(cols, rotation=90, fontsize=6)\n",
    "ax.set_yticklabels(cols, rotation=0, fontsize=6)\n",
    "plt.tight_layout()\n",
    "plt.title('Correlation Matrix')\n",
    "plt.xticks(rotation=90, fontsize=6)\n",
    "plt.yticks(rotation=0, fontsize=6)\n",
    "plt.show()\n",
    "\n",
    "# Get the absolute correlation matrix and set diagonal to 0 to ignore self-correlation\n",
    "high_corr = corr_matrix.unstack().to_frame('correlation') # Unstack the correlation matrix\n",
    "high_corr['sign'] = np.where(high_corr['correlation'] >= 0, 'positive', 'negative') # Add a new column indicating if the correlation is positive or negative\n",
    "high_corr['correlation'] = high_corr['correlation'].abs().drop_duplicates()\n",
    "high_corr = high_corr[high_corr['correlation'] < 1]\n",
    "high_corr = high_corr.sort_values(by='correlation', ascending=False)\n",
    "for (var1, var2), row in high_corr.head(8).iterrows():\n",
    "    print(f\"`{var1}` is highly {row['sign']}ly correlated with `{var2}` ({row['correlation']:.2f}).\")\n"
   ]
  },
  {
   "cell_type": "markdown",
   "id": "a7637b3e",
   "metadata": {},
   "source": [
    "A few of the features appear to be correlated. E.g., the frequency of some of the numbers(assuming these are commmonly used area codes in spam messages) and the words \"direct\", \"telnet\", and \"technology\"."
   ]
  },
  {
   "cell_type": "code",
   "execution_count": 79,
   "id": "52245f24",
   "metadata": {},
   "outputs": [
    {
     "name": "stdout",
     "output_type": "stream",
     "text": [
      "There are 391 duplicate emails (8.5% of total)\n",
      "Number emails after dropping copies: 4,210\n",
      "Spam counts: Counter({0: 2531, 1: 1679}) (39.9%)\n"
     ]
    }
   ],
   "source": [
    "# Check duplicate rows\n",
    "df_duplicates = spambase_data[spambase_data.duplicated()]\n",
    "print(f\"There are {df_duplicates.shape[0]:,} duplicate emails ({100*round(df_duplicates.shape[0]/spambase_data.shape[0],3)}% of total)\")\n",
    "\n",
    "# Drop duplicate rows\n",
    "df_deduped = spambase_data.copy()\n",
    "df_deduped = df_deduped.drop_duplicates(keep='first')\n",
    "print(f\"Number emails after dropping copies: {df_deduped.shape[0]:,}\")\n",
    "print(\"Spam counts:\", Counter(df_deduped['spam']), \"({:.1f}%)\".format(100*Counter(df_deduped['spam'])[1]/df_deduped.shape[0]))\n"
   ]
  },
  {
   "cell_type": "markdown",
   "id": "f5d8abef",
   "metadata": {},
   "source": [
    "We found 391 duplicate entries, and it is unlikely that these emails would actually have all 58 features exactly the same. Therefore, we will drop these copies before training our models--they are likely erroneous."
   ]
  },
  {
   "cell_type": "markdown",
   "id": "23c5c287",
   "metadata": {},
   "source": [
    "## Splitting our data\n",
    "\n",
    "For our project, we'll split our data into a training and test dataset and balance the data so that there are equal numbers of spam and non-spam emails. We know there are 4,210 (unduplicated) observations in this data, 39.9% of which are spam. We split data into 265 emails for the test set, 265 emails for the dev-test set, and the remaining 3,680 emails for the training set."
   ]
  },
  {
   "cell_type": "code",
   "execution_count": 80,
   "id": "e05b6f4a",
   "metadata": {},
   "outputs": [
    {
     "name": "stdout",
     "output_type": "stream",
     "text": [
      "Distribution after Stratified Split:\n",
      "Training set size: 3680\n",
      "Training set counts: Counter({0: 2213, 1: 1467})\n",
      "Dev-test set size: 265\n",
      "Dev-test set counts: Counter({0: 159, 1: 106})\n",
      "Test set size: 265\n",
      "Test set counts: Counter({0: 159, 1: 106})\n",
      "\n",
      "Distribution after Balancing Training Set:\n",
      "Total balanced training samples: 2934\n",
      "New (Balanced) Training set counts: Counter({0: 1467, 1: 1467})\n"
     ]
    }
   ],
   "source": [
    "def split_data(df, verbose=True):\n",
    "    x = df.drop('spam', axis=1)\n",
    "    y = df['spam']\n",
    "\n",
    "    # Split into test (265), dev-test (265), and training (remaining)\n",
    "    x_temp, x_test, y_temp, y_test = train_test_split(\n",
    "        x, y, test_size=265, random_state=1, stratify=y    # Stratify to keep spam balance\n",
    "    )\n",
    "    x_train, x_devtest, y_train, y_devtest = train_test_split(\n",
    "        x_temp, y_temp, test_size=265, random_state=1, stratify=y_temp\n",
    "    )\n",
    "\n",
    "    # Print a summary of the split data (only if verbose=True)\n",
    "    if verbose:\n",
    "        print(\"Distribution after Stratified Split:\")\n",
    "        print(\"Training set size:\", len(y_train))\n",
    "        print(\"Training set counts:\", Counter(y_train))\n",
    "        print(\"Dev-test set size:\", len(y_devtest))\n",
    "        print(\"Dev-test set counts:\", Counter(y_devtest))\n",
    "        print(\"Test set size:\", len(y_test))\n",
    "        print(\"Test set counts:\", Counter(y_test))\n",
    "\n",
    "    rus = RandomUnderSampler(random_state=1)\n",
    "\n",
    "    # Apply the sampling only to the training set\n",
    "    x_train_resampled, y_train_resampled = rus.fit_resample(x_train, y_train)\n",
    "\n",
    "    # Print a summary of the final data (only if verbose=True)\n",
    "    if verbose:\n",
    "        print(\"\\nDistribution after Balancing Training Set:\")\n",
    "        print(f\"Total balanced training samples: {len(y_train_resampled)}\")\n",
    "        print(\"New (Balanced) Training set counts:\", Counter(y_train_resampled))\n",
    "    \n",
    "    # Return all three sets\n",
    "    return x_train_resampled, x_devtest, x_test, y_train_resampled, y_devtest, y_test\n",
    "\n",
    "x_train_resampled, x_devtest, x_test, y_train_resampled, y_devtest, y_test = split_data(df_deduped)"
   ]
  },
  {
   "cell_type": "markdown",
   "id": "cb03b8b0",
   "metadata": {},
   "source": [
    "## Building our models\n",
    "\n",
    "We'll try the following models:\n",
    "\n",
    "1. **XGBoost Classifier**: Robust to correlated predictors and noisy features and provides feature importance for easy interpretation.  \n",
    "2. **Random Forest Classifier**: Good for data with many features, some of which may be correlated.\n",
    "3. **Logistic Regression Classifier**: Good for binary classification (spam vs. non-spam).\n",
    "\n",
    "> Note: Since Naive Bayes assumes feature independence, and we have found some correlated features in our EDA, we will not be using Naive Bayes for this project."
   ]
  },
  {
   "cell_type": "code",
   "execution_count": 81,
   "id": "64119a2c",
   "metadata": {},
   "outputs": [],
   "source": [
    "from sklearn.multiclass import OneVsRestClassifier\n",
    "\n",
    "def train_classifiers(X_train, y_train):\n",
    "    # Initialize RF\n",
    "    forest = RandomForestClassifier(n_estimators=25, random_state=1, n_jobs=2)\n",
    "    \n",
    "    # Initialize XGBoost\n",
    "    xgboost = xgb.XGBClassifier(n_estimators=1000, learning_rate=0.01, max_depth=4, random_state=1)\n",
    "\n",
    "    # Initialize Logistic Regression\n",
    "    lr = OneVsRestClassifier(LogisticRegression(C=100.0, solver='lbfgs', max_iter=7000))\n",
    "\n",
    "    # Return trained classifiers\n",
    "    return(\n",
    "        {\n",
    "            'XGBoost': xgboost.fit(X_train, y_train),\n",
    "            'RF': forest.fit(X_train, y_train),\n",
    "            'LogReg': lr.fit(X_train, y_train)\n",
    "        }\n",
    "    )\n",
    "\n",
    "# Train classifiers on resampled training data\n",
    "first_round_bathroom_classifiers = train_classifiers(x_train_resampled, y_train_resampled)"
   ]
  },
  {
   "cell_type": "code",
   "execution_count": 82,
   "id": "80bf6f30",
   "metadata": {},
   "outputs": [
    {
     "name": "stdout",
     "output_type": "stream",
     "text": [
      "XGBoost Training Accuracy: 96.18269%\n",
      "XGBoost Dev-Test Accuracy: 95.84906%\n",
      "RF Training Accuracy: 99.86367%\n",
      "RF Dev-Test Accuracy: 95.84906%\n",
      "LogReg Training Accuracy: 92.80845%\n",
      "LogReg Dev-Test Accuracy: 92.45283%\n"
     ]
    }
   ],
   "source": [
    "for name, classifier in first_round_bathroom_classifiers.items():\n",
    "    # Accuracy on (resampled) training set\n",
    "    train_acc = accuracy_score(y_train_resampled, classifier.predict(x_train_resampled))\n",
    "    print(f\"{name} Training Accuracy: {train_acc * 100:.5f}%\")\n",
    "\n",
    "    # Accuracy on dev test set\n",
    "    dev_acc = accuracy_score(y_devtest, classifier.predict(x_devtest))\n",
    "    print(f\"{name} Dev-Test Accuracy: {dev_acc * 100:.5f}%\")"
   ]
  },
  {
   "cell_type": "markdown",
   "id": "3c8a991f",
   "metadata": {},
   "source": [
    "On the first round of models with our feature we find that the XGBoost and the Random Forest classifiers perform the best, both correctly classifying 95.8% of the dev-test emails. However, random forests appears to be overfitting the training data, with a training accuracy of 99.86%, so we prefer the XGBoost model, which has a more reasonable training accuracy of 96.2%.\n",
    "\n",
    "We visualize the feature importance from the XGBoost model below."
   ]
  },
  {
   "cell_type": "code",
   "execution_count": 89,
   "id": "ca77ae4c",
   "metadata": {},
   "outputs": [
    {
     "data": {
      "image/png": "[encoded data removed]",
      "text/plain": [
       "<Figure size 1000x1000 with 1 Axes>"
      ]
     },
     "metadata": {},
     "output_type": "display_data"
    }
   ],
   "source": [
    "# Feature importances\n",
    "importances = pd.Series(first_round_bathroom_classifiers['XGBoost'].feature_importances_, index=x_train_resampled.columns)\n",
    "importances = importances.sort_values(ascending=False)\n",
    "\n",
    "plt.figure(figsize=(10,10))\n",
    "sns.barplot(x=importances, y=importances.index)\n",
    "plt.title(\"Feature Importance in XGBoost\")\n",
    "plt.xlabel(\"Feature Importance\")\n",
    "plt.ylabel(\"Feature\")\n",
    "plt.show()"
   ]
  },
  {
   "cell_type": "markdown",
   "id": "a692eb1f",
   "metadata": {},
   "source": [
    "The most important features appear to be `char_freq_$`, `word_freq_remove`, and `word_freq_!`, which makes sense intuitively as these are common in spam emails trying to scam victims out of money or urging them to take action.\n",
    "\n",
    "The highly correlated features we found in our EDA (e.g., `word_freq_telnet`, `word_freq_857`, `word_freq_415`) do not appear to be very important in this model. This is likely because XGBoost is robust to correlated predictors, so it can select the most important features among correlated groups. "
   ]
  },
  {
   "cell_type": "markdown",
   "id": "478c805b",
   "metadata": {},
   "source": [
    "> END OF WORK SO FAR! TO BE CONTINUED..."
   ]
  },
  {
   "cell_type": "code",
   "execution_count": null,
   "id": "b2d70602",
   "metadata": {},
   "outputs": [
    {
     "name": "stdout",
     "output_type": "stream",
     "text": [
      "\n",
      "--- Results for Last Two Letters, First Letter, & Longest Consonant Chain (on DEV-TEST set) ---\n",
      "NaiveBayes Dev-Test Accuracy: 79.60%\n",
      "DecisionTree Dev-Test Accuracy: 34.20%\n",
      "MaxentClassifier Dev-Test Accuracy: 78.00%\n",
      "\n",
      "The best classifier is NaiveBayes with a dev-test accuracy of 79.60%\n",
      "\n",
      "Most Informative Features\n",
      "    get_two_last_letters = 'na'           female : male   =     90.6 : 1.0\n",
      "    get_two_last_letters = 'la'           female : male   =     69.0 : 1.0\n",
      "    get_two_last_letters = 'ia'           female : male   =     52.6 : 1.0\n",
      "    get_two_last_letters = 'us'             male : female =     36.3 : 1.0\n",
      "    get_two_last_letters = 'sa'           female : male   =     33.7 : 1.0\n",
      "    get_two_last_letters = 'ra'           female : male   =     23.6 : 1.0\n",
      "    get_two_last_letters = 'rd'             male : female =     23.0 : 1.0\n",
      "    get_two_last_letters = 'ta'           female : male   =     21.4 : 1.0\n",
      "    get_two_last_letters = 'ld'             male : female =     18.3 : 1.0\n",
      "    get_two_last_letters = 'do'             male : female =     16.3 : 1.0\n",
      "    get_two_last_letters = 'io'             male : female =     15.0 : 1.0\n",
      " longest_consonant_chain = 'rv'             male : female =     15.0 : 1.0\n",
      "    get_two_last_letters = 'ka'           female : male   =     12.3 : 1.0\n",
      "    get_two_last_letters = 'os'             male : female =     12.3 : 1.0\n",
      " longest_consonant_chain = 'rk'             male : female =     11.0 : 1.0\n",
      "    get_two_last_letters = 'im'             male : female =      9.7 : 1.0\n",
      " longest_consonant_chain = 'lt'             male : female =      9.0 : 1.0\n",
      "    get_two_last_letters = 'ch'             male : female =      9.0 : 1.0\n",
      " longest_consonant_chain = 'lyn'          female : male   =      8.6 : 1.0\n",
      "    get_two_last_letters = 'ee'           female : male   =      7.9 : 1.0\n"
     ]
    }
   ],
   "source": [
    "# We'll define a new function to just pass the dataframe and do all of the previous steps\n",
    "def dataframe_to_classifiers(df, training_cycle_name):\n",
    "    # Split the data (suppress verbose output)\n",
    "    x_train_resampled, x_devtest, x_test, y_train_resampled, y_devtest, y_test = split_data_for_nltk(df, verbose=False)\n",
    "    \n",
    "    # Convert to NLTK format\n",
    "    train_nltk_data = prepare_data_for_nltk(x_train_resampled, y_train_resampled)\n",
    "    devtest_nltk_data = prepare_data_for_nltk(x_devtest, y_devtest)\n",
    "    test_nltk_data = prepare_data_for_nltk(x_test, y_test)\n",
    "\n",
    "    # Train all three classifiers with the new features\n",
    "    classifiers = train_nltk_classifiers(train_nltk_data)\n",
    "    \n",
    "    print(f\"\\n--- Results for {training_cycle_name} (on DEV-TEST set) ---\")\n",
    "\n",
    "    best_classifier = None\n",
    "    best_classifier_name = None\n",
    "    best_accuracy = 0\n",
    "\n",
    "    # Evaluate each classifier on dev-test set\n",
    "    for name, classifier in classifiers.items():\n",
    "        accuracy = nltk.classify.accuracy(classifier, devtest_nltk_data)\n",
    "        print(f\"{name} Dev-Test Accuracy: {accuracy * 100:.2f}%\")\n",
    "        \n",
    "        if accuracy > best_accuracy:\n",
    "            best_classifier = classifier\n",
    "            best_classifier_name = name\n",
    "            best_accuracy = accuracy\n",
    "\n",
    "    print(f\"\\nThe best classifier is {best_classifier_name} with a dev-test accuracy of {best_accuracy * 100:.2f}%\\n\")\n",
    "    best_classifier.show_most_informative_features(20)\n",
    "    \n",
    "    # Return both dev-test and test sets (NLTK format) along with the chosen classifier.\n",
    "    # This avoids relying on global variables later and makes the evaluation explicit.\n",
    "    return devtest_nltk_data, test_nltk_data, best_classifier\n",
    "\n",
    "# Run iteration 3 with new features\n",
    "# Capture both dev-test and test NLTK datasets plus the chosen classifier so\n",
    "# final evaluation uses the exact splits produced during this run.\n",
    "devtest_data_final, test_data_final, best_classifier = dataframe_to_classifiers(\n",
    "    iteration_3_df,\n",
    "    \"Last Two Letters, First Letter, & Longest Consonant Chain\"\n",
    ")\n"
   ]
  },
  {
   "cell_type": "markdown",
   "id": "1abaa8be",
   "metadata": {},
   "source": [
    "The Naive Bayes Classifier remains the best model choice, performing slightly better than our first model with a minor improvement in accuracy from correctly predicting 75.2% of genders in the test set to 79.6%. The last 2 letters remain the most informative feature in the data, but we can now see that consonant runs like \"rv\", \"rk\", and \"lt\" are important for predicting male names, and \"lyn\" can help predict female names.\n",
    "\n",
    "## Final Evaluation on Test Set\n",
    "\n",
    "Now that we're satisfied with our best model from the two dev test iterations, we evaluate it on the held-out test set to get a final estimate of \"real-world\" performance."
   ]
  },
  {
   "cell_type": "code",
   "execution_count": null,
   "id": "2f64fa48",
   "metadata": {},
   "outputs": [
    {
     "name": "stdout",
     "output_type": "stream",
     "text": [
      "\n",
      "Dev-Test Accuracy: 79.60%\n",
      "Test Accuracy: 77.40%\n",
      "\n",
      "Difference (Test - Dev-Test): -2.20 percentage points\n"
     ]
    }
   ],
   "source": [
    "# Final evaluation on the test set\n",
    "# Accuracy based on dev-test set (same what's reported above)\n",
    "# Use the dev/test NLTK datasets returned from the classifier function to avoid\n",
    "# accidentally referencing older global variables.\n",
    "devtest_accuracy = nltk.classify.accuracy(best_classifier, devtest_data_final)\n",
    "print(f\"\\nDev-Test Accuracy: {devtest_accuracy * 100:.2f}%\")\n",
    "\n",
    "# Accuracy based on test set\n",
    "test_accuracy = nltk.classify.accuracy(best_classifier, test_nltk_data)\n",
    "print(f\"Test Accuracy: {test_accuracy * 100:.2f}%\")\n",
    "\n",
    "# Compare the two\n",
    "difference = test_accuracy - devtest_accuracy\n",
    "print(f\"\\nDifference (Test - Dev-Test): {difference * 100:.2f} percentage points\")\n"
   ]
  },
  {
   "cell_type": "markdown",
   "id": "5d45746b",
   "metadata": {},
   "source": [
    "The dev-test and test accuracy are similar--within 2 percentage points of eachother--indicating that our model generalizes well and is not overfitted. This is in line with our expectations."
   ]
  },
  {
   "cell_type": "markdown",
   "id": "85897668",
   "metadata": {},
   "source": [
    "## References\n",
    "\n",
    "Hopkins, M., Reeber, E., Forman, G., & Suermondt, J. (1999). Spambase [Dataset]. UCI Machine Learning Repository. https://doi.org/10.24432/C53G6X."
   ]
  }
 ],
 "metadata": {
  "kernelspec": {
   "display_name": "base",
   "language": "python",
   "name": "python3"
  },
  "language_info": {
   "codemirror_mode": {
    "name": "ipython",
    "version": 3
   },
   "file_extension": ".py",
   "mimetype": "text/x-python",
   "name": "python",
   "nbconvert_exporter": "python",
   "pygments_lexer": "ipython3",
   "version": "3.13.5"
  }
 },
 "nbformat": 4,
 "nbformat_minor": 5
}
