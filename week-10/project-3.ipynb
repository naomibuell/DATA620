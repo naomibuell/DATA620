{
 "cells": [
  {
   "cell_type": "markdown",
   "id": "57d0d02f",
   "metadata": {},
   "source": [
    "# Week Ten - Assignment: Document Classification\n",
    " \n",
    "## *Instructions*\n",
    "\n",
    "*It can be useful to be able to classify new \"test\" documents using already classified \"training\" documents.  A common example is using a corpus of labeled spam and ham (non-spam) e-mails to predict whether or not a new document is spam.  Here is one example of such data:  [UCI Machine Learning Repository: Spambase Data Set](http://archive.ics.uci.edu/ml/datasets/Spambase).*\n",
    "\n",
    "*For this project, you can either use the above dataset to predict the class of new documents (either withheld from the training dataset or from another source such as your own spam folder).*\n",
    "\n",
    "*For more adventurous students, you are welcome (encouraged!) to come up a different set of documents (including scraped web pages!?) that have already been classified (e.g. tagged), then analyze these documents to predict how new documents should be classified.*"
   ]
  },
  {
   "cell_type": "markdown",
   "id": "8299facc",
   "metadata": {},
   "source": [
    "## Import the Spambase Dataset"
   ]
  },
  {
   "cell_type": "code",
   "execution_count": null,
   "id": "4c4d8fec",
   "metadata": {},
   "outputs": [],
   "source": [
    "# Load libraries\n",
    "import nltk\n",
    "import pandas as pd\n",
    "import seaborn as sns\n",
    "import matplotlib.pyplot as plt\n",
    "from sklearn.model_selection import train_test_split\n",
    "from imblearn.under_sampling import RandomUnderSampler\n",
    "from collections import Counter\n",
    "import pandas as pd\n",
    "import matplotlib.pyplot as plt\n",
    "from sklearn.preprocessing import RobustScaler\n",
    "from sklearn.linear_model import LogisticRegression\n",
    "from sklearn.decomposition import PCA\n",
    "from sklearn.model_selection import train_test_split\n",
    "import seaborn as sns\n",
    "import numpy as np\n",
    "import zipfile\n",
    "import io\n",
    "import requests\n",
    "from imblearn.under_sampling import RandomUnderSampler"
   ]
  },
  {
   "cell_type": "code",
   "execution_count": 3,
   "id": "bd135698",
   "metadata": {},
   "outputs": [
    {
     "data": {
      "application/vnd.microsoft.datawrangler.viewer.v0+json": {
       "columns": [
        {
         "name": "index",
         "rawType": "int64",
         "type": "integer"
        },
        {
         "name": "0",
         "rawType": "float64",
         "type": "float"
        },
        {
         "name": "1",
         "rawType": "float64",
         "type": "float"
        },
        {
         "name": "2",
         "rawType": "float64",
         "type": "float"
        },
        {
         "name": "3",
         "rawType": "float64",
         "type": "float"
        },
        {
         "name": "4",
         "rawType": "float64",
         "type": "float"
        },
        {
         "name": "5",
         "rawType": "float64",
         "type": "float"
        },
        {
         "name": "6",
         "rawType": "float64",
         "type": "float"
        },
        {
         "name": "7",
         "rawType": "float64",
         "type": "float"
        },
        {
         "name": "8",
         "rawType": "float64",
         "type": "float"
        },
        {
         "name": "9",
         "rawType": "float64",
         "type": "float"
        },
        {
         "name": "10",
         "rawType": "float64",
         "type": "float"
        },
        {
         "name": "11",
         "rawType": "float64",
         "type": "float"
        },
        {
         "name": "12",
         "rawType": "float64",
         "type": "float"
        },
        {
         "name": "13",
         "rawType": "float64",
         "type": "float"
        },
        {
         "name": "14",
         "rawType": "float64",
         "type": "float"
        },
        {
         "name": "15",
         "rawType": "float64",
         "type": "float"
        },
        {
         "name": "16",
         "rawType": "float64",
         "type": "float"
        },
        {
         "name": "17",
         "rawType": "float64",
         "type": "float"
        },
        {
         "name": "18",
         "rawType": "float64",
         "type": "float"
        },
        {
         "name": "19",
         "rawType": "float64",
         "type": "float"
        },
        {
         "name": "20",
         "rawType": "float64",
         "type": "float"
        },
        {
         "name": "21",
         "rawType": "float64",
         "type": "float"
        },
        {
         "name": "22",
         "rawType": "float64",
         "type": "float"
        },
        {
         "name": "23",
         "rawType": "float64",
         "type": "float"
        },
        {
         "name": "24",
         "rawType": "float64",
         "type": "float"
        },
        {
         "name": "25",
         "rawType": "float64",
         "type": "float"
        },
        {
         "name": "26",
         "rawType": "float64",
         "type": "float"
        },
        {
         "name": "27",
         "rawType": "float64",
         "type": "float"
        },
        {
         "name": "28",
         "rawType": "float64",
         "type": "float"
        },
        {
         "name": "29",
         "rawType": "float64",
         "type": "float"
        },
        {
         "name": "30",
         "rawType": "float64",
         "type": "float"
        },
        {
         "name": "31",
         "rawType": "float64",
         "type": "float"
        },
        {
         "name": "32",
         "rawType": "float64",
         "type": "float"
        },
        {
         "name": "33",
         "rawType": "float64",
         "type": "float"
        },
        {
         "name": "34",
         "rawType": "float64",
         "type": "float"
        },
        {
         "name": "35",
         "rawType": "float64",
         "type": "float"
        },
        {
         "name": "36",
         "rawType": "float64",
         "type": "float"
        },
        {
         "name": "37",
         "rawType": "float64",
         "type": "float"
        },
        {
         "name": "38",
         "rawType": "float64",
         "type": "float"
        },
        {
         "name": "39",
         "rawType": "float64",
         "type": "float"
        },
        {
         "name": "40",
         "rawType": "float64",
         "type": "float"
        },
        {
         "name": "41",
         "rawType": "float64",
         "type": "float"
        },
        {
         "name": "42",
         "rawType": "float64",
         "type": "float"
        },
        {
         "name": "43",
         "rawType": "float64",
         "type": "float"
        },
        {
         "name": "44",
         "rawType": "float64",
         "type": "float"
        },
        {
         "name": "45",
         "rawType": "float64",
         "type": "float"
        },
        {
         "name": "46",
         "rawType": "float64",
         "type": "float"
        },
        {
         "name": "47",
         "rawType": "float64",
         "type": "float"
        },
        {
         "name": "48",
         "rawType": "float64",
         "type": "float"
        },
        {
         "name": "49",
         "rawType": "float64",
         "type": "float"
        },
        {
         "name": "50",
         "rawType": "float64",
         "type": "float"
        },
        {
         "name": "51",
         "rawType": "float64",
         "type": "float"
        },
        {
         "name": "52",
         "rawType": "float64",
         "type": "float"
        },
        {
         "name": "53",
         "rawType": "float64",
         "type": "float"
        },
        {
         "name": "54",
         "rawType": "float64",
         "type": "float"
        },
        {
         "name": "55",
         "rawType": "int64",
         "type": "integer"
        },
        {
         "name": "56",
         "rawType": "int64",
         "type": "integer"
        },
        {
         "name": "57",
         "rawType": "int64",
         "type": "integer"
        }
       ],
       "ref": "f90478ae-79d2-45c1-8386-f33c94499ae0",
       "rows": [
        [
         "0",
         "0.0",
         "0.64",
         "0.64",
         "0.0",
         "0.32",
         "0.0",
         "0.0",
         "0.0",
         "0.0",
         "0.0",
         "0.0",
         "0.64",
         "0.0",
         "0.0",
         "0.0",
         "0.32",
         "0.0",
         "1.29",
         "1.93",
         "0.0",
         "0.96",
         "0.0",
         "0.0",
         "0.0",
         "0.0",
         "0.0",
         "0.0",
         "0.0",
         "0.0",
         "0.0",
         "0.0",
         "0.0",
         "0.0",
         "0.0",
         "0.0",
         "0.0",
         "0.0",
         "0.0",
         "0.0",
         "0.0",
         "0.0",
         "0.0",
         "0.0",
         "0.0",
         "0.0",
         "0.0",
         "0.0",
         "0.0",
         "0.0",
         "0.0",
         "0.0",
         "0.778",
         "0.0",
         "0.0",
         "3.756",
         "61",
         "278",
         "1"
        ],
        [
         "1",
         "0.21",
         "0.28",
         "0.5",
         "0.0",
         "0.14",
         "0.28",
         "0.21",
         "0.07",
         "0.0",
         "0.94",
         "0.21",
         "0.79",
         "0.65",
         "0.21",
         "0.14",
         "0.14",
         "0.07",
         "0.28",
         "3.47",
         "0.0",
         "1.59",
         "0.0",
         "0.43",
         "0.43",
         "0.0",
         "0.0",
         "0.0",
         "0.0",
         "0.0",
         "0.0",
         "0.0",
         "0.0",
         "0.0",
         "0.0",
         "0.0",
         "0.0",
         "0.07",
         "0.0",
         "0.0",
         "0.0",
         "0.0",
         "0.0",
         "0.0",
         "0.0",
         "0.0",
         "0.0",
         "0.0",
         "0.0",
         "0.0",
         "0.132",
         "0.0",
         "0.372",
         "0.18",
         "0.048",
         "5.114",
         "101",
         "1028",
         "1"
        ],
        [
         "2",
         "0.06",
         "0.0",
         "0.71",
         "0.0",
         "1.23",
         "0.19",
         "0.19",
         "0.12",
         "0.64",
         "0.25",
         "0.38",
         "0.45",
         "0.12",
         "0.0",
         "1.75",
         "0.06",
         "0.06",
         "1.03",
         "1.36",
         "0.32",
         "0.51",
         "0.0",
         "1.16",
         "0.06",
         "0.0",
         "0.0",
         "0.0",
         "0.0",
         "0.0",
         "0.0",
         "0.0",
         "0.0",
         "0.0",
         "0.0",
         "0.0",
         "0.0",
         "0.0",
         "0.0",
         "0.0",
         "0.06",
         "0.0",
         "0.0",
         "0.12",
         "0.0",
         "0.06",
         "0.06",
         "0.0",
         "0.0",
         "0.01",
         "0.143",
         "0.0",
         "0.276",
         "0.184",
         "0.01",
         "9.821",
         "485",
         "2259",
         "1"
        ],
        [
         "3",
         "0.0",
         "0.0",
         "0.0",
         "0.0",
         "0.63",
         "0.0",
         "0.31",
         "0.63",
         "0.31",
         "0.63",
         "0.31",
         "0.31",
         "0.31",
         "0.0",
         "0.0",
         "0.31",
         "0.0",
         "0.0",
         "3.18",
         "0.0",
         "0.31",
         "0.0",
         "0.0",
         "0.0",
         "0.0",
         "0.0",
         "0.0",
         "0.0",
         "0.0",
         "0.0",
         "0.0",
         "0.0",
         "0.0",
         "0.0",
         "0.0",
         "0.0",
         "0.0",
         "0.0",
         "0.0",
         "0.0",
         "0.0",
         "0.0",
         "0.0",
         "0.0",
         "0.0",
         "0.0",
         "0.0",
         "0.0",
         "0.0",
         "0.137",
         "0.0",
         "0.137",
         "0.0",
         "0.0",
         "3.537",
         "40",
         "191",
         "1"
        ],
        [
         "4",
         "0.0",
         "0.0",
         "0.0",
         "0.0",
         "0.63",
         "0.0",
         "0.31",
         "0.63",
         "0.31",
         "0.63",
         "0.31",
         "0.31",
         "0.31",
         "0.0",
         "0.0",
         "0.31",
         "0.0",
         "0.0",
         "3.18",
         "0.0",
         "0.31",
         "0.0",
         "0.0",
         "0.0",
         "0.0",
         "0.0",
         "0.0",
         "0.0",
         "0.0",
         "0.0",
         "0.0",
         "0.0",
         "0.0",
         "0.0",
         "0.0",
         "0.0",
         "0.0",
         "0.0",
         "0.0",
         "0.0",
         "0.0",
         "0.0",
         "0.0",
         "0.0",
         "0.0",
         "0.0",
         "0.0",
         "0.0",
         "0.0",
         "0.135",
         "0.0",
         "0.135",
         "0.0",
         "0.0",
         "3.537",
         "40",
         "191",
         "1"
        ]
       ],
       "shape": {
        "columns": 58,
        "rows": 5
       }
      },
      "text/html": [
       "<div>\n",
       "<style scoped>\n",
       "    .dataframe tbody tr th:only-of-type {\n",
       "        vertical-align: middle;\n",
       "    }\n",
       "\n",
       "    .dataframe tbody tr th {\n",
       "        vertical-align: top;\n",
       "    }\n",
       "\n",
       "    .dataframe thead th {\n",
       "        text-align: right;\n",
       "    }\n",
       "</style>\n",
       "<table border=\"1\" class=\"dataframe\">\n",
       "  <thead>\n",
       "    <tr style=\"text-align: right;\">\n",
       "      <th></th>\n",
       "      <th>0</th>\n",
       "      <th>1</th>\n",
       "      <th>2</th>\n",
       "      <th>3</th>\n",
       "      <th>4</th>\n",
       "      <th>5</th>\n",
       "      <th>6</th>\n",
       "      <th>7</th>\n",
       "      <th>8</th>\n",
       "      <th>9</th>\n",
       "      <th>...</th>\n",
       "      <th>48</th>\n",
       "      <th>49</th>\n",
       "      <th>50</th>\n",
       "      <th>51</th>\n",
       "      <th>52</th>\n",
       "      <th>53</th>\n",
       "      <th>54</th>\n",
       "      <th>55</th>\n",
       "      <th>56</th>\n",
       "      <th>57</th>\n",
       "    </tr>\n",
       "  </thead>\n",
       "  <tbody>\n",
       "    <tr>\n",
       "      <th>0</th>\n",
       "      <td>0.00</td>\n",
       "      <td>0.64</td>\n",
       "      <td>0.64</td>\n",
       "      <td>0.0</td>\n",
       "      <td>0.32</td>\n",
       "      <td>0.00</td>\n",
       "      <td>0.00</td>\n",
       "      <td>0.00</td>\n",
       "      <td>0.00</td>\n",
       "      <td>0.00</td>\n",
       "      <td>...</td>\n",
       "      <td>0.00</td>\n",
       "      <td>0.000</td>\n",
       "      <td>0.0</td>\n",
       "      <td>0.778</td>\n",
       "      <td>0.000</td>\n",
       "      <td>0.000</td>\n",
       "      <td>3.756</td>\n",
       "      <td>61</td>\n",
       "      <td>278</td>\n",
       "      <td>1</td>\n",
       "    </tr>\n",
       "    <tr>\n",
       "      <th>1</th>\n",
       "      <td>0.21</td>\n",
       "      <td>0.28</td>\n",
       "      <td>0.50</td>\n",
       "      <td>0.0</td>\n",
       "      <td>0.14</td>\n",
       "      <td>0.28</td>\n",
       "      <td>0.21</td>\n",
       "      <td>0.07</td>\n",
       "      <td>0.00</td>\n",
       "      <td>0.94</td>\n",
       "      <td>...</td>\n",
       "      <td>0.00</td>\n",
       "      <td>0.132</td>\n",
       "      <td>0.0</td>\n",
       "      <td>0.372</td>\n",
       "      <td>0.180</td>\n",
       "      <td>0.048</td>\n",
       "      <td>5.114</td>\n",
       "      <td>101</td>\n",
       "      <td>1028</td>\n",
       "      <td>1</td>\n",
       "    </tr>\n",
       "    <tr>\n",
       "      <th>2</th>\n",
       "      <td>0.06</td>\n",
       "      <td>0.00</td>\n",
       "      <td>0.71</td>\n",
       "      <td>0.0</td>\n",
       "      <td>1.23</td>\n",
       "      <td>0.19</td>\n",
       "      <td>0.19</td>\n",
       "      <td>0.12</td>\n",
       "      <td>0.64</td>\n",
       "      <td>0.25</td>\n",
       "      <td>...</td>\n",
       "      <td>0.01</td>\n",
       "      <td>0.143</td>\n",
       "      <td>0.0</td>\n",
       "      <td>0.276</td>\n",
       "      <td>0.184</td>\n",
       "      <td>0.010</td>\n",
       "      <td>9.821</td>\n",
       "      <td>485</td>\n",
       "      <td>2259</td>\n",
       "      <td>1</td>\n",
       "    </tr>\n",
       "    <tr>\n",
       "      <th>3</th>\n",
       "      <td>0.00</td>\n",
       "      <td>0.00</td>\n",
       "      <td>0.00</td>\n",
       "      <td>0.0</td>\n",
       "      <td>0.63</td>\n",
       "      <td>0.00</td>\n",
       "      <td>0.31</td>\n",
       "      <td>0.63</td>\n",
       "      <td>0.31</td>\n",
       "      <td>0.63</td>\n",
       "      <td>...</td>\n",
       "      <td>0.00</td>\n",
       "      <td>0.137</td>\n",
       "      <td>0.0</td>\n",
       "      <td>0.137</td>\n",
       "      <td>0.000</td>\n",
       "      <td>0.000</td>\n",
       "      <td>3.537</td>\n",
       "      <td>40</td>\n",
       "      <td>191</td>\n",
       "      <td>1</td>\n",
       "    </tr>\n",
       "    <tr>\n",
       "      <th>4</th>\n",
       "      <td>0.00</td>\n",
       "      <td>0.00</td>\n",
       "      <td>0.00</td>\n",
       "      <td>0.0</td>\n",
       "      <td>0.63</td>\n",
       "      <td>0.00</td>\n",
       "      <td>0.31</td>\n",
       "      <td>0.63</td>\n",
       "      <td>0.31</td>\n",
       "      <td>0.63</td>\n",
       "      <td>...</td>\n",
       "      <td>0.00</td>\n",
       "      <td>0.135</td>\n",
       "      <td>0.0</td>\n",
       "      <td>0.135</td>\n",
       "      <td>0.000</td>\n",
       "      <td>0.000</td>\n",
       "      <td>3.537</td>\n",
       "      <td>40</td>\n",
       "      <td>191</td>\n",
       "      <td>1</td>\n",
       "    </tr>\n",
       "  </tbody>\n",
       "</table>\n",
       "<p>5 rows × 58 columns</p>\n",
       "</div>"
      ],
      "text/plain": [
       "     0     1     2    3     4     5     6     7     8     9   ...    48  \\\n",
       "0  0.00  0.64  0.64  0.0  0.32  0.00  0.00  0.00  0.00  0.00  ...  0.00   \n",
       "1  0.21  0.28  0.50  0.0  0.14  0.28  0.21  0.07  0.00  0.94  ...  0.00   \n",
       "2  0.06  0.00  0.71  0.0  1.23  0.19  0.19  0.12  0.64  0.25  ...  0.01   \n",
       "3  0.00  0.00  0.00  0.0  0.63  0.00  0.31  0.63  0.31  0.63  ...  0.00   \n",
       "4  0.00  0.00  0.00  0.0  0.63  0.00  0.31  0.63  0.31  0.63  ...  0.00   \n",
       "\n",
       "      49   50     51     52     53     54   55    56  57  \n",
       "0  0.000  0.0  0.778  0.000  0.000  3.756   61   278   1  \n",
       "1  0.132  0.0  0.372  0.180  0.048  5.114  101  1028   1  \n",
       "2  0.143  0.0  0.276  0.184  0.010  9.821  485  2259   1  \n",
       "3  0.137  0.0  0.137  0.000  0.000  3.537   40   191   1  \n",
       "4  0.135  0.0  0.135  0.000  0.000  3.537   40   191   1  \n",
       "\n",
       "[5 rows x 58 columns]"
      ]
     },
     "execution_count": 3,
     "metadata": {},
     "output_type": "execute_result"
    }
   ],
   "source": [
    "# Download the zip file from the internet\n",
    "url = \"https://archive.ics.uci.edu/static/public/94/spambase.zip\"\n",
    "response = requests.get(url)\n",
    "\n",
    "# Extract spambase.zip from the downloaded zip\n",
    "with zipfile.ZipFile(io.BytesIO(response.content)) as z:\n",
    "    # Extract spambase.data from spambase.zip\n",
    "    with z.open('spambase.data') as csvfile:\n",
    "        spambase_data = pd.read_csv(csvfile, sep=',', header=None)\n",
    "        \n",
    "spambase_data.head()"
   ]
  },
  {
   "cell_type": "code",
   "execution_count": 9,
   "id": "2336af76",
   "metadata": {},
   "outputs": [
    {
     "data": {
      "application/vnd.microsoft.datawrangler.viewer.v0+json": {
       "columns": [
        {
         "name": "index",
         "rawType": "int64",
         "type": "integer"
        },
        {
         "name": "word_freq_make",
         "rawType": "float64",
         "type": "float"
        },
        {
         "name": "word_freq_address",
         "rawType": "float64",
         "type": "float"
        },
        {
         "name": "word_freq_all",
         "rawType": "float64",
         "type": "float"
        },
        {
         "name": "word_freq_3d",
         "rawType": "float64",
         "type": "float"
        },
        {
         "name": "word_freq_our",
         "rawType": "float64",
         "type": "float"
        },
        {
         "name": "word_freq_over",
         "rawType": "float64",
         "type": "float"
        },
        {
         "name": "word_freq_remove",
         "rawType": "float64",
         "type": "float"
        },
        {
         "name": "word_freq_internet",
         "rawType": "float64",
         "type": "float"
        },
        {
         "name": "word_freq_order",
         "rawType": "float64",
         "type": "float"
        },
        {
         "name": "word_freq_mail",
         "rawType": "float64",
         "type": "float"
        },
        {
         "name": "word_freq_receive",
         "rawType": "float64",
         "type": "float"
        },
        {
         "name": "word_freq_will",
         "rawType": "float64",
         "type": "float"
        },
        {
         "name": "word_freq_people",
         "rawType": "float64",
         "type": "float"
        },
        {
         "name": "word_freq_report",
         "rawType": "float64",
         "type": "float"
        },
        {
         "name": "word_freq_addresses",
         "rawType": "float64",
         "type": "float"
        },
        {
         "name": "word_freq_free",
         "rawType": "float64",
         "type": "float"
        },
        {
         "name": "word_freq_business",
         "rawType": "float64",
         "type": "float"
        },
        {
         "name": "word_freq_email",
         "rawType": "float64",
         "type": "float"
        },
        {
         "name": "word_freq_you",
         "rawType": "float64",
         "type": "float"
        },
        {
         "name": "word_freq_credit",
         "rawType": "float64",
         "type": "float"
        },
        {
         "name": "word_freq_your",
         "rawType": "float64",
         "type": "float"
        },
        {
         "name": "word_freq_font",
         "rawType": "float64",
         "type": "float"
        },
        {
         "name": "word_freq_000",
         "rawType": "float64",
         "type": "float"
        },
        {
         "name": "word_freq_money",
         "rawType": "float64",
         "type": "float"
        },
        {
         "name": "word_freq_hp",
         "rawType": "float64",
         "type": "float"
        },
        {
         "name": "word_freq_hpl",
         "rawType": "float64",
         "type": "float"
        },
        {
         "name": "word_freq_george",
         "rawType": "float64",
         "type": "float"
        },
        {
         "name": "word_freq_650",
         "rawType": "float64",
         "type": "float"
        },
        {
         "name": "word_freq_lab",
         "rawType": "float64",
         "type": "float"
        },
        {
         "name": "word_freq_labs",
         "rawType": "float64",
         "type": "float"
        },
        {
         "name": "word_freq_telnet",
         "rawType": "float64",
         "type": "float"
        },
        {
         "name": "word_freq_857",
         "rawType": "float64",
         "type": "float"
        },
        {
         "name": "word_freq_data",
         "rawType": "float64",
         "type": "float"
        },
        {
         "name": "word_freq_415",
         "rawType": "float64",
         "type": "float"
        },
        {
         "name": "word_freq_85",
         "rawType": "float64",
         "type": "float"
        },
        {
         "name": "word_freq_technology",
         "rawType": "float64",
         "type": "float"
        },
        {
         "name": "word_freq_1999",
         "rawType": "float64",
         "type": "float"
        },
        {
         "name": "word_freq_parts",
         "rawType": "float64",
         "type": "float"
        },
        {
         "name": "word_freq_pm",
         "rawType": "float64",
         "type": "float"
        },
        {
         "name": "word_freq_direct",
         "rawType": "float64",
         "type": "float"
        },
        {
         "name": "word_freq_cs",
         "rawType": "float64",
         "type": "float"
        },
        {
         "name": "word_freq_meeting",
         "rawType": "float64",
         "type": "float"
        },
        {
         "name": "word_freq_original",
         "rawType": "float64",
         "type": "float"
        },
        {
         "name": "word_freq_project",
         "rawType": "float64",
         "type": "float"
        },
        {
         "name": "word_freq_re",
         "rawType": "float64",
         "type": "float"
        },
        {
         "name": "word_freq_edu",
         "rawType": "float64",
         "type": "float"
        },
        {
         "name": "word_freq_table",
         "rawType": "float64",
         "type": "float"
        },
        {
         "name": "word_freq_conference",
         "rawType": "float64",
         "type": "float"
        },
        {
         "name": "char_freq_;",
         "rawType": "float64",
         "type": "float"
        },
        {
         "name": "char_freq_(",
         "rawType": "float64",
         "type": "float"
        },
        {
         "name": "char_freq_[",
         "rawType": "float64",
         "type": "float"
        },
        {
         "name": "char_freq_!",
         "rawType": "float64",
         "type": "float"
        },
        {
         "name": "char_freq_$",
         "rawType": "float64",
         "type": "float"
        },
        {
         "name": "char_freq_#",
         "rawType": "float64",
         "type": "float"
        },
        {
         "name": "capital_run_length_average",
         "rawType": "float64",
         "type": "float"
        },
        {
         "name": "capital_run_length_longest",
         "rawType": "int64",
         "type": "integer"
        },
        {
         "name": "capital_run_length_total",
         "rawType": "int64",
         "type": "integer"
        },
        {
         "name": "spam",
         "rawType": "int64",
         "type": "integer"
        }
       ],
       "ref": "57c18809-08a2-4070-bccf-58ceacfc6247",
       "rows": [
        [
         "0",
         "0.0",
         "0.64",
         "0.64",
         "0.0",
         "0.32",
         "0.0",
         "0.0",
         "0.0",
         "0.0",
         "0.0",
         "0.0",
         "0.64",
         "0.0",
         "0.0",
         "0.0",
         "0.32",
         "0.0",
         "1.29",
         "1.93",
         "0.0",
         "0.96",
         "0.0",
         "0.0",
         "0.0",
         "0.0",
         "0.0",
         "0.0",
         "0.0",
         "0.0",
         "0.0",
         "0.0",
         "0.0",
         "0.0",
         "0.0",
         "0.0",
         "0.0",
         "0.0",
         "0.0",
         "0.0",
         "0.0",
         "0.0",
         "0.0",
         "0.0",
         "0.0",
         "0.0",
         "0.0",
         "0.0",
         "0.0",
         "0.0",
         "0.0",
         "0.0",
         "0.778",
         "0.0",
         "0.0",
         "3.756",
         "61",
         "278",
         "1"
        ],
        [
         "1",
         "0.21",
         "0.28",
         "0.5",
         "0.0",
         "0.14",
         "0.28",
         "0.21",
         "0.07",
         "0.0",
         "0.94",
         "0.21",
         "0.79",
         "0.65",
         "0.21",
         "0.14",
         "0.14",
         "0.07",
         "0.28",
         "3.47",
         "0.0",
         "1.59",
         "0.0",
         "0.43",
         "0.43",
         "0.0",
         "0.0",
         "0.0",
         "0.0",
         "0.0",
         "0.0",
         "0.0",
         "0.0",
         "0.0",
         "0.0",
         "0.0",
         "0.0",
         "0.07",
         "0.0",
         "0.0",
         "0.0",
         "0.0",
         "0.0",
         "0.0",
         "0.0",
         "0.0",
         "0.0",
         "0.0",
         "0.0",
         "0.0",
         "0.132",
         "0.0",
         "0.372",
         "0.18",
         "0.048",
         "5.114",
         "101",
         "1028",
         "1"
        ],
        [
         "2",
         "0.06",
         "0.0",
         "0.71",
         "0.0",
         "1.23",
         "0.19",
         "0.19",
         "0.12",
         "0.64",
         "0.25",
         "0.38",
         "0.45",
         "0.12",
         "0.0",
         "1.75",
         "0.06",
         "0.06",
         "1.03",
         "1.36",
         "0.32",
         "0.51",
         "0.0",
         "1.16",
         "0.06",
         "0.0",
         "0.0",
         "0.0",
         "0.0",
         "0.0",
         "0.0",
         "0.0",
         "0.0",
         "0.0",
         "0.0",
         "0.0",
         "0.0",
         "0.0",
         "0.0",
         "0.0",
         "0.06",
         "0.0",
         "0.0",
         "0.12",
         "0.0",
         "0.06",
         "0.06",
         "0.0",
         "0.0",
         "0.01",
         "0.143",
         "0.0",
         "0.276",
         "0.184",
         "0.01",
         "9.821",
         "485",
         "2259",
         "1"
        ],
        [
         "3",
         "0.0",
         "0.0",
         "0.0",
         "0.0",
         "0.63",
         "0.0",
         "0.31",
         "0.63",
         "0.31",
         "0.63",
         "0.31",
         "0.31",
         "0.31",
         "0.0",
         "0.0",
         "0.31",
         "0.0",
         "0.0",
         "3.18",
         "0.0",
         "0.31",
         "0.0",
         "0.0",
         "0.0",
         "0.0",
         "0.0",
         "0.0",
         "0.0",
         "0.0",
         "0.0",
         "0.0",
         "0.0",
         "0.0",
         "0.0",
         "0.0",
         "0.0",
         "0.0",
         "0.0",
         "0.0",
         "0.0",
         "0.0",
         "0.0",
         "0.0",
         "0.0",
         "0.0",
         "0.0",
         "0.0",
         "0.0",
         "0.0",
         "0.137",
         "0.0",
         "0.137",
         "0.0",
         "0.0",
         "3.537",
         "40",
         "191",
         "1"
        ],
        [
         "4",
         "0.0",
         "0.0",
         "0.0",
         "0.0",
         "0.63",
         "0.0",
         "0.31",
         "0.63",
         "0.31",
         "0.63",
         "0.31",
         "0.31",
         "0.31",
         "0.0",
         "0.0",
         "0.31",
         "0.0",
         "0.0",
         "3.18",
         "0.0",
         "0.31",
         "0.0",
         "0.0",
         "0.0",
         "0.0",
         "0.0",
         "0.0",
         "0.0",
         "0.0",
         "0.0",
         "0.0",
         "0.0",
         "0.0",
         "0.0",
         "0.0",
         "0.0",
         "0.0",
         "0.0",
         "0.0",
         "0.0",
         "0.0",
         "0.0",
         "0.0",
         "0.0",
         "0.0",
         "0.0",
         "0.0",
         "0.0",
         "0.0",
         "0.135",
         "0.0",
         "0.135",
         "0.0",
         "0.0",
         "3.537",
         "40",
         "191",
         "1"
        ]
       ],
       "shape": {
        "columns": 58,
        "rows": 5
       }
      },
      "text/html": [
       "<div>\n",
       "<style scoped>\n",
       "    .dataframe tbody tr th:only-of-type {\n",
       "        vertical-align: middle;\n",
       "    }\n",
       "\n",
       "    .dataframe tbody tr th {\n",
       "        vertical-align: top;\n",
       "    }\n",
       "\n",
       "    .dataframe thead th {\n",
       "        text-align: right;\n",
       "    }\n",
       "</style>\n",
       "<table border=\"1\" class=\"dataframe\">\n",
       "  <thead>\n",
       "    <tr style=\"text-align: right;\">\n",
       "      <th></th>\n",
       "      <th>word_freq_make</th>\n",
       "      <th>word_freq_address</th>\n",
       "      <th>word_freq_all</th>\n",
       "      <th>word_freq_3d</th>\n",
       "      <th>word_freq_our</th>\n",
       "      <th>word_freq_over</th>\n",
       "      <th>word_freq_remove</th>\n",
       "      <th>word_freq_internet</th>\n",
       "      <th>word_freq_order</th>\n",
       "      <th>word_freq_mail</th>\n",
       "      <th>...</th>\n",
       "      <th>char_freq_;</th>\n",
       "      <th>char_freq_(</th>\n",
       "      <th>char_freq_[</th>\n",
       "      <th>char_freq_!</th>\n",
       "      <th>char_freq_$</th>\n",
       "      <th>char_freq_#</th>\n",
       "      <th>capital_run_length_average</th>\n",
       "      <th>capital_run_length_longest</th>\n",
       "      <th>capital_run_length_total</th>\n",
       "      <th>spam</th>\n",
       "    </tr>\n",
       "  </thead>\n",
       "  <tbody>\n",
       "    <tr>\n",
       "      <th>0</th>\n",
       "      <td>0.00</td>\n",
       "      <td>0.64</td>\n",
       "      <td>0.64</td>\n",
       "      <td>0.0</td>\n",
       "      <td>0.32</td>\n",
       "      <td>0.00</td>\n",
       "      <td>0.00</td>\n",
       "      <td>0.00</td>\n",
       "      <td>0.00</td>\n",
       "      <td>0.00</td>\n",
       "      <td>...</td>\n",
       "      <td>0.00</td>\n",
       "      <td>0.000</td>\n",
       "      <td>0.0</td>\n",
       "      <td>0.778</td>\n",
       "      <td>0.000</td>\n",
       "      <td>0.000</td>\n",
       "      <td>3.756</td>\n",
       "      <td>61</td>\n",
       "      <td>278</td>\n",
       "      <td>1</td>\n",
       "    </tr>\n",
       "    <tr>\n",
       "      <th>1</th>\n",
       "      <td>0.21</td>\n",
       "      <td>0.28</td>\n",
       "      <td>0.50</td>\n",
       "      <td>0.0</td>\n",
       "      <td>0.14</td>\n",
       "      <td>0.28</td>\n",
       "      <td>0.21</td>\n",
       "      <td>0.07</td>\n",
       "      <td>0.00</td>\n",
       "      <td>0.94</td>\n",
       "      <td>...</td>\n",
       "      <td>0.00</td>\n",
       "      <td>0.132</td>\n",
       "      <td>0.0</td>\n",
       "      <td>0.372</td>\n",
       "      <td>0.180</td>\n",
       "      <td>0.048</td>\n",
       "      <td>5.114</td>\n",
       "      <td>101</td>\n",
       "      <td>1028</td>\n",
       "      <td>1</td>\n",
       "    </tr>\n",
       "    <tr>\n",
       "      <th>2</th>\n",
       "      <td>0.06</td>\n",
       "      <td>0.00</td>\n",
       "      <td>0.71</td>\n",
       "      <td>0.0</td>\n",
       "      <td>1.23</td>\n",
       "      <td>0.19</td>\n",
       "      <td>0.19</td>\n",
       "      <td>0.12</td>\n",
       "      <td>0.64</td>\n",
       "      <td>0.25</td>\n",
       "      <td>...</td>\n",
       "      <td>0.01</td>\n",
       "      <td>0.143</td>\n",
       "      <td>0.0</td>\n",
       "      <td>0.276</td>\n",
       "      <td>0.184</td>\n",
       "      <td>0.010</td>\n",
       "      <td>9.821</td>\n",
       "      <td>485</td>\n",
       "      <td>2259</td>\n",
       "      <td>1</td>\n",
       "    </tr>\n",
       "    <tr>\n",
       "      <th>3</th>\n",
       "      <td>0.00</td>\n",
       "      <td>0.00</td>\n",
       "      <td>0.00</td>\n",
       "      <td>0.0</td>\n",
       "      <td>0.63</td>\n",
       "      <td>0.00</td>\n",
       "      <td>0.31</td>\n",
       "      <td>0.63</td>\n",
       "      <td>0.31</td>\n",
       "      <td>0.63</td>\n",
       "      <td>...</td>\n",
       "      <td>0.00</td>\n",
       "      <td>0.137</td>\n",
       "      <td>0.0</td>\n",
       "      <td>0.137</td>\n",
       "      <td>0.000</td>\n",
       "      <td>0.000</td>\n",
       "      <td>3.537</td>\n",
       "      <td>40</td>\n",
       "      <td>191</td>\n",
       "      <td>1</td>\n",
       "    </tr>\n",
       "    <tr>\n",
       "      <th>4</th>\n",
       "      <td>0.00</td>\n",
       "      <td>0.00</td>\n",
       "      <td>0.00</td>\n",
       "      <td>0.0</td>\n",
       "      <td>0.63</td>\n",
       "      <td>0.00</td>\n",
       "      <td>0.31</td>\n",
       "      <td>0.63</td>\n",
       "      <td>0.31</td>\n",
       "      <td>0.63</td>\n",
       "      <td>...</td>\n",
       "      <td>0.00</td>\n",
       "      <td>0.135</td>\n",
       "      <td>0.0</td>\n",
       "      <td>0.135</td>\n",
       "      <td>0.000</td>\n",
       "      <td>0.000</td>\n",
       "      <td>3.537</td>\n",
       "      <td>40</td>\n",
       "      <td>191</td>\n",
       "      <td>1</td>\n",
       "    </tr>\n",
       "  </tbody>\n",
       "</table>\n",
       "<p>5 rows × 58 columns</p>\n",
       "</div>"
      ],
      "text/plain": [
       "   word_freq_make  word_freq_address  word_freq_all  word_freq_3d  \\\n",
       "0            0.00               0.64           0.64           0.0   \n",
       "1            0.21               0.28           0.50           0.0   \n",
       "2            0.06               0.00           0.71           0.0   \n",
       "3            0.00               0.00           0.00           0.0   \n",
       "4            0.00               0.00           0.00           0.0   \n",
       "\n",
       "   word_freq_our  word_freq_over  word_freq_remove  word_freq_internet  \\\n",
       "0           0.32            0.00              0.00                0.00   \n",
       "1           0.14            0.28              0.21                0.07   \n",
       "2           1.23            0.19              0.19                0.12   \n",
       "3           0.63            0.00              0.31                0.63   \n",
       "4           0.63            0.00              0.31                0.63   \n",
       "\n",
       "   word_freq_order  word_freq_mail  ...  char_freq_;  char_freq_(  \\\n",
       "0             0.00            0.00  ...         0.00        0.000   \n",
       "1             0.00            0.94  ...         0.00        0.132   \n",
       "2             0.64            0.25  ...         0.01        0.143   \n",
       "3             0.31            0.63  ...         0.00        0.137   \n",
       "4             0.31            0.63  ...         0.00        0.135   \n",
       "\n",
       "   char_freq_[  char_freq_!  char_freq_$  char_freq_#  \\\n",
       "0          0.0        0.778        0.000        0.000   \n",
       "1          0.0        0.372        0.180        0.048   \n",
       "2          0.0        0.276        0.184        0.010   \n",
       "3          0.0        0.137        0.000        0.000   \n",
       "4          0.0        0.135        0.000        0.000   \n",
       "\n",
       "   capital_run_length_average  capital_run_length_longest  \\\n",
       "0                       3.756                          61   \n",
       "1                       5.114                         101   \n",
       "2                       9.821                         485   \n",
       "3                       3.537                          40   \n",
       "4                       3.537                          40   \n",
       "\n",
       "   capital_run_length_total  spam  \n",
       "0                       278     1  \n",
       "1                      1028     1  \n",
       "2                      2259     1  \n",
       "3                       191     1  \n",
       "4                       191     1  \n",
       "\n",
       "[5 rows x 58 columns]"
      ]
     },
     "execution_count": 9,
     "metadata": {},
     "output_type": "execute_result"
    }
   ],
   "source": [
    "# Rename columns\n",
    "column_names = [\n",
    "    \"word_freq_make\",\n",
    "    \"word_freq_address\",\n",
    "    \"word_freq_all\",\n",
    "    \"word_freq_3d\",\n",
    "    \"word_freq_our\",\n",
    "    \"word_freq_over\",\n",
    "    \"word_freq_remove\",\n",
    "    \"word_freq_internet\",\n",
    "    \"word_freq_order\",\n",
    "    \"word_freq_mail\",\n",
    "    \"word_freq_receive\",\n",
    "    \"word_freq_will\",\n",
    "    \"word_freq_people\",\n",
    "    \"word_freq_report\",\n",
    "    \"word_freq_addresses\",\n",
    "    \"word_freq_free\",\n",
    "    \"word_freq_business\",\n",
    "    \"word_freq_email\",\n",
    "    \"word_freq_you\",\n",
    "    \"word_freq_credit\",\n",
    "    \"word_freq_your\",\n",
    "    \"word_freq_font\",\n",
    "    \"word_freq_000\",\n",
    "    \"word_freq_money\",\n",
    "    \"word_freq_hp\",\n",
    "    \"word_freq_hpl\",\n",
    "    \"word_freq_george\",\n",
    "    \"word_freq_650\",\n",
    "    \"word_freq_lab\",\n",
    "    \"word_freq_labs\",\n",
    "    \"word_freq_telnet\",\n",
    "    \"word_freq_857\",\n",
    "    \"word_freq_data\",\n",
    "    \"word_freq_415\",\n",
    "    \"word_freq_85\",\n",
    "    \"word_freq_technology\",\n",
    "    \"word_freq_1999\",\n",
    "    \"word_freq_parts\",\n",
    "    \"word_freq_pm\",\n",
    "    \"word_freq_direct\",\n",
    "    \"word_freq_cs\",\n",
    "    \"word_freq_meeting\",\n",
    "    \"word_freq_original\",\n",
    "    \"word_freq_project\",\n",
    "    \"word_freq_re\",\n",
    "    \"word_freq_edu\",\n",
    "    \"word_freq_table\",\n",
    "    \"word_freq_conference\",\n",
    "    \"char_freq_;\",\n",
    "    \"char_freq_(\",\n",
    "    \"char_freq_[\",\n",
    "    \"char_freq_!\",\n",
    "    \"char_freq_$\",\n",
    "    \"char_freq_#\",\n",
    "    \"capital_run_length_average\",\n",
    "    \"capital_run_length_longest\",\n",
    "    \"capital_run_length_total\",\n",
    "    \"spam\"\n",
    "]\n",
    "\n",
    "spambase_data.columns = column_names\n",
    "spambase_data.head()\n"
   ]
  },
  {
   "cell_type": "markdown",
   "id": "23c5c287",
   "metadata": {},
   "source": [
    "## Splitting our data\n",
    "\n",
    "For our project, we'll split our data into a training and test dataset and balance the data so that there are equal numbers of spam and non-spam emails. We know there are 4,601 observations in this data, 39.4% of which are spam. We split data into 300 emails for the test set, 300 emails for the dev-test set, and the remaining 4,001 emails for the training set."
   ]
  },
  {
   "cell_type": "code",
   "execution_count": 10,
   "id": "e05b6f4a",
   "metadata": {},
   "outputs": [
    {
     "name": "stdout",
     "output_type": "stream",
     "text": [
      "\n",
      "--- Distribution after Stratified Split ---\n",
      "Training set size: 4001\n",
      "Dev-test set size: 300\n",
      "Test set size: 300\n",
      "\n",
      "Training set counts: Counter({0: 2424, 1: 1577})\n",
      "Dev-test set counts: Counter({0: 182, 1: 118})\n",
      "Test set counts: Counter({0: 182, 1: 118})\n",
      "\n",
      "--- Distribution after Undersampling Training Set ---\n",
      "New (Balanced) Training set counts: Counter({0: 1577, 1: 1577})\n",
      "Total balanced training samples: 3154\n",
      "\n",
      "Dev-test and Test sets (Unmodified for evaluation):\n",
      "Dev-test set counts: Counter({0: 182, 1: 118})\n",
      "Test set counts: Counter({0: 182, 1: 118})\n"
     ]
    }
   ],
   "source": [
    "def split_data(df, verbose=True):\n",
    "    x = df.drop('spam', axis=1)\n",
    "    y = df['spam']\n",
    "\n",
    "    # Split into test (300), dev-test (300), and training (remaining)\n",
    "    x_temp, x_test, y_temp, y_test = train_test_split(\n",
    "        x, y, test_size=300, random_state=1, stratify=y    # Stratify to keep spam balance\n",
    "    )\n",
    "    x_train, x_devtest, y_train, y_devtest = train_test_split(\n",
    "        x_temp, y_temp, test_size=300, random_state=1, stratify=y_temp\n",
    "    )\n",
    "\n",
    "    # Print a summary of the split data (only if verbose=True)\n",
    "    if verbose:\n",
    "        print(\"\\n--- Distribution after Stratified Split ---\")\n",
    "        print(\"Training set size:\", len(y_train))\n",
    "        print(\"Dev-test set size:\", len(y_devtest))\n",
    "        print(\"Test set size:\", len(y_test))\n",
    "        print(\"\\nTraining set counts:\", Counter(y_train))\n",
    "        print(\"Dev-test set counts:\", Counter(y_devtest))\n",
    "        print(\"Test set counts:\", Counter(y_test))\n",
    "\n",
    "    rus = RandomUnderSampler(random_state=1)\n",
    "\n",
    "    # Apply the sampling only to the training set\n",
    "    x_train_resampled, y_train_resampled = rus.fit_resample(x_train, y_train)\n",
    "\n",
    "    # Print a summary of the final data (only if verbose=True)\n",
    "    if verbose:\n",
    "        print(\"\\n--- Distribution after Undersampling Training Set ---\")\n",
    "        print(\"New (Balanced) Training set counts:\", Counter(y_train_resampled))\n",
    "        print(f\"Total balanced training samples: {len(y_train_resampled)}\")\n",
    "        print(\"\\nDev-test and Test sets (Unmodified for evaluation):\")\n",
    "        print(\"Dev-test set counts:\", Counter(y_devtest))\n",
    "        print(\"Test set counts:\", Counter(y_test))\n",
    "    \n",
    "    # Return all three sets\n",
    "    return x_train_resampled, x_devtest, x_test, y_train_resampled, y_devtest, y_test\n",
    "\n",
    "x_train_resampled, x_devtest, x_test, y_train_resampled, y_devtest, y_test = split_data(spambase_data)"
   ]
  },
  {
   "cell_type": "markdown",
   "id": "cb03b8b0",
   "metadata": {},
   "source": [
    "## Building our models\n",
    "\n",
    "We'll try the following three models:\n",
    "1. Naive Bayes Classifier\n",
    "2. Decision Tree Classifier\n",
    "3. Maxent Classifier"
   ]
  },
  {
   "cell_type": "code",
   "execution_count": 9,
   "id": "64119a2c",
   "metadata": {},
   "outputs": [
    {
     "name": "stdout",
     "output_type": "stream",
     "text": [
      "\n",
      "--- Evaluating on dev-test set ---\n",
      "NaiveBayes Dev-Test Accuracy: 75.20%\n",
      "DecisionTree Dev-Test Accuracy: 34.20%\n",
      "MaxentClassifier Dev-Test Accuracy: 74.60%\n"
     ]
    }
   ],
   "source": [
    "def train_nltk_classifiers(training_data):\n",
    "    # I turned this into a function since we'll be iterating\n",
    "    return(\n",
    "        {\n",
    "            'NaiveBayes': nltk.NaiveBayesClassifier.train(training_data),\n",
    "            'DecisionTree': nltk.DecisionTreeClassifier.train(training_data),\n",
    "            'MaxentClassifier': nltk.MaxentClassifier.train(training_data, max_iter=10, trace=0)\n",
    "        }\n",
    "    )\n",
    "\n",
    "first_round_bathroom_classifiers = train_nltk_classifiers(train_nltk_data)\n",
    "\n",
    "print(\"\\n--- Evaluating on dev-test set ---\")\n",
    "for name, classifier in first_round_bathroom_classifiers.items():\n",
    "    accuracy = nltk.classify.accuracy(classifier, devtest_nltk_data)\n",
    "    print(f\"{name} Dev-Test Accuracy: {accuracy * 100:.2f}%\")"
   ]
  },
  {
   "cell_type": "markdown",
   "id": "3c8a991f",
   "metadata": {},
   "source": [
    "On the first round of models with our feature we find that the Naive Bayes classifier is the best performing with an accuracy of 75.2%."
   ]
  },
  {
   "cell_type": "code",
   "execution_count": 10,
   "id": "ca77ae4c",
   "metadata": {},
   "outputs": [
    {
     "name": "stdout",
     "output_type": "stream",
     "text": [
      "Most Informative Features\n",
      "    get_two_last_letters = 'na'           female : male   =     90.6 : 1.0\n",
      "    get_two_last_letters = 'la'           female : male   =     69.0 : 1.0\n",
      "    get_two_last_letters = 'ia'           female : male   =     52.6 : 1.0\n",
      "    get_two_last_letters = 'us'             male : female =     36.3 : 1.0\n",
      "    get_two_last_letters = 'sa'           female : male   =     33.7 : 1.0\n",
      "    get_two_last_letters = 'ra'           female : male   =     23.6 : 1.0\n",
      "    get_two_last_letters = 'rd'             male : female =     23.0 : 1.0\n",
      "    get_two_last_letters = 'ta'           female : male   =     21.4 : 1.0\n",
      "    get_two_last_letters = 'ld'             male : female =     18.3 : 1.0\n",
      "    get_two_last_letters = 'do'             male : female =     16.3 : 1.0\n",
      "    get_two_last_letters = 'io'             male : female =     15.0 : 1.0\n",
      "    get_two_last_letters = 'ka'           female : male   =     12.3 : 1.0\n",
      "    get_two_last_letters = 'os'             male : female =     12.3 : 1.0\n",
      "    get_two_last_letters = 'im'             male : female =      9.7 : 1.0\n",
      "    get_two_last_letters = 'ch'             male : female =      9.0 : 1.0\n",
      "    get_two_last_letters = 'ee'           female : male   =      7.9 : 1.0\n",
      "    get_two_last_letters = 'on'             male : female =      7.8 : 1.0\n",
      "    get_two_last_letters = 'as'             male : female =      7.7 : 1.0\n",
      "    get_two_last_letters = 'ea'           female : male   =      7.4 : 1.0\n",
      "    get_two_last_letters = 'es'             male : female =      7.3 : 1.0\n",
      "    get_two_last_letters = 'or'             male : female =      6.7 : 1.0\n",
      "    get_two_last_letters = 'te'           female : male   =      6.6 : 1.0\n",
      "    get_two_last_letters = 'ke'             male : female =      6.4 : 1.0\n",
      "    get_two_last_letters = 'em'             male : female =      6.3 : 1.0\n",
      "    get_two_last_letters = 'ew'             male : female =      6.3 : 1.0\n",
      "    get_two_last_letters = 'ud'             male : female =      6.3 : 1.0\n",
      "        vowel_proportion = 0.625          female : male   =      6.3 : 1.0\n",
      "    get_two_last_letters = 'ed'             male : female =      6.2 : 1.0\n",
      "        vowel_proportion = 0.3              male : female =      6.2 : 1.0\n",
      "    get_two_last_letters = 'ar'             male : female =      6.1 : 1.0\n",
      "    get_two_last_letters = 'ni'           female : male   =      5.9 : 1.0\n",
      "    get_two_last_letters = 'di'           female : male   =      5.9 : 1.0\n",
      "    get_two_last_letters = 'er'             male : female =      5.8 : 1.0\n",
      "    get_two_last_letters = 'ff'             male : female =      5.7 : 1.0\n",
      "    get_two_last_letters = 'ig'             male : female =      5.7 : 1.0\n",
      "    get_two_last_letters = 'am'             male : female =      5.7 : 1.0\n",
      "    get_two_last_letters = 'ip'             male : female =      5.0 : 1.0\n",
      "    get_two_last_letters = 've'             male : female =      5.0 : 1.0\n",
      "    get_two_last_letters = 'lo'             male : female =      4.6 : 1.0\n",
      "    get_two_last_letters = 'ha'           female : male   =      4.3 : 1.0\n",
      "    get_two_last_letters = 'si'           female : male   =      4.2 : 1.0\n",
      "    get_two_last_letters = 'sy'           female : male   =      4.1 : 1.0\n",
      "    get_two_last_letters = 'nt'             male : female =      3.9 : 1.0\n",
      "    get_two_last_letters = 'ad'             male : female =      3.9 : 1.0\n",
      "    get_two_last_letters = 'bi'           female : male   =      3.8 : 1.0\n",
      "    get_two_last_letters = 'ne'           female : male   =      3.7 : 1.0\n",
      "    get_two_last_letters = 'fy'             male : female =      3.7 : 1.0\n",
      "    get_two_last_letters = 'oy'             male : female =      3.7 : 1.0\n",
      "    get_two_last_letters = 'an'             male : female =      3.5 : 1.0\n",
      "    get_two_last_letters = 'eo'             male : female =      3.4 : 1.0\n"
     ]
    }
   ],
   "source": [
    "first_round_bathroom_classifiers['NaiveBayes'].show_most_informative_features(50)"
   ]
  },
  {
   "cell_type": "markdown",
   "id": "0c05e086",
   "metadata": {},
   "source": [
    "Looking at the most important 20 features we can see that they're all related to the last two letters of the name. Extending the importance further to 50 features, we found that a vowel proportion of 62.5% also appear in the list.\n",
    "    \n",
    "To further improve our model, we can likely engineer more features related to the letters in the names."
   ]
  },
  {
   "cell_type": "markdown",
   "id": "3180ffff",
   "metadata": {},
   "source": [
    "## Feature Engineering Iteration 2: First Letter, Name Length, and Longest Consonant Chain\n",
    "First we saw that the numeric columns we assumed might be useful weren't very informative and thus decided to drop them from our feature set."
   ]
  },
  {
   "cell_type": "code",
   "execution_count": 11,
   "id": "4e9b7204",
   "metadata": {},
   "outputs": [
    {
     "data": {
      "application/vnd.microsoft.datawrangler.viewer.v0+json": {
       "columns": [
        {
         "name": "index",
         "rawType": "int64",
         "type": "integer"
        },
        {
         "name": "name",
         "rawType": "object",
         "type": "string"
        },
        {
         "name": "gender",
         "rawType": "object",
         "type": "string"
        },
        {
         "name": "get_two_last_letters",
         "rawType": "object",
         "type": "string"
        }
       ],
       "ref": "37b8fd75-1056-4905-a73e-5701ff1b7c53",
       "rows": [
        [
         "0",
         "Aamir",
         "male",
         "ir"
        ],
        [
         "1",
         "Aaron",
         "male",
         "on"
        ],
        [
         "2",
         "Abbey",
         "male",
         "ey"
        ],
        [
         "3",
         "Abbie",
         "male",
         "ie"
        ],
        [
         "4",
         "Abbot",
         "male",
         "ot"
        ]
       ],
       "shape": {
        "columns": 3,
        "rows": 5
       }
      },
      "text/html": [
       "<div>\n",
       "<style scoped>\n",
       "    .dataframe tbody tr th:only-of-type {\n",
       "        vertical-align: middle;\n",
       "    }\n",
       "\n",
       "    .dataframe tbody tr th {\n",
       "        vertical-align: top;\n",
       "    }\n",
       "\n",
       "    .dataframe thead th {\n",
       "        text-align: right;\n",
       "    }\n",
       "</style>\n",
       "<table border=\"1\" class=\"dataframe\">\n",
       "  <thead>\n",
       "    <tr style=\"text-align: right;\">\n",
       "      <th></th>\n",
       "      <th>name</th>\n",
       "      <th>gender</th>\n",
       "      <th>get_two_last_letters</th>\n",
       "    </tr>\n",
       "  </thead>\n",
       "  <tbody>\n",
       "    <tr>\n",
       "      <th>0</th>\n",
       "      <td>Aamir</td>\n",
       "      <td>male</td>\n",
       "      <td>ir</td>\n",
       "    </tr>\n",
       "    <tr>\n",
       "      <th>1</th>\n",
       "      <td>Aaron</td>\n",
       "      <td>male</td>\n",
       "      <td>on</td>\n",
       "    </tr>\n",
       "    <tr>\n",
       "      <th>2</th>\n",
       "      <td>Abbey</td>\n",
       "      <td>male</td>\n",
       "      <td>ey</td>\n",
       "    </tr>\n",
       "    <tr>\n",
       "      <th>3</th>\n",
       "      <td>Abbie</td>\n",
       "      <td>male</td>\n",
       "      <td>ie</td>\n",
       "    </tr>\n",
       "    <tr>\n",
       "      <th>4</th>\n",
       "      <td>Abbot</td>\n",
       "      <td>male</td>\n",
       "      <td>ot</td>\n",
       "    </tr>\n",
       "  </tbody>\n",
       "</table>\n",
       "</div>"
      ],
      "text/plain": [
       "    name gender get_two_last_letters\n",
       "0  Aamir   male                   ir\n",
       "1  Aaron   male                   on\n",
       "2  Abbey   male                   ey\n",
       "3  Abbie   male                   ie\n",
       "4  Abbot   male                   ot"
      ]
     },
     "execution_count": 11,
     "metadata": {},
     "output_type": "execute_result"
    }
   ],
   "source": [
    "iteration_2_df = feature_names_df.drop(columns = ['vowel_proportion', 'first_last_letter', 'longest_run_of_vowels'], errors='ignore')\n",
    "iteration_2_df.head()"
   ]
  },
  {
   "cell_type": "markdown",
   "id": "c18e23b2",
   "metadata": {},
   "source": [
    "For a new set of features, we'll use the first letter of the word and we'll also add in the length of the name as a feature. For the new numeric value, we'll also plot a histogram as we did before."
   ]
  },
  {
   "cell_type": "code",
   "execution_count": 12,
   "id": "f3f1400a",
   "metadata": {},
   "outputs": [
    {
     "data": {
      "application/vnd.microsoft.datawrangler.viewer.v0+json": {
       "columns": [
        {
         "name": "index",
         "rawType": "int64",
         "type": "integer"
        },
        {
         "name": "name",
         "rawType": "object",
         "type": "string"
        },
        {
         "name": "gender",
         "rawType": "object",
         "type": "string"
        },
        {
         "name": "get_two_last_letters",
         "rawType": "object",
         "type": "string"
        },
        {
         "name": "name_length",
         "rawType": "int64",
         "type": "integer"
        },
        {
         "name": "first_letter",
         "rawType": "object",
         "type": "string"
        }
       ],
       "ref": "29fc1885-c4d2-451a-9b13-f0b942d4dae3",
       "rows": [
        [
         "0",
         "Aamir",
         "male",
         "ir",
         "5",
         "a"
        ],
        [
         "1",
         "Aaron",
         "male",
         "on",
         "5",
         "a"
        ],
        [
         "2",
         "Abbey",
         "male",
         "ey",
         "5",
         "a"
        ],
        [
         "3",
         "Abbie",
         "male",
         "ie",
         "5",
         "a"
        ],
        [
         "4",
         "Abbot",
         "male",
         "ot",
         "5",
         "a"
        ]
       ],
       "shape": {
        "columns": 5,
        "rows": 5
       }
      },
      "text/html": [
       "<div>\n",
       "<style scoped>\n",
       "    .dataframe tbody tr th:only-of-type {\n",
       "        vertical-align: middle;\n",
       "    }\n",
       "\n",
       "    .dataframe tbody tr th {\n",
       "        vertical-align: top;\n",
       "    }\n",
       "\n",
       "    .dataframe thead th {\n",
       "        text-align: right;\n",
       "    }\n",
       "</style>\n",
       "<table border=\"1\" class=\"dataframe\">\n",
       "  <thead>\n",
       "    <tr style=\"text-align: right;\">\n",
       "      <th></th>\n",
       "      <th>name</th>\n",
       "      <th>gender</th>\n",
       "      <th>get_two_last_letters</th>\n",
       "      <th>name_length</th>\n",
       "      <th>first_letter</th>\n",
       "    </tr>\n",
       "  </thead>\n",
       "  <tbody>\n",
       "    <tr>\n",
       "      <th>0</th>\n",
       "      <td>Aamir</td>\n",
       "      <td>male</td>\n",
       "      <td>ir</td>\n",
       "      <td>5</td>\n",
       "      <td>a</td>\n",
       "    </tr>\n",
       "    <tr>\n",
       "      <th>1</th>\n",
       "      <td>Aaron</td>\n",
       "      <td>male</td>\n",
       "      <td>on</td>\n",
       "      <td>5</td>\n",
       "      <td>a</td>\n",
       "    </tr>\n",
       "    <tr>\n",
       "      <th>2</th>\n",
       "      <td>Abbey</td>\n",
       "      <td>male</td>\n",
       "      <td>ey</td>\n",
       "      <td>5</td>\n",
       "      <td>a</td>\n",
       "    </tr>\n",
       "    <tr>\n",
       "      <th>3</th>\n",
       "      <td>Abbie</td>\n",
       "      <td>male</td>\n",
       "      <td>ie</td>\n",
       "      <td>5</td>\n",
       "      <td>a</td>\n",
       "    </tr>\n",
       "    <tr>\n",
       "      <th>4</th>\n",
       "      <td>Abbot</td>\n",
       "      <td>male</td>\n",
       "      <td>ot</td>\n",
       "      <td>5</td>\n",
       "      <td>a</td>\n",
       "    </tr>\n",
       "  </tbody>\n",
       "</table>\n",
       "</div>"
      ],
      "text/plain": [
       "    name gender get_two_last_letters  name_length first_letter\n",
       "0  Aamir   male                   ir            5            a\n",
       "1  Aaron   male                   on            5            a\n",
       "2  Abbey   male                   ey            5            a\n",
       "3  Abbie   male                   ie            5            a\n",
       "4  Abbot   male                   ot            5            a"
      ]
     },
     "execution_count": 12,
     "metadata": {},
     "output_type": "execute_result"
    }
   ],
   "source": [
    "iteration_2_df['name_length'] = iteration_2_df['name'].apply(len)\n",
    "iteration_2_df['first_letter'] = iteration_2_df['name'].str[0].str.lower()\n",
    "iteration_2_df.head()"
   ]
  },
  {
   "cell_type": "code",
   "execution_count": 13,
   "id": "e03d44b0",
   "metadata": {},
   "outputs": [
    {
     "data": {
      "image/png": "[encoded data removed]",
      "text/plain": [
       "<Figure size 1600x600 with 1 Axes>"
      ]
     },
     "metadata": {},
     "output_type": "display_data"
    },
    {
     "data": {
      "image/png": "[encoded data removed]",
      "text/plain": [
       "<Figure size 1600x600 with 1 Axes>"
      ]
     },
     "metadata": {},
     "output_type": "display_data"
    }
   ],
   "source": [
    "plt.figure(figsize=(16, 6))\n",
    "\n",
    "sns.histplot(\n",
    "    data=iteration_2_df,\n",
    "    x='name_length',\n",
    "    hue='gender',\n",
    "    palette=custom_palette,\n",
    "    stat=\"proportion\",\n",
    "    multiple='dodge',\n",
    "    #kde=True,\n",
    "    alpha=0.5,\n",
    "    bins=13,\n",
    "    common_norm=False\n",
    ")\n",
    "plt.title('Distribution of Name Length, by Gender')\n",
    "plt.xlabel('Name Length')\n",
    "plt.xticks(range(iteration_2_df['name_length'].min(), iteration_2_df['name_length'].max() + 1))\n",
    "plt.ylabel('Proportion of Gender')\n",
    "plt.gca().yaxis.set_major_formatter(plt.FuncFormatter(lambda y, _: '{:.0%}'.format(y)))\n",
    "plt.show()\n",
    "\n",
    "# Plot for first_letter\n",
    "plt.figure(figsize=(16, 6))\n",
    "top_10 = iteration_2_df['first_letter'].value_counts().nlargest(10).index\n",
    "sns.histplot(\n",
    "    data=iteration_2_df[iteration_2_df['first_letter'].isin(top_10)],\n",
    "    x='first_letter',\n",
    "    hue='gender',\n",
    "    palette=custom_palette,\n",
    "    stat=\"proportion\",\n",
    "    alpha=0.5,\n",
    "    multiple='dodge'\n",
    ")\n",
    "plt.title('Top 10 Most Common First Letters, by Gender')\n",
    "plt.xlabel('First Letters')\n",
    "plt.ylabel('Proportion of Gender')\n",
    "plt.gca().yaxis.set_major_formatter(plt.FuncFormatter(lambda y, _: '{:.0%}'.format(y)))\n",
    "\n",
    "plt.show()"
   ]
  },
  {
   "cell_type": "markdown",
   "id": "288bc59b",
   "metadata": {},
   "source": [
    "Name length doesn't seem to provide any information so we'll drop it from our dataset. The first letter seems to have some differences between gender so we'll keep it as a feature."
   ]
  },
  {
   "cell_type": "code",
   "execution_count": 14,
   "id": "6fcf2837",
   "metadata": {},
   "outputs": [
    {
     "data": {
      "application/vnd.microsoft.datawrangler.viewer.v0+json": {
       "columns": [
        {
         "name": "index",
         "rawType": "int64",
         "type": "integer"
        },
        {
         "name": "name",
         "rawType": "object",
         "type": "string"
        },
        {
         "name": "gender",
         "rawType": "object",
         "type": "string"
        },
        {
         "name": "get_two_last_letters",
         "rawType": "object",
         "type": "string"
        },
        {
         "name": "first_letter",
         "rawType": "object",
         "type": "string"
        }
       ],
       "ref": "c15799a5-3ebc-40de-aec2-3e7a42842e16",
       "rows": [
        [
         "0",
         "Aamir",
         "male",
         "ir",
         "a"
        ],
        [
         "1",
         "Aaron",
         "male",
         "on",
         "a"
        ],
        [
         "2",
         "Abbey",
         "male",
         "ey",
         "a"
        ],
        [
         "3",
         "Abbie",
         "male",
         "ie",
         "a"
        ],
        [
         "4",
         "Abbot",
         "male",
         "ot",
         "a"
        ]
       ],
       "shape": {
        "columns": 4,
        "rows": 5
       }
      },
      "text/html": [
       "<div>\n",
       "<style scoped>\n",
       "    .dataframe tbody tr th:only-of-type {\n",
       "        vertical-align: middle;\n",
       "    }\n",
       "\n",
       "    .dataframe tbody tr th {\n",
       "        vertical-align: top;\n",
       "    }\n",
       "\n",
       "    .dataframe thead th {\n",
       "        text-align: right;\n",
       "    }\n",
       "</style>\n",
       "<table border=\"1\" class=\"dataframe\">\n",
       "  <thead>\n",
       "    <tr style=\"text-align: right;\">\n",
       "      <th></th>\n",
       "      <th>name</th>\n",
       "      <th>gender</th>\n",
       "      <th>get_two_last_letters</th>\n",
       "      <th>first_letter</th>\n",
       "    </tr>\n",
       "  </thead>\n",
       "  <tbody>\n",
       "    <tr>\n",
       "      <th>0</th>\n",
       "      <td>Aamir</td>\n",
       "      <td>male</td>\n",
       "      <td>ir</td>\n",
       "      <td>a</td>\n",
       "    </tr>\n",
       "    <tr>\n",
       "      <th>1</th>\n",
       "      <td>Aaron</td>\n",
       "      <td>male</td>\n",
       "      <td>on</td>\n",
       "      <td>a</td>\n",
       "    </tr>\n",
       "    <tr>\n",
       "      <th>2</th>\n",
       "      <td>Abbey</td>\n",
       "      <td>male</td>\n",
       "      <td>ey</td>\n",
       "      <td>a</td>\n",
       "    </tr>\n",
       "    <tr>\n",
       "      <th>3</th>\n",
       "      <td>Abbie</td>\n",
       "      <td>male</td>\n",
       "      <td>ie</td>\n",
       "      <td>a</td>\n",
       "    </tr>\n",
       "    <tr>\n",
       "      <th>4</th>\n",
       "      <td>Abbot</td>\n",
       "      <td>male</td>\n",
       "      <td>ot</td>\n",
       "      <td>a</td>\n",
       "    </tr>\n",
       "  </tbody>\n",
       "</table>\n",
       "</div>"
      ],
      "text/plain": [
       "    name gender get_two_last_letters first_letter\n",
       "0  Aamir   male                   ir            a\n",
       "1  Aaron   male                   on            a\n",
       "2  Abbey   male                   ey            a\n",
       "3  Abbie   male                   ie            a\n",
       "4  Abbot   male                   ot            a"
      ]
     },
     "execution_count": 14,
     "metadata": {},
     "output_type": "execute_result"
    }
   ],
   "source": [
    "iteration_2_df = iteration_2_df.drop(columns=['name_length'], errors='ignore')\n",
    "iteration_2_df.head()"
   ]
  },
  {
   "cell_type": "markdown",
   "id": "b8a8505d",
   "metadata": {},
   "source": [
    "In the spirit of trying something new, let's get the longest consonant chain."
   ]
  },
  {
   "cell_type": "code",
   "execution_count": 15,
   "id": "49686424",
   "metadata": {},
   "outputs": [
    {
     "data": {
      "application/vnd.microsoft.datawrangler.viewer.v0+json": {
       "columns": [
        {
         "name": "index",
         "rawType": "int64",
         "type": "integer"
        },
        {
         "name": "name",
         "rawType": "object",
         "type": "string"
        },
        {
         "name": "gender",
         "rawType": "object",
         "type": "string"
        },
        {
         "name": "get_two_last_letters",
         "rawType": "object",
         "type": "string"
        },
        {
         "name": "first_letter",
         "rawType": "object",
         "type": "string"
        },
        {
         "name": "longest_consonant_chain",
         "rawType": "object",
         "type": "string"
        }
       ],
       "ref": "b74b7c0c-90a5-4e84-9502-b547a8b366a5",
       "rows": [
        [
         "0",
         "Aamir",
         "male",
         "ir",
         "a",
         "m"
        ],
        [
         "1",
         "Aaron",
         "male",
         "on",
         "a",
         "r"
        ],
        [
         "2",
         "Abbey",
         "male",
         "ey",
         "a",
         "bb"
        ],
        [
         "3",
         "Abbie",
         "male",
         "ie",
         "a",
         "bb"
        ],
        [
         "4",
         "Abbot",
         "male",
         "ot",
         "a",
         "bb"
        ]
       ],
       "shape": {
        "columns": 5,
        "rows": 5
       }
      },
      "text/html": [
       "<div>\n",
       "<style scoped>\n",
       "    .dataframe tbody tr th:only-of-type {\n",
       "        vertical-align: middle;\n",
       "    }\n",
       "\n",
       "    .dataframe tbody tr th {\n",
       "        vertical-align: top;\n",
       "    }\n",
       "\n",
       "    .dataframe thead th {\n",
       "        text-align: right;\n",
       "    }\n",
       "</style>\n",
       "<table border=\"1\" class=\"dataframe\">\n",
       "  <thead>\n",
       "    <tr style=\"text-align: right;\">\n",
       "      <th></th>\n",
       "      <th>name</th>\n",
       "      <th>gender</th>\n",
       "      <th>get_two_last_letters</th>\n",
       "      <th>first_letter</th>\n",
       "      <th>longest_consonant_chain</th>\n",
       "    </tr>\n",
       "  </thead>\n",
       "  <tbody>\n",
       "    <tr>\n",
       "      <th>0</th>\n",
       "      <td>Aamir</td>\n",
       "      <td>male</td>\n",
       "      <td>ir</td>\n",
       "      <td>a</td>\n",
       "      <td>m</td>\n",
       "    </tr>\n",
       "    <tr>\n",
       "      <th>1</th>\n",
       "      <td>Aaron</td>\n",
       "      <td>male</td>\n",
       "      <td>on</td>\n",
       "      <td>a</td>\n",
       "      <td>r</td>\n",
       "    </tr>\n",
       "    <tr>\n",
       "      <th>2</th>\n",
       "      <td>Abbey</td>\n",
       "      <td>male</td>\n",
       "      <td>ey</td>\n",
       "      <td>a</td>\n",
       "      <td>bb</td>\n",
       "    </tr>\n",
       "    <tr>\n",
       "      <th>3</th>\n",
       "      <td>Abbie</td>\n",
       "      <td>male</td>\n",
       "      <td>ie</td>\n",
       "      <td>a</td>\n",
       "      <td>bb</td>\n",
       "    </tr>\n",
       "    <tr>\n",
       "      <th>4</th>\n",
       "      <td>Abbot</td>\n",
       "      <td>male</td>\n",
       "      <td>ot</td>\n",
       "      <td>a</td>\n",
       "      <td>bb</td>\n",
       "    </tr>\n",
       "  </tbody>\n",
       "</table>\n",
       "</div>"
      ],
      "text/plain": [
       "    name gender get_two_last_letters first_letter longest_consonant_chain\n",
       "0  Aamir   male                   ir            a                       m\n",
       "1  Aaron   male                   on            a                       r\n",
       "2  Abbey   male                   ey            a                      bb\n",
       "3  Abbie   male                   ie            a                      bb\n",
       "4  Abbot   male                   ot            a                      bb"
      ]
     },
     "execution_count": 15,
     "metadata": {},
     "output_type": "execute_result"
    }
   ],
   "source": [
    "def gimme_the_longest_consonant_chain(name: pd.Series) -> pd.Series:\n",
    "    if not isinstance(name, str):\n",
    "        return '' # Return empty string for non-string input\n",
    "    \n",
    "    consonants = set('bcdfghjklmnpqrstvwxyz')\n",
    "    name_lower = name.lower()\n",
    "    \n",
    "    max_chain_str = \"\"\n",
    "    current_chain_str = \"\"\n",
    "    \n",
    "    for char in name_lower:\n",
    "        if char.isalpha() and char in consonants:\n",
    "            # Character is a consonant, append it to the current chain string\n",
    "            current_chain_str += char\n",
    "        else:\n",
    "            # Character is a vowel, 'y', or non-alphabetic\n",
    "            # Check if the current chain is the longest found so far\n",
    "            if len(current_chain_str) > len(max_chain_str):\n",
    "                max_chain_str = current_chain_str\n",
    "            # Reset the current chain string\n",
    "            current_chain_str = \"\"\n",
    "            \n",
    "    # Important: Check one last time after the loop finishes \n",
    "    # (in case the longest chain ends the string)\n",
    "    if len(current_chain_str) > len(max_chain_str):\n",
    "        max_chain_str = current_chain_str\n",
    "\n",
    "    return max_chain_str\n",
    "\n",
    "iteration_3_df = iteration_2_df.copy()\n",
    "iteration_3_df['longest_consonant_chain'] = iteration_3_df['name'].apply(gimme_the_longest_consonant_chain)\n",
    "iteration_3_df.head()\n"
   ]
  },
  {
   "cell_type": "markdown",
   "id": "e8633bff",
   "metadata": {},
   "source": [
    "We plot this below."
   ]
  },
  {
   "cell_type": "code",
   "execution_count": 16,
   "id": "fa564acd",
   "metadata": {},
   "outputs": [
    {
     "data": {
      "image/png": "[encoded data removed]",
      "text/plain": [
       "<Figure size 1600x600 with 1 Axes>"
      ]
     },
     "metadata": {},
     "output_type": "display_data"
    }
   ],
   "source": [
    "# Plot for longest_consonant_chain\n",
    "plt.figure(figsize=(16, 6))\n",
    "top_10 = iteration_3_df[iteration_3_df['longest_consonant_chain'].str.len() > 1]['longest_consonant_chain'].value_counts().nlargest(10).index\n",
    "sns.histplot(\n",
    "    data=iteration_3_df[iteration_3_df['longest_consonant_chain'].isin(top_10)],\n",
    "    x='longest_consonant_chain',\n",
    "    hue='gender',\n",
    "    palette=custom_palette,\n",
    "    stat=\"proportion\",\n",
    "    alpha=0.5,\n",
    "    multiple='dodge'\n",
    ")\n",
    "plt.title('Top 10 Most Common Chains of Consonants, by Gender')\n",
    "plt.xlabel('Consonant Chains')\n",
    "plt.ylabel('Proportion of Gender')\n",
    "plt.gca().yaxis.set_major_formatter(plt.FuncFormatter(lambda y, _: '{:.0%}'.format(y)))\n",
    "plt.show()"
   ]
  },
  {
   "cell_type": "markdown",
   "id": "fb31f441",
   "metadata": {},
   "source": [
    "There appear to be a high proportion of girls names with two \"l\"s or \"n\"s in a row. \n",
    "\n",
    "With these new features, we'll try classifying the names again and see how well the models perform."
   ]
  },
  {
   "cell_type": "code",
   "execution_count": 17,
   "id": "b2d70602",
   "metadata": {},
   "outputs": [
    {
     "name": "stdout",
     "output_type": "stream",
     "text": [
      "\n",
      "--- Results for Last Two Letters, First Letter, & Longest Consonant Chain (on DEV-TEST set) ---\n",
      "NaiveBayes Dev-Test Accuracy: 79.60%\n",
      "DecisionTree Dev-Test Accuracy: 34.20%\n",
      "MaxentClassifier Dev-Test Accuracy: 78.00%\n",
      "\n",
      "The best classifier is NaiveBayes with a dev-test accuracy of 79.60%\n",
      "\n",
      "Most Informative Features\n",
      "    get_two_last_letters = 'na'           female : male   =     90.6 : 1.0\n",
      "    get_two_last_letters = 'la'           female : male   =     69.0 : 1.0\n",
      "    get_two_last_letters = 'ia'           female : male   =     52.6 : 1.0\n",
      "    get_two_last_letters = 'us'             male : female =     36.3 : 1.0\n",
      "    get_two_last_letters = 'sa'           female : male   =     33.7 : 1.0\n",
      "    get_two_last_letters = 'ra'           female : male   =     23.6 : 1.0\n",
      "    get_two_last_letters = 'rd'             male : female =     23.0 : 1.0\n",
      "    get_two_last_letters = 'ta'           female : male   =     21.4 : 1.0\n",
      "    get_two_last_letters = 'ld'             male : female =     18.3 : 1.0\n",
      "    get_two_last_letters = 'do'             male : female =     16.3 : 1.0\n",
      "    get_two_last_letters = 'io'             male : female =     15.0 : 1.0\n",
      " longest_consonant_chain = 'rv'             male : female =     15.0 : 1.0\n",
      "    get_two_last_letters = 'ka'           female : male   =     12.3 : 1.0\n",
      "    get_two_last_letters = 'os'             male : female =     12.3 : 1.0\n",
      " longest_consonant_chain = 'rk'             male : female =     11.0 : 1.0\n",
      "    get_two_last_letters = 'im'             male : female =      9.7 : 1.0\n",
      " longest_consonant_chain = 'lt'             male : female =      9.0 : 1.0\n",
      "    get_two_last_letters = 'ch'             male : female =      9.0 : 1.0\n",
      " longest_consonant_chain = 'lyn'          female : male   =      8.6 : 1.0\n",
      "    get_two_last_letters = 'ee'           female : male   =      7.9 : 1.0\n"
     ]
    }
   ],
   "source": [
    "# We'll define a new function to just pass the dataframe and do all of the previous steps\n",
    "def dataframe_to_classifiers(df, training_cycle_name):\n",
    "    # Split the data (suppress verbose output)\n",
    "    x_train_resampled, x_devtest, x_test, y_train_resampled, y_devtest, y_test = split_data_for_nltk(df, verbose=False)\n",
    "    \n",
    "    # Convert to NLTK format\n",
    "    train_nltk_data = prepare_data_for_nltk(x_train_resampled, y_train_resampled)\n",
    "    devtest_nltk_data = prepare_data_for_nltk(x_devtest, y_devtest)\n",
    "    test_nltk_data = prepare_data_for_nltk(x_test, y_test)\n",
    "\n",
    "    # Train all three classifiers with the new features\n",
    "    classifiers = train_nltk_classifiers(train_nltk_data)\n",
    "    \n",
    "    print(f\"\\n--- Results for {training_cycle_name} (on DEV-TEST set) ---\")\n",
    "\n",
    "    best_classifier = None\n",
    "    best_classifier_name = None\n",
    "    best_accuracy = 0\n",
    "\n",
    "    # Evaluate each classifier on dev-test set\n",
    "    for name, classifier in classifiers.items():\n",
    "        accuracy = nltk.classify.accuracy(classifier, devtest_nltk_data)\n",
    "        print(f\"{name} Dev-Test Accuracy: {accuracy * 100:.2f}%\")\n",
    "        \n",
    "        if accuracy > best_accuracy:\n",
    "            best_classifier = classifier\n",
    "            best_classifier_name = name\n",
    "            best_accuracy = accuracy\n",
    "\n",
    "    print(f\"\\nThe best classifier is {best_classifier_name} with a dev-test accuracy of {best_accuracy * 100:.2f}%\\n\")\n",
    "    best_classifier.show_most_informative_features(20)\n",
    "    \n",
    "    # Return both dev-test and test sets (NLTK format) along with the chosen classifier.\n",
    "    # This avoids relying on global variables later and makes the evaluation explicit.\n",
    "    return devtest_nltk_data, test_nltk_data, best_classifier\n",
    "\n",
    "# Run iteration 3 with new features\n",
    "# Capture both dev-test and test NLTK datasets plus the chosen classifier so\n",
    "# final evaluation uses the exact splits produced during this run.\n",
    "devtest_data_final, test_data_final, best_classifier = dataframe_to_classifiers(\n",
    "    iteration_3_df,\n",
    "    \"Last Two Letters, First Letter, & Longest Consonant Chain\"\n",
    ")\n"
   ]
  },
  {
   "cell_type": "markdown",
   "id": "1abaa8be",
   "metadata": {},
   "source": [
    "The Naive Bayes Classifier remains the best model choice, performing slightly better than our first model with a minor improvement in accuracy from correctly predicting 75.2% of genders in the test set to 79.6%. The last 2 letters remain the most informative feature in the data, but we can now see that consonant runs like \"rv\", \"rk\", and \"lt\" are important for predicting male names, and \"lyn\" can help predict female names.\n",
    "\n",
    "## Final Evaluation on Test Set\n",
    "\n",
    "Now that we're satisfied with our best model from the two dev test iterations, we evaluate it on the held-out test set to get a final estimate of \"real-world\" performance."
   ]
  },
  {
   "cell_type": "code",
   "execution_count": 18,
   "id": "2f64fa48",
   "metadata": {},
   "outputs": [
    {
     "name": "stdout",
     "output_type": "stream",
     "text": [
      "\n",
      "Dev-Test Accuracy: 79.60%\n",
      "Test Accuracy: 77.40%\n",
      "\n",
      "Difference (Test - Dev-Test): -2.20 percentage points\n"
     ]
    }
   ],
   "source": [
    "# Final evaluation on the test set\n",
    "# Accuracy based on dev-test set (same what's reported above)\n",
    "# Use the dev/test NLTK datasets returned from the classifier function to avoid\n",
    "# accidentally referencing older global variables.\n",
    "devtest_accuracy = nltk.classify.accuracy(best_classifier, devtest_data_final)\n",
    "print(f\"\\nDev-Test Accuracy: {devtest_accuracy * 100:.2f}%\")\n",
    "\n",
    "# Accuracy based on test set\n",
    "test_accuracy = nltk.classify.accuracy(best_classifier, test_nltk_data)\n",
    "print(f\"Test Accuracy: {test_accuracy * 100:.2f}%\")\n",
    "\n",
    "# Compare the two\n",
    "difference = test_accuracy - devtest_accuracy\n",
    "print(f\"\\nDifference (Test - Dev-Test): {difference * 100:.2f} percentage points\")\n"
   ]
  },
  {
   "cell_type": "markdown",
   "id": "5d45746b",
   "metadata": {},
   "source": [
    "The dev-test and test accuracy are similar--within 2 percentage points of eachother--indicating that our model generalizes well and is not overfitted. This is in line with our expectations."
   ]
  },
  {
   "cell_type": "markdown",
   "id": "85897668",
   "metadata": {},
   "source": [
    "## References\n",
    "\n",
    "Hopkins, M., Reeber, E., Forman, G., & Suermondt, J. (1999). Spambase [Dataset]. UCI Machine Learning Repository. https://doi.org/10.24432/C53G6X."
   ]
  }
 ],
 "metadata": {
  "kernelspec": {
   "display_name": "base",
   "language": "python",
   "name": "python3"
  },
  "language_info": {
   "codemirror_mode": {
    "name": "ipython",
    "version": 3
   },
   "file_extension": ".py",
   "mimetype": "text/x-python",
   "name": "python",
   "nbconvert_exporter": "python",
   "pygments_lexer": "ipython3",
   "version": "3.13.5"
  }
 },
 "nbformat": 4,
 "nbformat_minor": 5
}
